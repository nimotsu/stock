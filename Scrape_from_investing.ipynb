{
 "cells": [
  {
   "cell_type": "code",
   "execution_count": 15,
   "metadata": {},
   "outputs": [],
   "source": [
    "%load_ext autoreload\n",
    "%autoreload 2\n",
    "\n",
    "from stock import Stock\n",
    "from stock import Webpage\n",
    "from stock import url2html\n",
    "from scrape import search\n",
    "\n",
    "import requests\n",
    "import pandas as pd\n",
    "import re\n",
    "from bs4 import BeautifulSoup\n",
    "import xlsxwriter"
   ]
  },
  {
   "cell_type": "code",
   "execution_count": 22,
   "metadata": {},
   "outputs": [
    {
     "name": "stdout",
     "output_type": "stream",
     "text": [
      "Stock Cd: maxis-bhd\n",
      "Stock Id: 41688\n",
      "Growth Rate: 0.08\n",
      "Beta: 0.49\n",
      "Discount Rate: 0.09\n"
     ]
    }
   ],
   "source": [
    "maxis = Stock(\"maxis-bhd\")"
   ]
  },
  {
   "cell_type": "code",
   "execution_count": 8,
   "metadata": {
    "scrolled": true
   },
   "outputs": [
    {
     "data": {
      "text/html": [
       "<div>\n",
       "<style scoped>\n",
       "    .dataframe tbody tr th:only-of-type {\n",
       "        vertical-align: middle;\n",
       "    }\n",
       "\n",
       "    .dataframe tbody tr th {\n",
       "        vertical-align: top;\n",
       "    }\n",
       "\n",
       "    .dataframe thead th {\n",
       "        text-align: right;\n",
       "    }\n",
       "</style>\n",
       "<table border=\"1\" class=\"dataframe\">\n",
       "  <thead>\n",
       "    <tr style=\"text-align: right;\">\n",
       "      <th></th>\n",
       "      <th>0</th>\n",
       "      <th>1</th>\n",
       "      <th>2</th>\n",
       "      <th>3</th>\n",
       "      <th>4</th>\n",
       "    </tr>\n",
       "  </thead>\n",
       "  <tbody>\n",
       "    <tr>\n",
       "      <th>0</th>\n",
       "      <td>Total Current Assets</td>\n",
       "      <td>2986</td>\n",
       "      <td>2667.66</td>\n",
       "      <td>2470.2</td>\n",
       "      <td>2457.88</td>\n",
       "    </tr>\n",
       "    <tr>\n",
       "      <th>2</th>\n",
       "      <td>Cash and Short Term Investments</td>\n",
       "      <td>582</td>\n",
       "      <td>560.46</td>\n",
       "      <td>602.13</td>\n",
       "      <td>682.35</td>\n",
       "    </tr>\n",
       "    <tr>\n",
       "      <th>3</th>\n",
       "      <td>Cash</td>\n",
       "      <td>137</td>\n",
       "      <td>190.18</td>\n",
       "      <td>162.76</td>\n",
       "      <td>197.1</td>\n",
       "    </tr>\n",
       "    <tr>\n",
       "      <th>4</th>\n",
       "      <td>Cash &amp; Equivalents</td>\n",
       "      <td>582</td>\n",
       "      <td>560</td>\n",
       "      <td>602</td>\n",
       "      <td>-</td>\n",
       "    </tr>\n",
       "    <tr>\n",
       "      <th>5</th>\n",
       "      <td>Short Term Investments</td>\n",
       "      <td>445</td>\n",
       "      <td>370.27</td>\n",
       "      <td>439.37</td>\n",
       "      <td>485.24</td>\n",
       "    </tr>\n",
       "    <tr>\n",
       "      <th>6</th>\n",
       "      <td>Total Receivables, Net</td>\n",
       "      <td>1961</td>\n",
       "      <td>1711.22</td>\n",
       "      <td>1510.83</td>\n",
       "      <td>1295.42</td>\n",
       "    </tr>\n",
       "    <tr>\n",
       "      <th>7</th>\n",
       "      <td>Accounts Receivables - Trade, Net</td>\n",
       "      <td>1349</td>\n",
       "      <td>1111.88</td>\n",
       "      <td>1104.94</td>\n",
       "      <td>976.66</td>\n",
       "    </tr>\n",
       "    <tr>\n",
       "      <th>8</th>\n",
       "      <td>Total Inventory</td>\n",
       "      <td>3</td>\n",
       "      <td>15.92</td>\n",
       "      <td>4.49</td>\n",
       "      <td>5.94</td>\n",
       "    </tr>\n",
       "    <tr>\n",
       "      <th>9</th>\n",
       "      <td>Prepaid Expenses</td>\n",
       "      <td>157</td>\n",
       "      <td>159.33</td>\n",
       "      <td>156.34</td>\n",
       "      <td>210.44</td>\n",
       "    </tr>\n",
       "    <tr>\n",
       "      <th>10</th>\n",
       "      <td>Other Current Assets, Total</td>\n",
       "      <td>283</td>\n",
       "      <td>220.73</td>\n",
       "      <td>196.41</td>\n",
       "      <td>263.73</td>\n",
       "    </tr>\n",
       "    <tr>\n",
       "      <th>11</th>\n",
       "      <td>Total Assets</td>\n",
       "      <td>21437</td>\n",
       "      <td>19806.56</td>\n",
       "      <td>19134.44</td>\n",
       "      <td>19643.08</td>\n",
       "    </tr>\n",
       "    <tr>\n",
       "      <th>13</th>\n",
       "      <td>Property/Plant/Equipment, Total - Net</td>\n",
       "      <td>5954</td>\n",
       "      <td>5189.39</td>\n",
       "      <td>4841.26</td>\n",
       "      <td>4502.02</td>\n",
       "    </tr>\n",
       "    <tr>\n",
       "      <th>14</th>\n",
       "      <td>Property/Plant/Equipment, Total - Gross</td>\n",
       "      <td>12768</td>\n",
       "      <td>12063.81</td>\n",
       "      <td>10951.83</td>\n",
       "      <td>9740.88</td>\n",
       "    </tr>\n",
       "    <tr>\n",
       "      <th>15</th>\n",
       "      <td>Accumulated Depreciation, Total</td>\n",
       "      <td>-6814</td>\n",
       "      <td>-6874.42</td>\n",
       "      <td>-6110.56</td>\n",
       "      <td>-5238.86</td>\n",
       "    </tr>\n",
       "    <tr>\n",
       "      <th>16</th>\n",
       "      <td>Goodwill, Net</td>\n",
       "      <td>219</td>\n",
       "      <td>219.09</td>\n",
       "      <td>219.09</td>\n",
       "      <td>219.09</td>\n",
       "    </tr>\n",
       "    <tr>\n",
       "      <th>17</th>\n",
       "      <td>Intangibles, Net</td>\n",
       "      <td>11091</td>\n",
       "      <td>10707.38</td>\n",
       "      <td>10707.38</td>\n",
       "      <td>11077.54</td>\n",
       "    </tr>\n",
       "    <tr>\n",
       "      <th>18</th>\n",
       "      <td>Long Term Investments</td>\n",
       "      <td>4</td>\n",
       "      <td>3.62</td>\n",
       "      <td>-</td>\n",
       "      <td>-</td>\n",
       "    </tr>\n",
       "    <tr>\n",
       "      <th>19</th>\n",
       "      <td>Note Receivable - Long Term</td>\n",
       "      <td>1183</td>\n",
       "      <td>1018.06</td>\n",
       "      <td>886.33</td>\n",
       "      <td>871.28</td>\n",
       "    </tr>\n",
       "    <tr>\n",
       "      <th>20</th>\n",
       "      <td>Other Long Term Assets, Total</td>\n",
       "      <td>-</td>\n",
       "      <td>1.38</td>\n",
       "      <td>10.19</td>\n",
       "      <td>515.27</td>\n",
       "    </tr>\n",
       "    <tr>\n",
       "      <th>21</th>\n",
       "      <td>Other Assets, Total</td>\n",
       "      <td>-</td>\n",
       "      <td>-</td>\n",
       "      <td>-</td>\n",
       "      <td>-</td>\n",
       "    </tr>\n",
       "    <tr>\n",
       "      <th>22</th>\n",
       "      <td>Total Current Liabilities</td>\n",
       "      <td>5657</td>\n",
       "      <td>4542.01</td>\n",
       "      <td>3944.8</td>\n",
       "      <td>4996.61</td>\n",
       "    </tr>\n",
       "    <tr>\n",
       "      <th>24</th>\n",
       "      <td>Accounts Payable</td>\n",
       "      <td>25</td>\n",
       "      <td>5.03</td>\n",
       "      <td>24.88</td>\n",
       "      <td>2048.57</td>\n",
       "    </tr>\n",
       "    <tr>\n",
       "      <th>25</th>\n",
       "      <td>Payable/Accrued</td>\n",
       "      <td>2537</td>\n",
       "      <td>2183.94</td>\n",
       "      <td>2094.77</td>\n",
       "      <td>-</td>\n",
       "    </tr>\n",
       "    <tr>\n",
       "      <th>26</th>\n",
       "      <td>Accrued Expenses</td>\n",
       "      <td>-</td>\n",
       "      <td>-</td>\n",
       "      <td>-</td>\n",
       "      <td>708.82</td>\n",
       "    </tr>\n",
       "    <tr>\n",
       "      <th>27</th>\n",
       "      <td>Notes Payable/Short Term Debt</td>\n",
       "      <td>905</td>\n",
       "      <td>200.53</td>\n",
       "      <td>200.37</td>\n",
       "      <td>500</td>\n",
       "    </tr>\n",
       "    <tr>\n",
       "      <th>28</th>\n",
       "      <td>Current Port. of LT Debt/Capital Leases</td>\n",
       "      <td>148</td>\n",
       "      <td>0.56</td>\n",
       "      <td>4.99</td>\n",
       "      <td>601.29</td>\n",
       "    </tr>\n",
       "    <tr>\n",
       "      <th>29</th>\n",
       "      <td>Other Current liabilities, Total</td>\n",
       "      <td>2042</td>\n",
       "      <td>2151.95</td>\n",
       "      <td>1619.79</td>\n",
       "      <td>1137.93</td>\n",
       "    </tr>\n",
       "    <tr>\n",
       "      <th>30</th>\n",
       "      <td>Total Liabilities</td>\n",
       "      <td>14367</td>\n",
       "      <td>12656.83</td>\n",
       "      <td>12188.43</td>\n",
       "      <td>14922.18</td>\n",
       "    </tr>\n",
       "    <tr>\n",
       "      <th>32</th>\n",
       "      <td>Total Long Term Debt</td>\n",
       "      <td>7894</td>\n",
       "      <td>7439.12</td>\n",
       "      <td>7439.94</td>\n",
       "      <td>8762.73</td>\n",
       "    </tr>\n",
       "    <tr>\n",
       "      <th>33</th>\n",
       "      <td>Long Term Debt</td>\n",
       "      <td>6934</td>\n",
       "      <td>7439.12</td>\n",
       "      <td>7439.18</td>\n",
       "      <td>8760.88</td>\n",
       "    </tr>\n",
       "    <tr>\n",
       "      <th>34</th>\n",
       "      <td>Capital Lease Obligations</td>\n",
       "      <td>960</td>\n",
       "      <td>-</td>\n",
       "      <td>0.76</td>\n",
       "      <td>1.84</td>\n",
       "    </tr>\n",
       "    <tr>\n",
       "      <th>35</th>\n",
       "      <td>Deferred Income Tax</td>\n",
       "      <td>221</td>\n",
       "      <td>195.77</td>\n",
       "      <td>405.97</td>\n",
       "      <td>580.39</td>\n",
       "    </tr>\n",
       "    <tr>\n",
       "      <th>36</th>\n",
       "      <td>Minority Interest</td>\n",
       "      <td>-</td>\n",
       "      <td>-</td>\n",
       "      <td>-</td>\n",
       "      <td>-</td>\n",
       "    </tr>\n",
       "    <tr>\n",
       "      <th>37</th>\n",
       "      <td>Other Liabilities, Total</td>\n",
       "      <td>595</td>\n",
       "      <td>479.93</td>\n",
       "      <td>397.72</td>\n",
       "      <td>582.46</td>\n",
       "    </tr>\n",
       "    <tr>\n",
       "      <th>38</th>\n",
       "      <td>Total Equity</td>\n",
       "      <td>7070</td>\n",
       "      <td>7149.73</td>\n",
       "      <td>6946.01</td>\n",
       "      <td>4720.9</td>\n",
       "    </tr>\n",
       "    <tr>\n",
       "      <th>40</th>\n",
       "      <td>Redeemable Preferred Stock, Total</td>\n",
       "      <td>-</td>\n",
       "      <td>-</td>\n",
       "      <td>-</td>\n",
       "      <td>-</td>\n",
       "    </tr>\n",
       "    <tr>\n",
       "      <th>41</th>\n",
       "      <td>Preferred Stock - Non Redeemable, Net</td>\n",
       "      <td>-</td>\n",
       "      <td>-</td>\n",
       "      <td>-</td>\n",
       "      <td>-</td>\n",
       "    </tr>\n",
       "    <tr>\n",
       "      <th>42</th>\n",
       "      <td>Common Stock, Total</td>\n",
       "      <td>2532</td>\n",
       "      <td>2508.64</td>\n",
       "      <td>2468.94</td>\n",
       "      <td>751.03</td>\n",
       "    </tr>\n",
       "    <tr>\n",
       "      <th>43</th>\n",
       "      <td>Additional Paid-In Capital</td>\n",
       "      <td>-</td>\n",
       "      <td>-</td>\n",
       "      <td>-</td>\n",
       "      <td>61.97</td>\n",
       "    </tr>\n",
       "    <tr>\n",
       "      <th>44</th>\n",
       "      <td>Retained Earnings (Accumulated Deficit)</td>\n",
       "      <td>4538</td>\n",
       "      <td>4641.09</td>\n",
       "      <td>4477.07</td>\n",
       "      <td>3907.89</td>\n",
       "    </tr>\n",
       "    <tr>\n",
       "      <th>45</th>\n",
       "      <td>Treasury Stock - Common</td>\n",
       "      <td>-</td>\n",
       "      <td>-</td>\n",
       "      <td>-</td>\n",
       "      <td>-</td>\n",
       "    </tr>\n",
       "    <tr>\n",
       "      <th>46</th>\n",
       "      <td>ESOP Debt Guarantee</td>\n",
       "      <td>-</td>\n",
       "      <td>-</td>\n",
       "      <td>-</td>\n",
       "      <td>-</td>\n",
       "    </tr>\n",
       "    <tr>\n",
       "      <th>47</th>\n",
       "      <td>Unrealized Gain (Loss)</td>\n",
       "      <td>-</td>\n",
       "      <td>-</td>\n",
       "      <td>-</td>\n",
       "      <td>-</td>\n",
       "    </tr>\n",
       "    <tr>\n",
       "      <th>48</th>\n",
       "      <td>Other Equity, Total</td>\n",
       "      <td>-</td>\n",
       "      <td>-</td>\n",
       "      <td>-</td>\n",
       "      <td>145.38</td>\n",
       "    </tr>\n",
       "    <tr>\n",
       "      <th>49</th>\n",
       "      <td>Total Liabilities &amp; Shareholders' Equity</td>\n",
       "      <td>21437</td>\n",
       "      <td>19806.56</td>\n",
       "      <td>19134.44</td>\n",
       "      <td>19643.08</td>\n",
       "    </tr>\n",
       "    <tr>\n",
       "      <th>50</th>\n",
       "      <td>Total Common Shares Outstanding</td>\n",
       "      <td>7820.5</td>\n",
       "      <td>7816.65</td>\n",
       "      <td>7810.56</td>\n",
       "      <td>7510.31</td>\n",
       "    </tr>\n",
       "    <tr>\n",
       "      <th>51</th>\n",
       "      <td>Total Preferred Shares Outstanding</td>\n",
       "      <td>-</td>\n",
       "      <td>-</td>\n",
       "      <td>-</td>\n",
       "      <td>-</td>\n",
       "    </tr>\n",
       "    <tr>\n",
       "      <th>52</th>\n",
       "      <td>Period Ending:</td>\n",
       "      <td>201931/12</td>\n",
       "      <td>201831/12</td>\n",
       "      <td>201731/12</td>\n",
       "      <td>201631/12</td>\n",
       "    </tr>\n",
       "  </tbody>\n",
       "</table>\n",
       "</div>"
      ],
      "text/plain": [
       "                                           0          1          2          3  \\\n",
       "0                       Total Current Assets       2986    2667.66     2470.2   \n",
       "2            Cash and Short Term Investments        582     560.46     602.13   \n",
       "3                                       Cash        137     190.18     162.76   \n",
       "4                         Cash & Equivalents        582        560        602   \n",
       "5                     Short Term Investments        445     370.27     439.37   \n",
       "6                     Total Receivables, Net       1961    1711.22    1510.83   \n",
       "7          Accounts Receivables - Trade, Net       1349    1111.88    1104.94   \n",
       "8                            Total Inventory          3      15.92       4.49   \n",
       "9                           Prepaid Expenses        157     159.33     156.34   \n",
       "10               Other Current Assets, Total        283     220.73     196.41   \n",
       "11                              Total Assets      21437   19806.56   19134.44   \n",
       "13     Property/Plant/Equipment, Total - Net       5954    5189.39    4841.26   \n",
       "14   Property/Plant/Equipment, Total - Gross      12768   12063.81   10951.83   \n",
       "15           Accumulated Depreciation, Total      -6814   -6874.42   -6110.56   \n",
       "16                             Goodwill, Net        219     219.09     219.09   \n",
       "17                          Intangibles, Net      11091   10707.38   10707.38   \n",
       "18                     Long Term Investments          4       3.62          -   \n",
       "19               Note Receivable - Long Term       1183    1018.06     886.33   \n",
       "20             Other Long Term Assets, Total          -       1.38      10.19   \n",
       "21                       Other Assets, Total          -          -          -   \n",
       "22                 Total Current Liabilities       5657    4542.01     3944.8   \n",
       "24                          Accounts Payable         25       5.03      24.88   \n",
       "25                           Payable/Accrued       2537    2183.94    2094.77   \n",
       "26                          Accrued Expenses          -          -          -   \n",
       "27             Notes Payable/Short Term Debt        905     200.53     200.37   \n",
       "28   Current Port. of LT Debt/Capital Leases        148       0.56       4.99   \n",
       "29          Other Current liabilities, Total       2042    2151.95    1619.79   \n",
       "30                         Total Liabilities      14367   12656.83   12188.43   \n",
       "32                      Total Long Term Debt       7894    7439.12    7439.94   \n",
       "33                            Long Term Debt       6934    7439.12    7439.18   \n",
       "34                 Capital Lease Obligations        960          -       0.76   \n",
       "35                       Deferred Income Tax        221     195.77     405.97   \n",
       "36                         Minority Interest          -          -          -   \n",
       "37                  Other Liabilities, Total        595     479.93     397.72   \n",
       "38                              Total Equity       7070    7149.73    6946.01   \n",
       "40         Redeemable Preferred Stock, Total          -          -          -   \n",
       "41     Preferred Stock - Non Redeemable, Net          -          -          -   \n",
       "42                       Common Stock, Total       2532    2508.64    2468.94   \n",
       "43                Additional Paid-In Capital          -          -          -   \n",
       "44   Retained Earnings (Accumulated Deficit)       4538    4641.09    4477.07   \n",
       "45                   Treasury Stock - Common          -          -          -   \n",
       "46                       ESOP Debt Guarantee          -          -          -   \n",
       "47                    Unrealized Gain (Loss)          -          -          -   \n",
       "48                       Other Equity, Total          -          -          -   \n",
       "49  Total Liabilities & Shareholders' Equity      21437   19806.56   19134.44   \n",
       "50           Total Common Shares Outstanding     7820.5    7816.65    7810.56   \n",
       "51        Total Preferred Shares Outstanding          -          -          -   \n",
       "52                            Period Ending:  201931/12  201831/12  201731/12   \n",
       "\n",
       "            4  \n",
       "0     2457.88  \n",
       "2      682.35  \n",
       "3       197.1  \n",
       "4           -  \n",
       "5      485.24  \n",
       "6     1295.42  \n",
       "7      976.66  \n",
       "8        5.94  \n",
       "9      210.44  \n",
       "10     263.73  \n",
       "11   19643.08  \n",
       "13    4502.02  \n",
       "14    9740.88  \n",
       "15   -5238.86  \n",
       "16     219.09  \n",
       "17   11077.54  \n",
       "18          -  \n",
       "19     871.28  \n",
       "20     515.27  \n",
       "21          -  \n",
       "22    4996.61  \n",
       "24    2048.57  \n",
       "25          -  \n",
       "26     708.82  \n",
       "27        500  \n",
       "28     601.29  \n",
       "29    1137.93  \n",
       "30   14922.18  \n",
       "32    8762.73  \n",
       "33    8760.88  \n",
       "34       1.84  \n",
       "35     580.39  \n",
       "36          -  \n",
       "37     582.46  \n",
       "38     4720.9  \n",
       "40          -  \n",
       "41          -  \n",
       "42     751.03  \n",
       "43      61.97  \n",
       "44    3907.89  \n",
       "45          -  \n",
       "46          -  \n",
       "47          -  \n",
       "48     145.38  \n",
       "49   19643.08  \n",
       "50    7510.31  \n",
       "51          -  \n",
       "52  201631/12  "
      ]
     },
     "execution_count": 8,
     "metadata": {},
     "output_type": "execute_result"
    }
   ],
   "source": [
    "maxis.balance_sheet"
   ]
  },
  {
   "cell_type": "code",
   "execution_count": 20,
   "metadata": {},
   "outputs": [],
   "source": [
    "url = \"https://simplywall.st/stocks/my/transportation/klse-airasia/airasia-group-berhad-shares\"\n",
    "html = url2html(url)\n",
    "soup = BeautifulSoup(html)"
   ]
  },
  {
   "cell_type": "code",
   "execution_count": 60,
   "metadata": {},
   "outputs": [
    {
     "data": {
      "text/plain": [
       "'1.75'"
      ]
     },
     "execution_count": 60,
     "metadata": {},
     "output_type": "execute_result"
    }
   ],
   "source": [
    "m = re.search(r\"fair value \\(MYR([+-]?\\d+\\.\\d+)\\)\", soup.text)\n",
    "m.groups()[0]"
   ]
  },
  {
   "cell_type": "code",
   "execution_count": null,
   "metadata": {},
   "outputs": [],
   "source": []
  },
  {
   "cell_type": "code",
   "execution_count": null,
   "metadata": {},
   "outputs": [],
   "source": []
  },
  {
   "cell_type": "code",
   "execution_count": 9,
   "metadata": {},
   "outputs": [],
   "source": [
    "https://klse.i3investor.com/servlets/stk/fin/6012.jsp?type=summary"
   ]
  },
  {
   "cell_type": "code",
   "execution_count": 16,
   "metadata": {},
   "outputs": [],
   "source": [
    "html = url2html(\"https://klse.i3investor.com/servlets/stk/fin/6012.jsp?type=summary\")"
   ]
  },
  {
   "cell_type": "code",
   "execution_count": 124,
   "metadata": {},
   "outputs": [
    {
     "name": "stdout",
     "output_type": "stream",
     "text": [
      "NESTLE: NESTLE MALAYSIA BHD\n",
      "\n"
     ]
    }
   ],
   "source": [
    "headers = {\n",
    "    'User-Agent': 'Mozilla',\n",
    "}\n",
    "\n",
    "params = (\n",
    "    ('qt', 'lscomn'),\n",
    "    ('qp', 'nestle'),\n",
    ")\n",
    "\n",
    "response = requests.get('https://klse.i3investor.com/cmservlet.jsp', headers=headers, params=params)\n",
    "print(response.text)"
   ]
  },
  {
   "cell_type": "code",
   "execution_count": 126,
   "metadata": {},
   "outputs": [
    {
     "data": {
      "text/plain": [
       "'NESTLE'"
      ]
     },
     "execution_count": 126,
     "metadata": {},
     "output_type": "execute_result"
    }
   ],
   "source": [
    "query = response.text.split(\":\")[0]"
   ]
  },
  {
   "cell_type": "code",
   "execution_count": null,
   "metadata": {},
   "outputs": [],
   "source": []
  },
  {
   "cell_type": "code",
   "execution_count": 90,
   "metadata": {},
   "outputs": [],
   "source": [
    "params = (\n",
    "    ('sa', 'ss'),\n",
    "    ('q', query),\n",
    ")\n",
    "\n",
    "response = requests.get('https://klse.i3investor.com/quoteservlet.jsp', headers=headers, params=params)"
   ]
  },
  {
   "cell_type": "code",
   "execution_count": 91,
   "metadata": {},
   "outputs": [
    {
     "data": {
      "text/plain": [
       "'     <!DOCTYPE html PUBLIC \"-//W3C//DTD XHTML 1.0 Transitional//EN\" \"http://www.w3.org/TR/xhtml1/DTD/xhtml1-transitional.dtd\">\\n <html xmlns=\"http://www.w3.org/1999/xhtml\" xml:lang=\"en\" lang=\"en\">\\n <head>        <title>HLBANK (5819): HONG LEONG BANK BHD - Overview | I3investor</title> <meta http-equiv=\"content-type\" content=\"text/html; charset=utf-8\" /> <meta name=\"description\" content=\"Stock: HLBANK (5819), Company: HONG LEONG BANK BHD, Description: Hong Leong Bank Bhd is based primarily in Malaysia with a regional presence in other Southeast Asian countries, Hong Kong, and mainland China. The bank’s strategy emphasizes technology while offering diverse financial products to its Islamic target base. Its services include personal financial services, business and corporate banking, trade finance, treasury, branch and transaction banking, wealth management, investment banking, and Islamic financial services. A majority of the bank’s earning assets are loans, advances, and financing. Net interest income constitutes the bulk of the bank’s income generation. Most of its revenue is derived from personal financial services.\" /> <meta name=\"keywords\" content=\"HLBANK,HLBANK Overview,HLBANK Stock Price,5819,HONG LEONG BANK BHD\" />  <meta property=\"og:image\" content=\"https://cdn1.i3investor.com/cm/icon/i3_icon200.png\" /> \\n <script src=\"/cdn-cgi/apps/head/VLOQ08kpvHoMeJ0L2yVE3Ts1HWg.js\"></script><script type=\"application/ld+json\">{\"@context\": \"http://schema.org\",\"@type\": \"WebPage\",\"breadcrumb\": \"I3investor > Quotes > Stock Detail\",\"offers\": {\"@type\": \"Offer\", \"price\": \"14.54\", \"priceCurrency\": \"MYR\"},\"name\": \"HLBANK (5819): HONG LEONG BANK BHD\"}</script>  <link rel=\"alternate\" href=\"https://klse.i3investor.com/m/stock/overview/5819.jsp\" media=\"only screen and (max-width: 640px)\" />  <link rel=\"icon\" href=\"//cdn1.i3investor.com/cm/icon/favicon.ico\" type=\"image/x-icon\" /> <link rel=\"shortcut icon\" href=\"//cdn1.i3investor.com/cm/icon/favicon.ico\" type=\"image/x-icon\" /> <script src=\"//ajax.googleapis.com/ajax/libs/jquery/1.10.2/jquery.min.js\"></script>\\n  <link rel=\"stylesheet\" type=\"text/css\" href=\"//code.jquery.com/ui/1.10.3/themes/cupertino/jquery-ui.min.css\" media=\"all\" />\\n <script type=\"text/javascript\" src=\"//code.jquery.com/ui/1.10.3/jquery-ui.min.js\"></script> \\n    <link rel=\"stylesheet\" href=\"//cdn1.i3investor.com/cm/datatable/dataTables.jqueryui.css\"/> <script src=\"//cdn1.i3investor.com/cm/datatable/jquery.dataTables.min.js\"></script> <script src=\"//cdn1.i3investor.com/cm/datatable/moment.min.js\"></script> <script src=\"//cdn1.i3investor.com/cm/datatable/datetime-moment.js\"></script> <script type=\"text/javascript\"> $.fn.dataTable.moment( \\'DD-MMM-YYYY\\' ); </script>  <style type=\"text/css\"> .dataTables_wrapper , .dataTables_wrapper label{ font-family:Verdana, Arial, Helvetica, fantasy, sans-serif !important; font-size: 12px !important; } .dataTables_wrapper .fg-toolbar{ height: 23px !important; } .dataTables_wrapper .dataTables_length select { font-family:Arial !important; font-size: 13.3333px !important; height: 23px !important; width: 50px !important; margin-bottom: 0px !important; margin-left: 0px !important; margin-right: 0px !important; margin-top: 0px !important; } .dataTables_wrapper input { background-color:rgb(255, 255, 238) !important; font-family:Arial !important; font-size: 13.3333px !important; border-color: rgb(144, 176, 208) !important; height: 21px !important; line-height: normal !important; margin-bottom: 0px !important; margin-left: 0.5em !important; margin-right: 0px !important; margin-top: 0px !important; padding-top: 2px !important; padding-bottom: 2px !important; padding-left: 2px !important; padding-right: 2px !important; } </style>  \\n    <link href=\"//cdn1.i3investor.com/cm/bootstrap/css/bootstrap.min2.i3.css\" rel=\"stylesheet\" media=\"all\" /> <script src=\"//cdn1.i3investor.com/cm/bootstrap/js/bootstrap.min.js\"></script> <style type=\"text/css\">   a.menu:after, .dropdown-toggle:after {content: none;} .navbar .dropdown-menu {margin-top: 0px;} .navbar .dropdown-toggle {font-weight:bold} #nav li {line-height:16px}  </style>  \\n  <link rel=\"stylesheet\" type=\"text/css\" href=\"//cdn1.i3investor.com/cm/css/main.all-8.10.css\" media=\"all\" /> <script type=\"text/javascript\" src=\"//cdn1.i3investor.com/cm/js/main.all-2.31.js\"></script>  <script type=\"text/javascript\"> if (top != self) { top.location.href = self.location.href; } </script>        <script async=\\'async\\' src=\\'https://www.googletagservices.com/tag/js/gpt.js\\'></script>\\n  <script> var tgsection=[\\'STOCK\\']; var tgssize=[\\'small\\']; var tgsite=[\\'klse\\']; document.domain = \"i3investor.com\"; function initDfpAds() {  //top leaderboard\\n googletag.defineSlot(\\'/8799320/i3_large_leaderboard\\', [970, 90], \\'div-gpt-ad-1414145945578-1\\').addService(googletag.pubads());  \\n googletag.defineSlot(\\'/8799320/i3_sidebox_200x200\\', [200, 200], \\'div-gpt-ad-1414145945578-7\\').addService(googletag.pubads()); googletag.defineSlot(\\'/8799320/i3_side_skyscraper_160x600\\', [160, 600], \\'div-gpt-ad-1414145945578-6\\').addService(googletag.pubads());  // from ads_banner.jsp -- bottom banner\\n googletag.defineSlot(\\'/8799320/i3_center_banner_728x90\\', [728, 90], \\'div-gpt-ad-1414145945578-0\\').addService(googletag.pubads());    googletag.defineOutOfPageSlot(\\'/8799320/i3_1x1desktop\\', \\'div-gpt-ad-1498803871235-0\\').addService(googletag.pubads()); googletag.defineSlot(\\'/8799320/i3_1x1_desktop_inpage\\', [1, 1], \\'div-gpt-ad-1553785373366-0\\').addService(googletag.pubads());  googletag.pubads().enableSingleRequest(); googletag.pubads().collapseEmptyDivs(); googletag.pubads().setTargeting(\\'site\\', tgsite); googletag.pubads().setTargeting(\\'section\\', tgsection); googletag.pubads().setTargeting(\\'ssize\\', tgssize); googletag.enableServices(); } function initDfpSubAds() {   \\n googletag.defineSlot(\\'/8799320/i3_sidebox_200x200\\', [200, 200], \\'div-gpt-ad-1414145945578-7\\').addService(googletag.pubads());  // from ads_banner.jsp -- bottom banner\\n googletag.defineSlot(\\'/8799320/i3_center_banner_728x90\\', [728, 90], \\'div-gpt-ad-1414145945578-0\\').addService(googletag.pubads());    googletag.defineOutOfPageSlot(\\'/8799320/i3_1x1desktop\\', \\'div-gpt-ad-1498803871235-0\\').addService(googletag.pubads()); googletag.defineSlot(\\'/8799320/i3_1x1_desktop_inpage\\', [1, 1], \\'div-gpt-ad-1553785373366-0\\').addService(googletag.pubads());   googletag.defineSlot(\\'/8799320/i3_large_leaderboard\\', [970, 90], \\'div-gpt-ad-1414145945578-1\\').addService(googletag.pubads());  googletag.pubads().enableSingleRequest(); googletag.pubads().collapseEmptyDivs(); googletag.pubads().setTargeting(\\'site\\', tgsite); googletag.pubads().setTargeting(\\'section\\', tgsection); googletag.pubads().setTargeting(\\'ssize\\', tgssize); googletag.enableServices(); } </script> <script>  var googletag = googletag || {}; googletag.cmd = googletag.cmd || []; googletag.cmd.push(function() { initDfpAds(); });  </script>    </head> <body onload=\"h_init()\" style=\"background-color:#eaebfd\">         \\n <script type=\"text/javascript\"> _atrk_opts = { atrk_acct:\"OzpRh1aUXR008S\", domain:\"i3investor.com\",dynamic: true}; (function() { var as = document.createElement(\\'script\\'); as.type = \\'text/javascript\\'; as.async = true; as.src = \"https://certify-js.alexametrics.com/atrk.js\"; var s = document.getElementsByTagName(\\'script\\')[0];s.parentNode.insertBefore(as, s); })();\\n </script> <noscript><img src=\"https://certify.alexametrics.com/atrk.gif?account=OzpRh1aUXR008S\" style=\"display:none\" height=\"1\" width=\"1\" alt=\"\" /></noscript>\\n  <div id=\"header\"> <table cellpadding=\"0\" cellspacing=\"0\" border=\"0\" id=\"btab\"> <tr> <td valign=\"middle\"><img class=\"sp hdlogo\" src=\"//cdn1.i3investor.com/cm/icon/trans16.gif\" alt=\"\" width=\"480\" height=\"45\"/></td> <td valign=\"bottom\" nowrap=\"nowrap\"> <table cellpadding=\"0\" cellspacing=\"0\" border=\"0\" id=\"sitetab\"><tr> <td align=\"right\" valign=\"bottom\" nowrap=\"nowrap\" width=\"70%\">  <span style=\"position:relative;left:0;top:-8px;\">Welcome! | Site:</span> </td> <td align=\"right\" valign=\"bottom\" nowrap=\"nowrap\" width=\"30%\"> <div id=\"sitesel\" class=\"dd ddinit\"><div class=\"ddTitle\"> <span class=\"ddTitleText\"><img class=\"sp flagmy\" src=\"//cdn1.i3investor.com/cm/icon/trans16.gif\"/> <span class=\"ddTitleText\">Malaysia</span></span> <span class=\"arrow\"></span> </div></div> <select name=\"sitemenu\" id=\"sitemenu\" onchange=\"selsite(this.value)\"> <option value=\"au\" title=\"sp flagau\" >Australia</option> <option value=\"ca\" title=\"sp flagca\" >Canada</option> <option value=\"klse\" title=\"sp flagmy\" selected=\\'selected\\'>Malaysia</option> <option value=\"sgx\" title=\"sp flagsg\" >Singapore</option> <option value=\"uk\" title=\"sp flaguk\" >United Kingdom</option> <option value=\"us\" title=\"sp flagus\" >United States</option> </select> </td> <td align=\"right\" valign=\"middle\" nowrap=\"nowrap\" width=\"10%\"> <span style=\"position:relative;left:0;top:3px;\"> &nbsp;|&nbsp;  <a class=\"httpslink\" href=\"/jsp/admin/login.jsp\">Sign In or Register (FREE)</a>  </span> </td></tr></table> </td></tr></table> <div id=\"menu\"> <ul id=\"nav\"> <li id=\"home\"  ><a href=\"/index.jsp\">Home</a></li>  <li id=\"newsblogs\"  ><a href=\"/jsp/blog/bloghl.jsp\">Market Buzz</a></li>  <li id=\"stockquote\" class=\\'activelink\\' ><a href=\"/jsp/stocks.jsp\">Stock Quote</a></li> <li id=\"pricetarget\"  ><a href=\"/jsp/pt.jsp\">Price Target</a></li> <li id=\"portfolio\"  ><a href=\"/jsp/pf.jsp\">Portfolio</a></li> <li id=\"hti\"  ><a href=\"/jsp/hti/basics.jsp\">How to Invest</a></li> <li id=\"profile\"  ><a class=\"httpslink\" href=\"/jsp/admin/login.jsp\">Member Services</a></li> </ul> \\n </div> </div> <div id=\"submenu\"> <div id=\"submenutext\">  <a href=\"/jsp/stocks.jsp\">Stocks Listing</a>&nbsp;|&nbsp; \\n <a href=\"/jsp/quotetrend.jsp\">Trending Now</a>&nbsp;|&nbsp;  <a href=\"/jsp/market_filter.jsp\">Market Filter</a>&nbsp;|&nbsp;  <a href=\"/jsp/qrecent.jsp\">Recent Quote</a>   &nbsp;|&nbsp; <a href=\"/entity/index.jsp\">Corporate Figure</a>    </div> </div> <div id=\"container\" > <div id=\"content\" >       <table border=\"0\" width=\"100%\">  <tr><td colspan=\"2\">  \\n <div>     <!-- i3_large_leaderboard --> <div id=\\'div-gpt-ad-1414145945578-1\\' style=\\'width:970px; height:90px;\\'> <script type=\\'text/javascript\\'> googletag.cmd.push(function() { googletag.display(\\'div-gpt-ad-1414145945578-1\\'); }); </script> </div>   </div> </td></tr>   <tr><td colspan=\"2\">     <div class=\"rounded5\" style=\"width:98%; height:23px; background:#f6f7fa; font-size:11px; padding:3px;\">  <table width=\"100%\" border=\"0\"> <tr> <td width=\"90%\" nowrap=\"nowrap\"> <span style=\"font-weight:bold; color:#eb7423; padding:0 10px\">Highlights</span><span id=\"hltext\"></span> </td>  <td> <div style=\"margin-top:3px;width:160px;text-align:right\">   <!-- AddThis Button BEGIN --> <div id=\"addthis_toolbox1298\" class=\"addthis_toolbox addthis_default_style \"> <a class=\"addthis_button_preferred_1\"></a> <a class=\"addthis_button_preferred_2\"></a> <a class=\"addthis_button_preferred_3\"></a> <a class=\"addthis_button_preferred_4\"></a> <a class=\"addthis_button_compact\"></a> <a class=\"addthis_counter addthis_bubble_style\"></a> </div> <script type=\"text/javascript\" src=\"//s7.addthis.com/js/250/addthis_widget.js#pubid=ra-4f73dd8577f3c37d&async=1&domready=1\"></script>\\n <!-- AddThis Button END --> </div> </td>  </tr> </table> </div>  <script type=\"text/javascript\"> var marquetimeout = 4800; var marqueint = 0; var marquelist = new Array(); marquelist[0] = \"Looking for a broker to open a trading account? Check out the <b><a href=\\'/jsp/hti/brokers.jsp\\' target=\\'_blank\\'>Brokers Comparison</a></b> page.\"; marquelist[1] = \"Monitor your investment performance. Create your own <b><a href=\\'/jsp/pf.jsp\\' target=\\'_blank\\'>Portfolio with charts and advanced reporting</a></b> functions.\"; marquelist[2] = \"Perform research on stocks before trading. Check out the <b><a href=\\'/jsp/pt.jsp\\' target=\\'_blank\\'>Price Target</a></b> page.\";  marquelist[3] = \"Interested to invest in the US stock market? Find out more from the <b><a href=\\'//www.i3investor.com/jsp/hti/usmarket.jsp\\' target=\\'_blank\\'>US Investment page</a></b>.\";\\n  marquelist[4] = \"<b><a class=\\'httpslink\\' href=\\'/jsp/admin/register.jsp\\' target=\\'_blank\\'>Join the community</a></b> of active traders. Membership is FREE. Already a member? <b><a href=\\'/jsp/admin/login.jsp\\' target=\\'_blank\\'>Sign in</a></b>.\";  marquelist[5] = \"Extended trade settlement of up to T+7. Check out the <b><a href=\\'/jsp/partner/my/mplus.jsp\\' target=\\'_blank\\'>M+ T+7 Contra</a></b> account. \\\\\"<i>Expand your profit opportunity.</i>\\\\\"\"; marquelist[6] = \"Brokerage rate as low as 0.05% or min RM 8. Check out <b><a href=\\'/jsp/partner/my/mplus.jsp\\' target=\\'_blank\\'>M+ Online</a></b>. \\\\\"<i>Take Profit with Just One Tick!</i>\\\\\"\";  marqueint = marquelist.length-1; function marqueinit() { $(\\'#hltext\\').html(marquelist[marqueint]); var t = setTimeout(\"marquerun()\", marquetimeout); } function marquerun() { $(\\'#hltext\\').fadeOut(\\'slow\\', function() { marqueint--; if (marqueint < 0) marqueint = marquelist.length-1; $(\\'#hltext\\').html(marquelist[marqueint]); $(\\'#hltext\\').fadeIn(\\'slow\\', function() { var t = setTimeout(\"marquerun()\", marquetimeout); }); }); } </script>  </td></tr>  </table>    <table> <tr> <td width=\"90%\" valign=\"top\"> \\n       <div class=\"margint10\">      <style type=\"text/css\"> .boarAndSector { background: #78a8c8 !important; border-bottom: solid 2px #a4cee6; padding: 3px 5px; color: #fff; border-radius: 8px; margin: 4px 5px; font-size: 13px; float:right; font-weight: 700; } </style> <table cellpadding=\"0\" cellspacing=\"0\" border=\"0\" width=\"95%\" style=\"margin-top: 20px;\"> <tr> <td nowrap=\"nowrap\" valign=\"middle\"> <span class=\"stname\"> KLSE: HLBANK (5819) </span> </td> <td>&nbsp;&nbsp;&nbsp;&nbsp;&nbsp;</td> <td valign=\"middle\" > <span class=\"stcompany\"> HONG LEONG BANK BHD </span> </td>  <td nowrap=\"nowrap\" valign=\"bottom\" nowrap=\"nowrap\" > <a href=\"/jsp/stocks.jsp?g=S&m=sec&s=MAIN&s2=Finance\"> <span class=\"boarAndSector\">MAIN : Finance</span> </a> </td>  </tr> </table>  <table cellpadding=\"0\" cellspacing=\"0\" border=\"0\" width=\"90%\" style=\"margin: 10px 0;\" id=\"stockhdr\"> <tr> <td class=\"stlabel\" >Last Price</td> <td class=\"stlabel\" >Today\\'s Change</td> <td class=\"stlabel\" >&nbsp;&nbsp;Day\\'s Range</td> <td class=\"stlabel right\" >&nbsp;&nbsp;Trading Volume</td> </tr> <tr> <td nowrap=\"nowrap\" class=\"up big16\" >14.68&nbsp;&nbsp;</td> <td nowrap=\"nowrap\" class=\"big16\" >  <img class=\"sp arrow_up\" src=\"//cdn1.i3investor.com/cm/icon/trans16.gif\" />  <span class=\"up\">+0.14 (0.96%)</span> </td> <td nowrap=\"nowrap\" class=\"big16\" >&nbsp;14.54 - 14.82</td> <td nowrap=\"nowrap\" class=\"big16 right\" >&nbsp;29,400</td> </tr> </table>        <div style=\"border:1px solid #eeeeee;padding:3px\" class=\"rounded5\"> <a href=\"https://klse.i3investor.com/mqtrader/sf/chart/stk/5819\" target=\"_blank\"><img src=\"//cdn1.i3investor.com/cm/img/mqtrader/mqicon30.png\" style=\"vertical-align:middle\"/></a>\\n <span style=\"vertical-align:middle;font-family:sans-serif\"> Analyze this stock with </span> <a href=\"https://klse.i3investor.com/mqtrader/sf/chart/stk/5819\" target=\"_blank\" class=\"bold\">\\n MQ Trader system </a> </div>   <div class=\"mtop10\">    <style type=\"text/css\"> table.fpagenum {width:720px;} table.fpagenum td {background: #e4ebf2 !important; padding: 6px;} .marginb5 {margin-bottom:5px;} .margint5 {margin-top:5px;} ul.nav li.dropdown:hover ul.dropdown-menu {display: block;} a.menu:after, .dropdown-toggle:after {content: none;} .navbar .dropdown-menu {margin-top: 0px;} .navbar .dropdown-toggle {font-weight:bold} #nav li {line-height:16px} </style>  <div class=\"navbar\" style=\"margin-bottom:0px;border-color:#333\"> \\n <div class=\"navbar-inner\" style=\"min-height:30px; padding:0 6px\"> <ul class=\"nav\"> <li class=\"dropdown\"> <a id=\"drop1\" href=\"#\" onclick=\"return false\" class=\"dropdown-toggle\" style=\"padding:6px;color:#636363\">Overview <b class=\"caret\"></b></a> <ul class=\"dropdown-menu\" role=\"menu\" aria-labelledby=\"drop1\"> <li><a href=\"/servlets/stk/5819.jsp\">Stock Overview</a></li>  <li><a href=\"/servlets/stk/corporatefg/5819.jsp\">Corporate Figure</a></li>  <li><a href=\"/servlets/stk/ipo/5819.jsp\">IPO Info</a></li>    </ul> </li> <li class=\"divider-vertical\" style=\"height:32px;border-left: 1px solid #a3a3a3;padding:0\"></li> <li class=\"dropdown\"> <a id=\"drop1\" href=\"#\" onclick=\"return false\" class=\"dropdown-toggle\" style=\"padding:6px;color:#636363\">Technical <b class=\"caret\"></b></a> <ul class=\"dropdown-menu\" role=\"menu\" aria-labelledby=\"drop2\"> <li><a href=\"/servlets/stk/chart/5819.jsp\">Stock Chart</a></li> <li><a href=\"/servlets/stk/rec/5819.jsp\">Recent Prices</a></li> <li><a href=\"/servlets/stk/ta/5819.jsp\">Technical Indicators</a></li>  <li role=\"separator\" class=\"divider\"></li> <li><a href=\"https://klse.i3investor.com/mqtrader/sf/chart/stk/5819\" target=\"_blank\">Technical Chart @ MQ Trader</a></li>\\n \\n </ul> </li> <li class=\"divider-vertical\" style=\"height:32px;border-left: 1px solid #a3a3a3;padding:0\"></li> <li class=\"dropdown\"> <a id=\"drop3\" href=\"#\" onclick=\"return false\" class=\"dropdown-toggle\" style=\"padding:6px;color:#636363\">Research <b class=\"caret\"></b></a> <ul class=\"dropdown-menu\" role=\"menu\" aria-labelledby=\"drop3\"> <li><a rel=\"prefetch\" href=\"/servlets/stk/pt/5819.jsp\">Price Target</a></li>  <li role=\"separator\" class=\"divider\"></li> <li><a href=\"/servlets/stk/fin/5819.jsp\">Financials</a></li> <li><a href=\"/servlets/stk/annrep/5819.jsp\">Annual Report</a></li> <li role=\"separator\" class=\"divider\"></li> <li><a href=\"https://klse.i3investor.com/mqtrader/sf/analysis/stkta/5819\" target=\"_blank\">Technical Analysis @ MQ Trader</a></li>\\n <li><a href=\"https://klse.i3investor.com/mqtrader/sf/analysis/fa/5819\" target=\"_blank\">Fundamental Analysis @ MQ Trader</a></li>\\n \\n </ul> </li> <li class=\"divider-vertical\" style=\"height:32px;border-left: 1px solid #a3a3a3;padding:0\"></li> <li class=\"dropdown\"> <a id=\"drop3\" href=\"#\" onclick=\"return false\" class=\"dropdown-toggle\" style=\"padding:6px;color:#636363\">Headlines <b class=\"caret\"></b></a> <ul class=\"dropdown-menu\" role=\"menu\" aria-labelledby=\"drop3\"> <li><a rel=\"prefetch\" href=\"/servlets/stk/nb/5819.jsp\">News &amp; Blogs</a></li> \\n </ul> </li> <li class=\"divider-vertical\" style=\"height:32px;border-left: 1px solid #a3a3a3;padding:0\"></li> <li class=\"dropdown\"> <a id=\"drop3\" href=\"#\" onclick=\"return false\" class=\"dropdown-toggle\" style=\"padding:6px;color:#636363\">Disclosures <b class=\"caret\"></b></a> <ul class=\"dropdown-menu\" role=\"menu\" aria-labelledby=\"drop4\">  <li class=\"dropdown-header\">&nbsp;&nbsp;Financial Result</li> <li><a href=\"/servlets/stk/annqtyres/5819.jsp\">Quarterly Results</a></li> <li><a href=\"/servlets/stk/annrep/5819.jsp\">Annual Report</a></li> <li role=\"separator\" class=\"divider\"></li> <li class=\"dropdown-header\">&nbsp;&nbsp;Entitlement</li> <li><a href=\"/servlets/stk/annent/5819.jsp\">Dividend, Bonus, Split &amp; Consolidation</a></li> <li role=\"separator\" class=\"divider\"></li> <li class=\"dropdown-header\">&nbsp;&nbsp;Insider</li> <li><a href=\"/servlets/stk/annchdr/5819.jsp\">Director</a></li> <li><a href=\"/servlets/stk/annchsh/5819.jsp\">Shareholder</a></li> <li><a href=\"/servlets/stk/annshrtxn/5819.jsp\">Company</a></li> <li role=\"separator\" class=\"divider\"></li> <li class=\"dropdown-header\">&nbsp;&nbsp;Change in Company Info</li> <li><a href=\"/servlets/stk/annchbr/5819.jsp\">Board Member</a></li> <li><a href=\"/servlets/stk/annchcoac/5819.jsp\">Audit Committee</a></li> <li><a href=\"/servlets/stk/annchconc/5819.jsp\">Nomination Committee</a></li> <li><a href=\"/servlets/stk/annchcorc/5819.jsp\">Risk Committee</a></li> <li><a href=\"/servlets/stk/annchcorec/5819.jsp\">Remuneration Committee</a></li> <li><a href=\"/servlets/stk/annchpo/5819.jsp\">Principal Officer</a></li> <li><a href=\"/servlets/stk/annchcosec/5819.jsp\">Company Secretary</a></li> <li><a href=\"/servlets/stk/annchcoREG/5819.jsp\">Registrar</a></li> <li><a href=\"/servlets/stk/annchaddress/5819.jsp\">Address</a></li> <li role=\"separator\" class=\"divider\"></li> <li class=\"dropdown-header\">&nbsp;&nbsp;Meeting</li> <li><a href=\"/servlets/stk/anngm/5819.jsp\">General Meeting</a></li> <li role=\"separator\" class=\"divider\"></li> <li class=\"dropdown-header\">&nbsp;&nbsp;Additional Listing</li> <li><a href=\"/servlets/stk/additionalListing/5819.jsp\">Additional Listing</a></li>  </ul> </li> <li class=\"divider-vertical\" style=\"height:32px;border-left: 1px solid #a3a3a3;padding:0\"></li> <li class=\"dropdown\"> <a id=\"drop3\" href=\"#\" onclick=\"return false\" class=\"dropdown-toggle\" style=\"padding:6px;color:#636363\">Warrants <b class=\"caret\"></b></a> <ul class=\"dropdown-menu\" role=\"menu\" aria-labelledby=\"drop3\"> <li><a rel=\"prefetch\" href=\"/servlets/stk/stwarrant/5819.jsp\">Stock Warrants</a></li> </ul> </li> <li class=\"divider-vertical\" style=\"height:32px;border-left: 1px solid #a3a3a3;padding:0\"></li> </ul> </div> </div></div>  </div>   <h3 style=\"border-bottom: 3px solid #CCC;\">Overview</h3> \\n               <style> .ui-progressbar { position: relative; height: 1.5em; } .progress-label { position: absolute; left: 40%; top: 4px; font-weight: bold; text-shadow: 1px 1px 0 #fff; } </style> <table cellpadding=\"0\" cellspacing=\"0\" border=\"0\" width=\"100%\" > <tr> <td style=\"width:330px\">    <a href=\"https://klse.i3investor.com/mqtrader/sf/chart/stk/5819\" target=\"_blank\"><img src=\"https://charts.i3investor.com/my/stk/5819.png\"></a>\\n    \\n </td> <td valign=\"top\" align=\"left\"> <table cellpadding=\"0\" cellspacing=\"0\" border=\"0\" width=\"360\" class=\"stinfo\">  <tr> <td>Market Cap:</td> <td align=\"right\" nowrap=\"nowrap\"> <b>31,822&nbsp;Million</b> </td> </tr> <tr> <td>NOSH:</td> <td align=\"right\" nowrap=\"nowrap\"> <b>2,168&nbsp;Million</b>  </td> </tr> \\n <tr><td>Avg Volume (4 weeks):</td><td align=\"right\" nowrap=\"nowrap\"><b>741,861</b></td></tr>  <tr><td>4 Weeks Range:</td><td align=\"right\" nowrap=\"nowrap\"><b>14.02 - 15.12</b></td></tr> <tr><td>4 Weeks Price Volatility (%):</td><td align=\"right\" nowrap=\"nowrap\"><div id=\"4weekrange\" class=\"ui-progressbar\"><div class=\"progress-label\">60.00%</div></div></td></tr>  <tr><td>52 Weeks Range:</td><td align=\"right\" nowrap=\"nowrap\"><b>11.70 - 17.76</b></td></tr> <tr><td>52 Weeks Price Volatility (%):</td><td align=\"right\" nowrap=\"nowrap\"><div id=\"52weekrange\" class=\"ui-progressbar\"><div class=\"progress-label\">49.17%</div></div></td></tr>  <tr> <td valign=\"top\">Average Price Target:</td> <td align=\"right\"> <b>15.46</b> <a href=\"/servlets/ptg/5819.jsp\"> <img class=\"sp next12\" src=\"//cdn1.i3investor.com/cm/icon/trans16.gif\" /> </a> </td> </tr> <tr> <td valign=\"top\">Price Target Upside/Downside:</td> <td align=\"right\"> <b><span class=\"up\">+0.78</span></b> <a href=\"/servlets/ptg/5819.jsp\"> <img class=\"sp next12\" src=\"//cdn1.i3investor.com/cm/icon/trans16.gif\" /> </a> </td> </tr>   </table> </td> </tr> </table> <script> $( function() { $( \"#52weekrange\" ).progressbar({ value: 49.174915, }); $( \"#4weekrange\" ).progressbar({ value: 60.0, }); } ); </script>                 <h3 style=\"border-bottom: 3px solid #CCC;\" class=\"margint15 marginb15\">Financial Highlight</h3> <table cellpadding=\"0\" cellspacing=\"0\" border=\"0\" width=\"100%\" class=\"stinfo\"> <tr> <td>Latest Quarter | Ann. Date</td> <td align=\"right\" nowrap=\"nowrap\"> <b>31-Mar-2020  [#3]  </b> &nbsp;|&nbsp; <b>29-May-2020</b> <a href=\"/servlets/stk/fin/5819.jsp\"> <img class=\"sp next12\" src=\"//cdn1.i3investor.com/cm/icon/trans16.gif\" /> </a> </td> </tr> <tr> <td>Next QR | Est. Ann. Date:</td> <td align=\"right\" nowrap=\"nowrap\"> <b>30-Jun-2020</b> &nbsp;|&nbsp; <b>28-Aug-2020</b> <a href=\"/servlets/stk/fin/5819.jsp\"> <img class=\"sp next12\" src=\"//cdn1.i3investor.com/cm/icon/trans16.gif\" /> </a> </td> </tr> <tr> <td>T4Q P/E | EY:</td> <td align=\"right\" nowrap=\"nowrap\"> <b>12.42</b> &nbsp;|&nbsp; <b>8.05</b>% <a href=\"/servlets/stk/fin/5819.jsp?type=ttm\"> <img class=\"sp next12\" src=\"//cdn1.i3investor.com/cm/icon/trans16.gif\" /> </a> </td> </tr> <tr> <td>T4Q DY | Payout %:</td> <td align=\"right\" nowrap=\"nowrap\"> <b>3.22</b>% &nbsp;|&nbsp; <b>39.94</b>% <a href=\"/servlets/stk/fin/5819.jsp?type=ttm\"> <img class=\"sp next12\" src=\"//cdn1.i3investor.com/cm/icon/trans16.gif\" /> </a> </td> </tr> <tr> <td>T4Q NAPS | P/NAPS:</td> <td align=\"right\" nowrap=\"nowrap\"> <b>12.1603</b> &nbsp;|&nbsp; <b>1.21</b> <a href=\"/servlets/stk/fin/5819.jsp?type=ttm\"> <img class=\"sp next12\" src=\"//cdn1.i3investor.com/cm/icon/trans16.gif\" /> </a> </td> </tr> <tr> <td>T4Q NP Margin | ROE:</td> <td align=\"right\" nowrap=\"nowrap\"> <b>53.93%</b> &nbsp;|&nbsp; <b>9.72%</b> <a href=\"/servlets/stk/fin/5819.jsp?type=ttm\"> <img class=\"sp next12\" src=\"//cdn1.i3investor.com/cm/icon/trans16.gif\" /> </a> </td> </tr> </table> \\n            <h3 style=\"border-bottom: 3px solid #CCC;\" class=\"margint15 marginb15\">Market Buzz</h3> <table cellpadding=\"0\" cellspacing=\"0\" border=\"0\" class=\"nc\" width=\"100%\" id=\"buzzTable\"> <thead> <tr>  <th class=\"center\" width=\"10%\">Date</th> <th class=\"center\" width=\"10%\">Type</th> <th class=\"right\" width=\"70%\">Subject</th> </tr> </thead> <tbody>  <tr>  <td class=\"center\" nowrap=\"nowrap\"> 19-Aug-2020 </td> <td class=\"center\" nowrap=\"nowrap\"> <a href=\"/servlets/stk/annchsh/5819.jsp\" style=\"color:#06a;\" target=\"_blank\">Insider</a> </td> <td class=\"left\"> <a href=\"/insider/substantialShareholder/5819/19-Aug-2020/496229_2222384503.jsp\" target=\"_blank\"><b>EMPLOYEES PROVIDENT FUND BOARD</b> (a substantial shareholder) <span class=\"up\"><b>acquired</b></span> <b>1,500,000</b> shares on 14-Aug-2020.</a> </td> </tr>  <tr>  <td class=\"center\" nowrap=\"nowrap\"> 18-Aug-2020 </td> <td class=\"center\" nowrap=\"nowrap\"> <a href=\"/servlets/stk/annchsh/5819.jsp\" style=\"color:#06a;\" target=\"_blank\">Insider</a> </td> <td class=\"left\"> <a href=\"/insider/substantialShareholder/5819/18-Aug-2020/496113_2680376498.jsp\" target=\"_blank\"><b>EMPLOYEES PROVIDENT FUND BOARD</b> (a substantial shareholder) <span class=\"down\"><b>disposed</b></span> <b>299,300</b> shares on 13-Aug-2020.</a> </td> </tr>  <tr>  <td class=\"center\" nowrap=\"nowrap\"> 17-Aug-2020 </td> <td class=\"center\" nowrap=\"nowrap\"> <a href=\"/servlets/stk/annchsh/5819.jsp\" style=\"color:#06a;\" target=\"_blank\">Insider</a> </td> <td class=\"left\"> <a href=\"/insider/substantialShareholder/5819/17-Aug-2020/495974_424823810.jsp\" target=\"_blank\"><b>EMPLOYEES PROVIDENT FUND BOARD</b> (a substantial shareholder) <span class=\"down\"><b>disposed</b></span> <b>105,600</b> shares on 12-Aug-2020.</a> </td> </tr>  <tr>  <td class=\"center\" nowrap=\"nowrap\"> 14-Aug-2020 </td> <td class=\"center\" nowrap=\"nowrap\"> <a href=\"/servlets/stk/annchsh/5819.jsp\" style=\"color:#06a;\" target=\"_blank\">Insider</a> </td> <td class=\"left\"> <a href=\"/insider/substantialShareholder/5819/14-Aug-2020/495857_816552452.jsp\" target=\"_blank\"><b>EMPLOYEES PROVIDENT FUND BOARD</b> (a substantial shareholder) <span class=\"up\"><b>acquired</b></span> <b>298,000</b> shares on 11-Aug-2020.</a> </td> </tr>  \\n </tbody> </table> <script type=\"text/javascript\"> $(function() { $(\\'#buzzTable\\').dataTable( {  \"order\": [[ 0, \"desc\" ], [ 1, \"asc\" ]],  \"lengthMenu\": [[50,100, -1], [50, 100,\"All\"]], \"jQueryUI\": true } ); }); </script>  <hr> <h3 style=\"border-bottom: 3px solid #CCC;\" class=\"margint15 marginb15\">Headlines</h3>       <table cellpadding=\"0\" cellspacing=\"0\" border=\"0\" class=\"nc\" width=\"100%\" id=\"nbTable\"> <thead> <tr> <th class=\"center\" width=\"10%\">Date</th> <th class=\"center\" width=\"90%\">Subject</th> </tr> </thead> <tbody>  <tr> <td class=\"center\" valign=\"top\" nowrap=\"nowrap\">03-Aug-2020</td> <td class=\"left\"> <a href=\"/blogs/rhbinvest/2020-08-03-story-h1511501738-Banks_Recovery_Momentum_Carries_on.jsp\" style=\"color:#06a;\">Banks - Recovery Momentum Carries on</a> </td> </tr>  <tr> <td class=\"center\" valign=\"top\" nowrap=\"nowrap\">03-Aug-2020</td> <td class=\"left\"> <a href=\"/blogs/kenangaresearch/2020-08-03-story-h1511501737-Banking_June_2020_Stats_ndash_Household_Loan_Applications_and_Approvals.jsp\" style=\"color:#06a;\">Banking - June 2020 Stats &ndash; Household Loan Applications and Approvals Rebounded</a> </td> </tr>  <tr> <td class=\"center\" valign=\"top\" nowrap=\"nowrap\">03-Aug-2020</td> <td class=\"left\"> <a href=\"/blogs/hleresearch/2020-08-03-story-h1511501002-Focus_Point_Expect_Losses_in_2Q20_But_Recovery_on_Track.jsp\" style=\"color:#06a;\">Focus Point - Expect Losses in 2Q20 But Recovery on Track</a> </td> </tr>  <tr> <td class=\"center\" valign=\"top\" nowrap=\"nowrap\">30-Jul-2020</td> <td class=\"left\"> <a href=\"/blogs/kenangaresearch/2020-07-30-story-h1511438591-Banking_Targeted_assistance_for_affected_borrowers.jsp\" style=\"color:#06a;\">Banking - Targeted assistance for affected borrowers</a> </td> </tr>  <tr> <td class=\"center\" valign=\"top\" nowrap=\"nowrap\">01-Jul-2020</td> <td class=\"left\"> <a href=\"/blogs/rhbinvest/2020-07-01-story-h1511528709-Banks_Overcast_by_Economic_Uncertainties.jsp\" style=\"color:#06a;\">Banks - Overcast by Economic Uncertainties</a> </td> </tr>  <tr> <td class=\"center\" valign=\"top\" nowrap=\"nowrap\">01-Jul-2020</td> <td class=\"left\"> <a href=\"/blogs/AmInvestResearch/2020-07-01-story-h1509682629-Banking_Provisions_continued_to_trend_higher_in_May.jsp\" style=\"color:#06a;\">Banking - Provisions continued to trend higher in May</a> </td> </tr>  <tr> <td class=\"center\" valign=\"top\" nowrap=\"nowrap\">12-Jun-2020</td> <td class=\"left\"> <a href=\"/blogs/kltrader/2020-06-12-story-h1508755331-Malaysia_Banks_ndash_Forget_2020_Worry_About_2021.jsp\" style=\"color:#06a;\">Malaysia Banks &ndash; Forget 2020. Worry About 2021</a> </td> </tr>  <tr> <td class=\"center\" valign=\"top\" nowrap=\"nowrap\">04-Jun-2020</td> <td class=\"left\"> <a href=\"/blogs/nanyang_stock_expert/2020-06-04-story-h1507986408.jsp\" style=\"color:#06a;\">热门股:丰隆银行上挑RM16.04</a> </td> </tr>  <tr> <td class=\"center\" valign=\"top\" nowrap=\"nowrap\">01-Jun-2020</td> <td class=\"left\"> <a href=\"/blogs/hwangdbs/2020-06-01-story-h1507983707-Hong_Leong_Bank_3QFY20_Intact_But_Caution_Looms.jsp\" style=\"color:#06a;\">Hong Leong Bank- 3QFY20 Intact, But Caution Looms</a> </td> </tr>  <tr> <td class=\"center\" valign=\"top\" nowrap=\"nowrap\">01-Jun-2020</td> <td class=\"left\"> <a href=\"/blogs/midfresearch/2020-06-01-story-h1507927972-Hong_Leong_Bank_Earnings_Pullback_Within_Expectations.jsp\" style=\"color:#06a;\">Hong Leong Bank  -  Earnings Pullback Within Expectations</a> </td> </tr>  <tr> <td class=\"center\" valign=\"top\" nowrap=\"nowrap\">01-Jun-2020</td> <td class=\"left\"> <a href=\"/blogs/MplusOnline/2020-06-01-story-h1507927907-Mplus_Market_Pulse_1_Jun_2020.jsp\" style=\"color:#06a;\">Mplus Market Pulse - 1 Jun 2020</a> </td> </tr>  <tr> <td class=\"center\" valign=\"top\" nowrap=\"nowrap\">01-Jun-2020</td> <td class=\"left\"> <a href=\"/blogs/kenangaresearch/2020-06-01-story-h1507927905-Banking_Apr_2020_Stats_ndash_A_Glimpse_Into_Moratorium_Impact.jsp\" style=\"color:#06a;\">Banking - Apr 2020 Stats &ndash; A Glimpse Into Moratorium Impact</a> </td> </tr>  <tr> <td class=\"center\" valign=\"top\" nowrap=\"nowrap\">01-Jun-2020</td> <td class=\"left\"> <a href=\"/blogs/kenangaresearch/2020-06-01-story-h1507927876-Hong_Leong_Bank_Berhad_Post_Moratorium_Uncertainties.jsp\" style=\"color:#06a;\">Hong Leong Bank Berhad - Post-Moratorium Uncertainties</a> </td> </tr>  <tr> <td class=\"center\" valign=\"top\" nowrap=\"nowrap\">01-Jun-2020</td> <td class=\"left\"> <a href=\"/blogs/AmInvestResearch/2020-06-01-story-h1507927815-Hong_Leong_Bank_Gradually_building_up_preemptive_provisioning.jsp\" style=\"color:#06a;\">Hong Leong Bank-Gradually building up preemptive provisioning</a> </td> </tr>  <tr> <td class=\"center\" valign=\"top\" nowrap=\"nowrap\">01-Jun-2020</td> <td class=\"left\"> <a href=\"/blogs/hwangdbs/2020-06-01-story-h1508695775-Hong_Leong_Bank_3QFY20_Intact_But_Caution_Looms.jsp\" style=\"color:#06a;\">Hong Leong Bank- 3QFY20 Intact, But Caution Looms</a> </td> </tr>  <tr> <td class=\"center\" valign=\"top\" nowrap=\"nowrap\">01-Jun-2020</td> <td class=\"left\"> <a href=\"/blogs/kianweiaritcles/2020-06-01-story-h1507926819.jsp\" style=\"color:#06a;\">[转贴] 5分钟看懂HLBANK(5819) Q3 2020季报 ~ 第一天</a> </td> </tr>  <tr> <td class=\"center\" valign=\"top\" nowrap=\"nowrap\">08-May-2020</td> <td class=\"left\"> <a href=\"/blogs/AmInvestResearch/2020-05-08-story-h1506942855-Banking_Higher_non_household_loan_growth.jsp\" style=\"color:#06a;\">Banking - Higher non-household loan growth</a> </td> </tr>  <tr> <td class=\"center\" valign=\"top\" nowrap=\"nowrap\">08-May-2020</td> <td class=\"left\"> <a href=\"/blogs/AmInvestResearch/2020-05-08-story-h1506973664-Banking_Accrued_interest_for_HP_loans_will_be_waived.jsp\" style=\"color:#06a;\">Banking - Accrued interest for HP loans will be waived</a> </td> </tr>  <tr> <td class=\"center\" valign=\"top\" nowrap=\"nowrap\">08-May-2020</td> <td class=\"left\"> <a href=\"/blogs/kenangaresearch/2020-05-08-story-h1506942848-Banking_HP_Moratorium_Interest_Waiver.jsp\" style=\"color:#06a;\">Banking - HP Moratorium Interest Waiver</a> </td> </tr>  <tr> <td class=\"center\" valign=\"top\" nowrap=\"nowrap\">08-May-2020</td> <td class=\"left\"> <a href=\"/blogs/kenangaresearch/2020-05-08-story-h1506942847-Banking_Mar_2020_BNM_Stats_ndash_Shrinking_Applications.jsp\" style=\"color:#06a;\">Banking - Mar 2020 BNM Stats &ndash; Shrinking Applications</a> </td> </tr>  </tbody> </table>  <div class=\"fullwidth right mtop10\"> <a href=\"/servlets/stk/nb/5819.jsp\">&gt;&gt; More Headlines</a> </div> \\n <script type=\"text/javascript\"> $(function() { $(\\'#nbTable\\').dataTable( { \"order\": [[ 0, \"desc\" ] ], \"lengthMenu\": [[50,100, -1], [50, 100,\"All\"]], \"jQueryUI\": true } ); }); </script>  <hr>    <h3 style=\"border-bottom: 3px solid #CCC;\" class=\"margint10\">Business Background</h3> <div id=\"tabs_desc\" style=\"margin-bottom:20px;\"> <div id=\"descdiv\"  style=\"padding:6px 3px;margin-bottom:8px\"> Hong Leong Bank Bhd is based primarily in Malaysia with a regional presence in other Southeast Asian countries, Hong Kong, and mainland China. The bank’s strategy emphasizes technology while offering diverse financial products to its Islamic target base. Its services include personal financial services, business and corporate banking, trade finance, treasury, branch and transaction banking, wealth management, investment banking, and Islamic financial services. A majority of the bank’s earning assets are loans, advances, and financing. Net interest income constitutes the bulk of the bank’s income generation. Most of its revenue is derived from personal financial services. </div> \\n </div>   <div id=\"tbpopalert\" class=\"modal hide fade\" tabindex=\"-1\" role=\"dialog\" aria-hidden=\"true\"> <div id=\"tbpoal_hdrow\" class=\"modal-header\"> <button type=\"button\" class=\"close\" data-dismiss=\"modal\" aria-hidden=\"true\">x</button> <h4 id=\"tbpophead\">Alert Message</h4> </div> <div class=\"modal-body\"> <p id=\"tbpopmesg\" class=\"mtop10 mbot20\"></p> </div> <div id=\"tbpopal_btrow\" class=\"modal-footer\" style=\"padding:6px 8px\"> <button class=\"btn btn-primary\" data-dismiss=\"modal\" aria-hidden=\"true\">Close</button> </div> </div> <div id=\"tbpopconfirm\" class=\"modal hide fade\" tabindex=\"-1\" role=\"dialog\" aria-hidden=\"true\"> <div id=\"tbpocn_hdrow\" class=\"modal-header\"> <button type=\"button\" class=\"close\" data-dismiss=\"modal\" aria-hidden=\"true\">x</button> <h4 id=\"tbpopcnhead\">Confirm Message</h4> </div> <div class=\"modal-body\"> <p id=\"tbpopcnmesg\" class=\"mtop10 mbot20\"></p> </div> <div id=\"tbpopcn_btrow\" class=\"modal-footer\" style=\"padding:6px 8px\"> <button id=\"tbpopcn_cancel\" class=\"btn\" data-dismiss=\"modal\" aria-hidden=\"true\">Cancel</button> <button id=\"tbpopcn_confirm\" class=\"btn btn-primary\" data-dismiss=\"modal\" aria-hidden=\"true\">Confirm</button> </div> </div> \\n  <script type=\"text/javascript\"> var cdn_bin_path=\"//cdn1.i3investor.com/cm\",tbmesgtype_alert=0,tbmesgtype_info=1,tbmesgtype_success=2,tbmesgtype_error=3,tbmesgtype_wait=4;function showTbModalMesg(b,a,c,d){null!=c&&\"\"!=c?($(\"#tbpophead\").html(c),$(\"#tbpoal_hdrow\").show()):$(\"#tbpoal_hdrow\").hide();!0==d?$(\"#tbpopal_btrow\").show():$(\"#tbpopal_btrow\").hide();a=getTbMsg(b,a);$(\"#tbpopmesg\").html(a);$(\"#tbpopalert\").modal()} function showTbConfirmMesg(b,a,c,d){null!=c&&\"\"!=c?($(\"#tbpopcnhead\").html(c),$(\"#tbpocn_hdrow\").show()):$(\"#tbpocn_hdrow\").hide();!0==d?$(\"#tbpopcn_btrow\").show():$(\"#tbpopcn_btrow\").hide();a=getTbMsg(b,a);$(\"#tbpopcnmesg\").html(a);$(\"#tbpopconfirm\").modal()} function getTbMsg(b,a){b==tbmesgtype_alert?a=\"<img class=\\'sp warn\\' src=\\'\"+cdn_bin_path+\"/icon/trans16.gif\\' alt=\\'\\' /> \"+a:b==tbmesgtype_info?a=\"<img class=\\'sp info22\\' src=\\'\"+cdn_bin_path+\"/icon/trans16.gif\\' alt=\\'\\' /> \"+a:b==tbmesgtype_success?a=\"<img class=\\'sp success\\' src=\\'\"+cdn_bin_path+\"/icon/trans16.gif\\' alt=\\'\\' /> \"+a:b==tbmesgtype_error?a=\"<img class=\\'sp error\\' src=\\'\"+cdn_bin_path+\"/icon/trans16.gif\\' alt=\\'\\' /> \"+a:b==tbmesgtype_wait&&(a=\"<img src=\\'\"+cdn_bin_path+\"/icon/spinner.gif\\' alt=\\'\\' /> \"+ a);return a}function updateTbModalMesg(b,a){a=getTbMsg(b,a);$(\"#tbpopmesg\").html(a)}function closeTbModalMesg(){$(\"#tbpopalert\").modal(\"hide\")}; </script>         <div style=\"border:1px solid #eeeeee;padding:3px\" class=\"rounded5\"> <a href=\"https://klse.i3investor.com/mqtrader/sf/chart/stk/5819\" target=\"_blank\"><img src=\"//cdn1.i3investor.com/cm/img/mqtrader/mqicon30.png\" style=\"vertical-align:middle\"/></a>\\n <span style=\"vertical-align:middle;font-family:sans-serif\"> Analyze this stock with </span> <a href=\"https://klse.i3investor.com/mqtrader/sf/chart/stk/5819\" target=\"_blank\" class=\"bold\">\\n MQ Trader system </a> </div>   \\n \\n  \\n          <br class=\"clear\"/> <div style=\"margin-bottom:-10px\">   <div class=\"clear\">     <!-- i3_center_banner_728x90 --> <div id=\\'div-gpt-ad-1414145945578-0\\' style=\\'width:728px; height:90px;\\'> <script type=\\'text/javascript\\'> googletag.cmd.push(function() { googletag.display(\\'div-gpt-ad-1414145945578-0\\'); }); </script> </div>   </div> </div>  <div class=\"ex-ui\" style=\"width:100%; margin-top:20px; clear:both;min-width:680px\">  <div class=\"comtbtop\">  <img class=\"sp i3orange\" src=\"//cdn1.i3investor.com/cm/icon/trans16.gif\" alt=\"\"/>&nbsp; <span id=\"likelink800001097\"><img class=\"sp like\" src=\"//cdn1.i3investor.com/cm/icon/trans16.gif\" onclick=\\'like(800000000, 1097);return false;\\'  alt=\"\"/> <a href=\\'#\\' onclick=\\'like(800000000, 1097);return false;\\' \" title=\"Like this item\">Like</a></span>   <img class=\"sp dot\" src=\"//cdn1.i3investor.com/cm/icon/trans16.gif\" alt=\"\"/> <a href=\"/servlets/forum/800001097.jsp\" target=\"_blank\"> <img class=\"sp discuss\" src=\"//cdn1.i3investor.com/cm/icon/trans16.gif\" alt=\"\"/> Social Forum </a>   <img class=\"sp dot\" src=\"//cdn1.i3investor.com/cm/icon/trans16.gif\" alt=\"\"/> <img class=\"sp discuss\" src=\"//cdn1.i3investor.com/cm/icon/trans16.gif\" onclick=\"comment(800001097)\" alt=\"\"/> <a href=\"#\" onclick=\"comment(800001097);return false;\">Comment</a> </div> <div class=\"aup\"></div>  <div class=\"comtb\" id=\"likesum800001097\"> &nbsp; <img class=\"sp like\" src=\"//cdn1.i3investor.com/cm/icon/trans16.gif\" alt=\"\"/> <span id=\"likestr800001097\" class=\"likestr\"> <a href=\\'#\\' onclick=\\'likepeople(800001097); return false;\\'>2 people</a> like this. </span> <img id=\"likespin800001097\" class=\"hide\" src=\"//cdn1.i3investor.com/cm/icon/wait16soc.gif\" alt=\"\"/> </div>  <div id=\"likep800001097\" class=\"likep\"></div>  <div class=\"comtb\"> &nbsp; <img class=\"sp discuss\" src=\"//cdn1.i3investor.com/cm/icon/trans16.gif\" alt=\"\"/> <span id=\"commentstr800001097\" class=\"commentstr\"> </span> </div>  <div style=\"width: 100%\" id=\"showallspan800001097\">   <div class=\"comtb\" id=\"c5969450\">  <div class=\"comicon\"><a href=\"/servlets/cube/ehteoh13.jsp\" target=\"_blank\"><img src=\\'//cdn1.i3investor.com/cm/img/person_thumb.png\\' width=\\'24\\' height=\\'24\\' /></a></div> <div class=\"comcontent\"> <a href=\"/servlets/cube/ehteoh13.jsp\" target=\"_blank\"><span class=\"comuid\">ehteoh13</span></a> <span class=\\'autolink\\' id=\"comcontent5969450\">All bank cut 7% profit earning</span> </div> <div class=\"comcontent2\"> <span class=\"comdt\">24/03/2020 8:47 AM</span> </div> </div>   <div class=\"comtb\" id=\"c5971135\">  <div class=\"comicon\"><a href=\"/servlets/cube/billgates.jsp\" target=\"_blank\"><img src=\\'//cdn1.i3investor.com/cm/img/person_thumb.png\\' width=\\'24\\' height=\\'24\\' /></a></div> <div class=\"comcontent\"> <a href=\"/servlets/cube/billgates.jsp\" target=\"_blank\"><span class=\"comuid\">东方不败</span></a> <span class=\\'autolink\\' id=\"comcontent5971135\">BANKING SECTOR DOWNGRADE BY CITIBANK <br/> <br/>https://klse.i3investor.com/blogs/DFBB/2020-03-24-story-h1485614574-BANKING_SECTOR_DOWNGRADE_BY_CITIBANK.jsp</span> </div> <div class=\"comcontent2\"> <span class=\"comdt\">24/03/2020 5:56 PM</span> </div> </div>   <div class=\"comtb\" id=\"c5978860\">  <div class=\"comicon\"><a href=\"/servlets/cube/dobitalim.jsp\" target=\"_blank\"><img src=\\'//cdn1.i3investor.com/cm/img/person_thumb.png\\' width=\\'24\\' height=\\'24\\' /></a></div> <div class=\"comcontent\"> <a href=\"/servlets/cube/dobitalim.jsp\" target=\"_blank\"><span class=\"comuid\">DobitaLim</span></a> <span class=\\'autolink\\' id=\"comcontent5978860\">Useless counter, better sell off and buy in PPBank, rebound potential stronger than such fxxing caunter</span> </div> <div class=\"comcontent2\"> <span class=\"comdt\">27/03/2020 2:36 PM</span> </div> </div>   <div class=\"comtb\" id=\"c5985372\">  <div class=\"comicon\"><a href=\"/servlets/cube/jeffreyteck.jsp\" target=\"_blank\"><img src=\\'//cdn1.i3investor.com/cm/img/person_thumb.png\\' width=\\'24\\' height=\\'24\\' /></a></div> <div class=\"comcontent\"> <a href=\"/servlets/cube/jeffreyteck.jsp\" target=\"_blank\"><span class=\"comuid\">Jeffreyteck</span></a> <span class=\\'autolink\\' id=\"comcontent5985372\">Est at least one more time down circuit breaker in US. With its hopeless chief who prioritise $ ahead of people life, can sense more volatility created by him who likes to u-turn. Est his regime will be over by year end then. As for this, why pay a premium? TP = DY of Cimb or Mbb.</span> </div> <div class=\"comcontent2\"> <span class=\"comdt\">31/03/2020 8:57 AM</span> </div> </div>   <div class=\"comtb\" id=\"c5991625\">  <div class=\"comicon\"><a href=\"/servlets/cube/5894.jsp\" target=\"_blank\"><img src=\\'https://klse.i3investor.com/files/profile/img/5894_22_thumb.png\\' width=\\'24\\' height=\\'24\\' /></a></div> <div class=\"comcontent\"> <a href=\"/servlets/cube/5894.jsp\" target=\"_blank\"><span class=\"comuid\">Miz Raya Bloom</span></a> <span class=\\'autolink\\' id=\"comcontent5991625\">share news https://whims2016.wordpress.com/</span> </div> <div class=\"comcontent2\"> <span class=\"comdt\">02/04/2020 9:59 AM</span> </div> </div>   <div class=\"comtb\" id=\"c5994540\">  <div class=\"comicon\"><a href=\"/servlets/cube/redeagle.jsp\" target=\"_blank\"><img src=\\'//cdn1.i3investor.com/cm/img/person_thumb.png\\' width=\\'24\\' height=\\'24\\' /></a></div> <div class=\"comcontent\"> <a href=\"/servlets/cube/redeagle.jsp\" target=\"_blank\"><span class=\"comuid\">RedEagle</span></a> <span class=\\'autolink\\' id=\"comcontent5994540\">NEW YORK, April 2 (Reuters) - Crude prices posted their biggest-one day gains on record on Thursday after President Donald Trump said he expects Russia and Saudi Arabia to announce a major oil production cut, and Saudi state media said the kingdom was calling an emergency meeting of producers to deal with the market turmoil. <br/> <br/>Trump said he had spoken to Saudi Crown Prince Mohammed bin Salman, and expects Saudi Arabia and Russia to cut oil output by as much as 10 million to 15 million barrels, as the two countries signaled willingness to make a deal. <br/> <br/>Trump did not specify barrels per day (bpd), though the market expresses demand and supply in those terms. <br/> <br/>Such a sizeable deal, however, would likely require participation from other big producers outside of the OPEC cartel. <br/> <br/>Saudi Arabia said it would call an emergency meeting of the Organization of the Petroleum Exporting Countries (OPEC), Saudi state media reported. <br/> <br/>The Wall Street Journal reported that the kingdom would consider dropping output to roughly 9 million bpd, or about 3 million bpd less than what it planned on pumping in April. <br/> <br/>Brent futures rose US$5.20, or 21.0%, to settle at US$29.94 a barrel, while US West Texas Intermediate (WTI) crude rose US$5.01, or 24.7%, to settle at US$25.32. <br/> <br/>Despite the huge gains, oil prices have still lost more than half their value this year. <br/> <br/>The market slumped in early March, when Saudi Arabia and Russia were unable to come to terms on a deal to curb production, and the Saudis boosted output to more than 12 million bpd and shipped discounted cargoes worldwide. <br/> <br/>Since then, the coronavirus pandemic has severely cut fuel demand. US crude prices fell under US$20 per barrel a few times in recent days. <br/> <br/>&#34;The question will come down to, Will they be able to agree to something? It&#39;s taken a couple of weeks of Brent at US$25 and WTI at US$20 and it seems as if the Russians are more approachable than they were a month ago,&#34; said Gene McGillian, vice president of market research at Tradition Energy in Stamford, Connecticut. <br/> <br/>Brent soared as much as 47% during the session, its highest intraday percentage gain ever. WTI jumped as much as 35%, its second highest ever, after an intraday gain of 36% on March 19. <br/> <br/>Oil prices pulled back from those highs as traders questioned whether Russia and Saudi Arabia could actually agree on such a big production cut. <br/> <br/>A senior administration official told Reuters the United States does not know formal details of Saudi Arabian and Russian plans to reduce oil supply yet and will not ask US domestic oil producers to chip in with their own cuts. <br/> <br/>&#34;Despite today’s headlines, we remain skeptical that a deal to cut output will materialize,&#34; analysts at Capital Economics said, noting Saudi Arabia is unlikely to cut output unless Russia and possibly other non-OPEC producers, like the United States and Canada, join in a coordinated reduction. <br/> <br/>With fuel demand expected to fall by 20% to 30% in coming months, pressure was building on oil producers to reach a deal, and Trump expressed growing frustration about the crude price and its effect on the energy industry. <br/> <br/>Texas regulators are exploring the possibility of cutting production in that state, which produces more than 5 million bpd.</span> </div> <div class=\"comcontent2\"> <span class=\"comdt\">03/04/2020 6:47 AM</span> </div> </div>   <div class=\"comtb\" id=\"c5995314\">  <div class=\"comicon\"><a href=\"/servlets/cube/junichiro.jsp\" target=\"_blank\"><img src=\\'//cdn1.i3investor.com/cm/img/person_thumb.png\\' width=\\'24\\' height=\\'24\\' /></a></div> <div class=\"comcontent\"> <a href=\"/servlets/cube/junichiro.jsp\" target=\"_blank\"><span class=\"comuid\">Junichiro</span></a> <span class=\\'autolink\\' id=\"comcontent5995314\">Without the US, Canada, Mexico ... joining in production cuts, all bets are off. <br/>You cannot expect Opec n Russia to cut back while the US n others wants to enjoy a free ride. <br/>All bets are probably off.</span> </div> <div class=\"comcontent2\"> <span class=\"comdt\">03/04/2020 10:59 AM</span> </div> </div>   <div class=\"comtb\" id=\"c5995377\">  <div class=\"comicon\"><a href=\"/servlets/cube/masterus.jsp\" target=\"_blank\"><img src=\\'//cdn1.i3investor.com/cm/img/person_thumb.png\\' width=\\'24\\' height=\\'24\\' /></a></div> <div class=\"comcontent\"> <a href=\"/servlets/cube/masterus.jsp\" target=\"_blank\"><span class=\"comuid\">masterus</span></a> <span class=\\'autolink\\' id=\"comcontent5995377\">The Federal Reserve said Tuesday it would launch a temporary lending facility that for the first time will allow foreign central banks to convert their holdings of Treasury securities into dollars, its latest bid to alleviate strains in global markets. <br/> <br/> <br/>The program is designed to alleviate stresses in currency markets that had prompted more foreign central banks to sell their holdings of Treasurys. The Fed has been aggressively purchasing Treasury and mortgage securities to reduce market strains, and the latest move could reduce the supply of those securities hitting the market if foreign central banks can more easily exchange them for dollars.</span> </div> <div class=\"comcontent2\"> <span class=\"comdt\">03/04/2020 11:10 AM</span> </div> </div>   <div class=\"comtb\" id=\"c5996460\">  <div class=\"comicon\"><a href=\"/servlets/cube/waikee1.jsp\" target=\"_blank\"><img src=\\'//cdn1.i3investor.com/cm/img/person_thumb.png\\' width=\\'24\\' height=\\'24\\' /></a></div> <div class=\"comcontent\"> <a href=\"/servlets/cube/waikee1.jsp\" target=\"_blank\"><span class=\"comuid\">waikee</span></a> <span class=\\'autolink\\' id=\"comcontent5996460\">nice bank</span> </div> <div class=\"comcontent2\"> <span class=\"comdt\">03/04/2020 3:49 PM</span> </div> </div>   <div class=\"comtb\" id=\"c6001052\">  <div class=\"comicon\"><a href=\"/servlets/cube/vietnamcoffee126.jsp\" target=\"_blank\"><img src=\\'//cdn1.i3investor.com/cm/img/person_thumb.png\\' width=\\'24\\' height=\\'24\\' /></a></div> <div class=\"comcontent\"> <a href=\"/servlets/cube/vietnamcoffee126.jsp\" target=\"_blank\"><span class=\"comuid\">VietnamCoffee126</span></a> <span class=\\'autolink\\' id=\"comcontent6001052\">Down with the banks this year ?? <br/>So many people no jobs</span> </div> <div class=\"comcontent2\"> <span class=\"comdt\">06/04/2020 11:45 AM</span> </div> </div>   <div class=\"comtb\" id=\"c6008480\">  <div class=\"comicon\"><a href=\"/servlets/cube/gtrade.jsp\" target=\"_blank\"><img src=\\'https://klse.i3investor.com/files/profile/img/Gtrade_3_thumb.png\\' width=\\'24\\' height=\\'24\\' /></a></div> <div class=\"comcontent\"> <a href=\"/servlets/cube/gtrade.jsp\" target=\"_blank\"><span class=\"comuid\">Gtrade</span></a> <span class=\\'autolink\\' id=\"comcontent6008480\">just open Hong Leong bank saving acc and register for online banking.My opinion is HL bank online is TH MOST STUPID ONLINE BANing platform, Cant even find the Online cash interbank transfer. Very stupid unfriendly design . . Full of advertisement rather than practical banking facility. I woul not recomend HL online banking to any body. I spend 20 min looking for online transfer , still cannot find. Stupid online platform</span> </div> <div class=\"comcontent2\"> <span class=\"comdt\">08/04/2020 7:30 PM</span> </div> </div>   <div class=\"comtb\" id=\"c6008909\">  <div class=\"comicon\"><a href=\"/servlets/cube/tkl88.jsp\" target=\"_blank\"><img src=\\'//cdn1.i3investor.com/cm/img/person_thumb.png\\' width=\\'24\\' height=\\'24\\' /></a></div> <div class=\"comcontent\"> <a href=\"/servlets/cube/tkl88.jsp\" target=\"_blank\"><span class=\"comuid\">tkl88</span></a> <span class=\\'autolink\\' id=\"comcontent6008909\">Wow, Fabulous!  <br/>Dow Jones closed at=&#62; 23,433.57 (+779.71) (+3.44%) !</span> </div> <div class=\"comcontent2\"> <span class=\"comdt\">09/04/2020 7:02 AM</span> </div> </div>   <div class=\"comtb\" id=\"c6025542\">  <div class=\"comicon\"><a href=\"/servlets/cube/raint.jsp\" target=\"_blank\"><img src=\\'//cdn1.i3investor.com/cm/img/person_thumb.png\\' width=\\'24\\' height=\\'24\\' /></a></div> <div class=\"comcontent\"> <a href=\"/servlets/cube/raint.jsp\" target=\"_blank\"><span class=\"comuid\">RainT</span></a> <span class=\\'autolink\\' id=\"comcontent6025542\">slowly buy</span> </div> <div class=\"comcontent2\"> <span class=\"comdt\">16/04/2020 11:05 AM</span> </div> </div>   <div class=\"comtb\" id=\"c6033248\">  <div class=\"comicon\"><a href=\"/servlets/cube/trader9918.jsp\" target=\"_blank\"><img src=\\'//cdn1.i3investor.com/cm/img/person_thumb.png\\' width=\\'24\\' height=\\'24\\' /></a></div> <div class=\"comcontent\"> <a href=\"/servlets/cube/trader9918.jsp\" target=\"_blank\"><span class=\"comuid\">trader9918</span></a> <span class=\\'autolink\\' id=\"comcontent6033248\">RM14.00  today..</span> </div> <div class=\"comcontent2\"> <span class=\"comdt\">20/04/2020 9:24 AM</span> </div> </div>   <div class=\"comtb\" id=\"c6043660\">  <div class=\"comicon\"><a href=\"/servlets/cube/tkl88.jsp\" target=\"_blank\"><img src=\\'//cdn1.i3investor.com/cm/img/person_thumb.png\\' width=\\'24\\' height=\\'24\\' /></a></div> <div class=\"comcontent\"> <a href=\"/servlets/cube/tkl88.jsp\" target=\"_blank\"><span class=\"comuid\">tkl88</span></a> <span class=\\'autolink\\' id=\"comcontent6043660\">Wow, Fantastic ! Dow Jones spike up to  <br/>closed at=&#62; 23,475.82 (+456.94) (+1.99%) !</span> </div> <div class=\"comcontent2\"> <span class=\"comdt\">23/04/2020 7:59 AM</span> </div> </div>   <div class=\"comtb\" id=\"c6046275\">  <div class=\"comicon\"><a href=\"/servlets/cube/tedinvestor.jsp\" target=\"_blank\"><img src=\\'//cdn1.i3investor.com/cm/img/person_thumb.png\\' width=\\'24\\' height=\\'24\\' /></a></div> <div class=\"comcontent\"> <a href=\"/servlets/cube/tedinvestor.jsp\" target=\"_blank\"><span class=\"comuid\">Tedinvestor</span></a> <span class=\\'autolink\\' id=\"comcontent6046275\">MAYBANK online banking service is the best.</span> </div> <div class=\"comcontent2\"> <span class=\"comdt\">23/04/2020 5:47 PM</span> </div> </div>   <div class=\"comtb\" id=\"c6066015\">  <div class=\"comicon\"><a href=\"/servlets/cube/xiaodii.jsp\" target=\"_blank\"><img src=\\'//cdn1.i3investor.com/cm/img/person_thumb.png\\' width=\\'24\\' height=\\'24\\' /></a></div> <div class=\"comcontent\"> <a href=\"/servlets/cube/xiaodii.jsp\" target=\"_blank\"><span class=\"comuid\">xiaodi</span></a> <span class=\\'autolink\\' id=\"comcontent6066015\">fight with public bank</span> </div> <div class=\"comcontent2\"> <span class=\"comdt\">01/05/2020 11:17 AM</span> </div> </div>   <div class=\"comtb\" id=\"c6068920\">  <div class=\"comicon\"><a href=\"/servlets/cube/raint.jsp\" target=\"_blank\"><img src=\\'//cdn1.i3investor.com/cm/img/person_thumb.png\\' width=\\'24\\' height=\\'24\\' /></a></div> <div class=\"comcontent\"> <a href=\"/servlets/cube/raint.jsp\" target=\"_blank\"><span class=\"comuid\">RainT</span></a> <span class=\\'autolink\\' id=\"comcontent6068920\">this Hong Leong bank profit margin is so high  <br/> <br/>how to fight with Public Bank??</span> </div> <div class=\"comcontent2\"> <span class=\"comdt\">03/05/2020 6:46 PM</span> </div> </div>   <div class=\"comtb\" id=\"c6145932\">  <div class=\"comicon\"><a href=\"/servlets/cube/malayantiger16888.jsp\" target=\"_blank\"><img src=\\'https://klse.i3investor.com/files/profile/img/malayantiger16888_3_thumb.png\\' width=\\'24\\' height=\\'24\\' /></a></div> <div class=\"comcontent\"> <a href=\"/servlets/cube/malayantiger16888.jsp\" target=\"_blank\"><span class=\"comuid\">Poor Standard\\'s 16888</span></a> <span class=\\'autolink\\' id=\"comcontent6145932\">What made HLB profit margin is so high ? <br/>Accounting assumption difference ? <br/> <br/>HLB = ~55% <br/>MBB = ~ 18%</span> </div> <div class=\"comcontent2\"> <span class=\"comdt\">24/05/2020 9:13 AM</span> </div> </div>   <div class=\"comtb\" id=\"c6149875\">  <div class=\"comicon\"><a href=\"/servlets/cube/redeagle.jsp\" target=\"_blank\"><img src=\\'//cdn1.i3investor.com/cm/img/person_thumb.png\\' width=\\'24\\' height=\\'24\\' /></a></div> <div class=\"comcontent\"> <a href=\"/servlets/cube/redeagle.jsp\" target=\"_blank\"><span class=\"comuid\">RedEagle</span></a> <span class=\\'autolink\\' id=\"comcontent6149875\">Decide after announce Q2 then wait until Q3, buyback after Q4.. 2020 will be losses to all banking and financial institutions. Monatorium Impairment comminggg..</span> </div> <div class=\"comcontent2\"> <span class=\"comdt\">26/05/2020 10:22 AM</span> </div> </div>   <div class=\"comtb\" id=\"c6168052\">  <div class=\"comicon\"><a href=\"/servlets/cube/raint.jsp\" target=\"_blank\"><img src=\\'//cdn1.i3investor.com/cm/img/person_thumb.png\\' width=\\'24\\' height=\\'24\\' /></a></div> <div class=\"comcontent\"> <a href=\"/servlets/cube/raint.jsp\" target=\"_blank\"><span class=\"comuid\">RainT</span></a> <span class=\\'autolink\\' id=\"comcontent6168052\">haha <br/> <br/>why Hong Leong margin so high ? this questions i ask before</span> </div> <div class=\"comcontent2\"> <span class=\"comdt\">29/05/2020 2:59 PM</span> </div> </div>   <div class=\"comtb\" id=\"c6168076\">  <div class=\"comicon\"><a href=\"/servlets/cube/raint.jsp\" target=\"_blank\"><img src=\\'//cdn1.i3investor.com/cm/img/person_thumb.png\\' width=\\'24\\' height=\\'24\\' /></a></div> <div class=\"comcontent\"> <a href=\"/servlets/cube/raint.jsp\" target=\"_blank\"><span class=\"comuid\">RainT</span></a> <span class=\\'autolink\\' id=\"comcontent6168076\">cannot be accounting assumption differences, as you can see the margin over 50% is from past few years also like that  <br/> <br/>besides , to ensure comparability, all banking accounts reporting shall use similar accounting method, if difference method also shall be small only  <br/> <br/>the external auditor &#38; regulators will not allow big differences of accounting policy among banks</span> </div> <div class=\"comcontent2\"> <span class=\"comdt\">29/05/2020 3:01 PM</span> </div> </div>   <div class=\"comtb\" id=\"c6174454\">  <div class=\"comicon\"><a href=\"/servlets/cube/kt_invest.jsp\" target=\"_blank\"><img src=\\'//cdn1.i3investor.com/cm/img/person_thumb.png\\' width=\\'24\\' height=\\'24\\' /></a></div> <div class=\"comcontent\"> <a href=\"/servlets/cube/kt_invest.jsp\" target=\"_blank\"><span class=\"comuid\">ali baba</span></a> <span class=\\'autolink\\' id=\"comcontent6174454\">https://www.theedgemarkets.com/article/banks-risk-modification-loss-wa... <br/> <br/>Meanwhile, CGS-CIMB estimated that the modification loss would reduce banks’ financial year 2020 (FY20) net profit by 14.4%.</span> </div> <div class=\"comcontent2\"> <span class=\"comdt\">31/05/2020 9:03 AM</span> </div> </div>   <div class=\"comtb\" id=\"c6200325\">  <div class=\"comicon\"><a href=\"/servlets/cube/johnng8882020.jsp\" target=\"_blank\"><img src=\\'//cdn1.i3investor.com/cm/img/person_thumb.png\\' width=\\'24\\' height=\\'24\\' /></a></div> <div class=\"comcontent\"> <a href=\"/servlets/cube/johnng8882020.jsp\" target=\"_blank\"><span class=\"comuid\">Johnng8882020</span></a> <span class=\\'autolink\\' id=\"comcontent6200325\">Time to move your capital here. Good price and good trend for HLB. Sure can gain angpow from here. Keep until year end sure got big reward.</span> </div> <div class=\"comcontent2\"> <span class=\"comdt\">04/06/2020 2:16 AM</span> </div> </div>   <div class=\"comtb\" id=\"c6201167\">  <div class=\"comicon\"><a href=\"/servlets/cube/dannyarcher.jsp\" target=\"_blank\"><img src=\\'https://klse.i3investor.com/files/profile/img/DannyArcher_2_thumb.png\\' width=\\'24\\' height=\\'24\\' /></a></div> <div class=\"comcontent\"> <a href=\"/servlets/cube/dannyarcher.jsp\" target=\"_blank\"><span class=\"comuid\">DannyArcher</span></a> <span class=\\'autolink\\' id=\"comcontent6201167\">With HP loan deferred, and housing loands too, and soon many will default after the 6 months memorandum. The evaluation of banks are too crazy already. Wait till 30 June for short selling to be activated, then see how big shark eat ikan billis. Dont fall for it. <br/> <br/>https://www.nst.com.my/business/2020/05/590048/four-banks-will-be-negative-due-highest-hp-loans-exposure</span> </div> <div class=\"comcontent2\"> <span class=\"comdt\">04/06/2020 9:17 AM</span> </div> </div>   <div class=\"comtb\" id=\"c6201232\">  <div class=\"comicon\"><a href=\"/servlets/cube/dannyarcher.jsp\" target=\"_blank\"><img src=\\'https://klse.i3investor.com/files/profile/img/DannyArcher_2_thumb.png\\' width=\\'24\\' height=\\'24\\' /></a></div> <div class=\"comcontent\"> <a href=\"/servlets/cube/dannyarcher.jsp\" target=\"_blank\"><span class=\"comuid\">DannyArcher</span></a> <span class=\\'autolink\\' id=\"comcontent6201232\">Banks seek concessions to help ease hire purchase pain [ The Edge ] <br/> <br/>&#34;BANKS, expected to take a hit from not being able to impose additional charges for hire purchase (HP) instalments that are deferred over the six-month moratorium period, are in talks with Bank Negara Malaysia and the Ministry of Finance (MoF) on some options to help mitigate the impact, sources say.&#34; <br/> <br/>Big Sharks unloading overpriced stock to Ikan Billis, Becareful. Dont do stupid. Dont use margin to play. 30 June is when short selling comes back. Becareful and never ever ever use margin. Dont get trapped.</span> </div> <div class=\"comcontent2\"> <span class=\"comdt\">04/06/2020 9:22 AM</span> </div> </div>   <div class=\"comtb\" id=\"c6204640\">  <div class=\"comicon\"><a href=\"/servlets/cube/jack888.jsp\" target=\"_blank\"><img src=\\'//cdn1.i3investor.com/cm/img/person_thumb.png\\' width=\\'24\\' height=\\'24\\' /></a></div> <div class=\"comcontent\"> <a href=\"/servlets/cube/jack888.jsp\" target=\"_blank\"><span class=\"comuid\">Jack888</span></a> <span class=\\'autolink\\' id=\"comcontent6204640\">U turn liow...buy more.</span> </div> <div class=\"comcontent2\"> <span class=\"comdt\">04/06/2020 2:46 PM</span> </div> </div>   <div class=\"comtb\" id=\"c6215946\">  <div class=\"comicon\"><a href=\"/servlets/cube/tkl88.jsp\" target=\"_blank\"><img src=\\'//cdn1.i3investor.com/cm/img/person_thumb.png\\' width=\\'24\\' height=\\'24\\' /></a></div> <div class=\"comcontent\"> <a href=\"/servlets/cube/tkl88.jsp\" target=\"_blank\"><span class=\"comuid\">tkl88</span></a> <span class=\\'autolink\\' id=\"comcontent6215946\">Wow, oil price spike up crazily !  <br/>Nymex closed at =&#62; $38.95 (+$1.54) (+4.12 %)  <br/>Brent closed at =&#62; $41.97 (+$1.98) (+4.95 %)</span> </div> <div class=\"comcontent2\"> <span class=\"comdt\">06/06/2020 8:04 AM</span> </div> </div>   <div class=\"comtb\" id=\"c6215951\">  <div class=\"comicon\"><a href=\"/servlets/cube/tkl88.jsp\" target=\"_blank\"><img src=\\'//cdn1.i3investor.com/cm/img/person_thumb.png\\' width=\\'24\\' height=\\'24\\' /></a></div> <div class=\"comcontent\"> <a href=\"/servlets/cube/tkl88.jsp\" target=\"_blank\"><span class=\"comuid\">tkl88</span></a> <span class=\\'autolink\\' id=\"comcontent6215951\">Walaoeh, Amazing, Dow Jones was superb bullish !  <br/>Dow Jones closed at=&#62; 27,110.98 (+829.16) (+3.15%)  <br/> <br/>Next week all stocks in KLSE especially banking stocks will be spike up till sky high !  <br/> <br/>Huat ah ! Heng ah ! Ong ah !</span> </div> <div class=\"comcontent2\"> <span class=\"comdt\">06/06/2020 8:06 AM</span> </div> </div>   <div class=\"comtb\" id=\"c6217254\">  <div class=\"comicon\"><a href=\"/servlets/cube/raint.jsp\" target=\"_blank\"><img src=\\'//cdn1.i3investor.com/cm/img/person_thumb.png\\' width=\\'24\\' height=\\'24\\' /></a></div> <div class=\"comcontent\"> <a href=\"/servlets/cube/raint.jsp\" target=\"_blank\"><span class=\"comuid\">RainT</span></a> <span class=\\'autolink\\' id=\"comcontent6217254\">waiting for bargain to buy more</span> </div> <div class=\"comcontent2\"> <span class=\"comdt\">06/06/2020 4:46 PM</span> </div> </div>   <div class=\"comtb\" id=\"c6288124\">  <div class=\"comicon\"><a href=\"/servlets/cube/jack888.jsp\" target=\"_blank\"><img src=\\'//cdn1.i3investor.com/cm/img/person_thumb.png\\' width=\\'24\\' height=\\'24\\' /></a></div> <div class=\"comcontent\"> <a href=\"/servlets/cube/jack888.jsp\" target=\"_blank\"><span class=\"comuid\">Jack888</span></a> <span class=\\'autolink\\' id=\"comcontent6288124\">Its going to U-turn ...  Its time to buy more..</span> </div> <div class=\"comcontent2\"> <span class=\"comdt\">20/06/2020 10:13 AM</span> </div> </div>   <div class=\"comtb\" id=\"c6288673\">  <div class=\"comicon\"><a href=\"/servlets/cube/xiaodi.jsp\" target=\"_blank\"><img src=\\'//cdn1.i3investor.com/cm/img/person_thumb.png\\' width=\\'24\\' height=\\'24\\' /></a></div> <div class=\"comcontent\"> <a href=\"/servlets/cube/xiaodi.jsp\" target=\"_blank\"><span class=\"comuid\">Addy</span></a> <span class=\\'autolink\\' id=\"comcontent6288673\">revenue drop NPL up</span> </div> <div class=\"comcontent2\"> <span class=\"comdt\">20/06/2020 3:52 PM</span> </div> </div>   <div class=\"comtb\" id=\"c6293086\">  <div class=\"comicon\"><a href=\"/servlets/cube/yanngng.jsp\" target=\"_blank\"><img src=\\'//cdn1.i3investor.com/cm/img/person_thumb.png\\' width=\\'24\\' height=\\'24\\' /></a></div> <div class=\"comcontent\"> <a href=\"/servlets/cube/yanngng.jsp\" target=\"_blank\"><span class=\"comuid\">yanngng</span></a> <span class=\\'autolink\\' id=\"comcontent6293086\">why keep drop???</span> </div> <div class=\"comcontent2\"> <span class=\"comdt\">22/06/2020 12:57 PM</span> </div> </div>   <div class=\"comtb\" id=\"c6300393\">  <div class=\"comicon\"><a href=\"/servlets/cube/342777419539196.jsp\" target=\"_blank\"><img src=\\'https://klse.i3investor.com/files/profile/img/342777419539196_6_thumb.png\\' width=\\'24\\' height=\\'24\\' /></a></div> <div class=\"comcontent\"> <a href=\"/servlets/cube/342777419539196.jsp\" target=\"_blank\"><span class=\"comuid\">Michael Kwok</span></a> <span class=\\'autolink\\' id=\"comcontent6300393\">Now recommend sanitizer company name Nylex.Medium term less thn 6 month.Even new normal need to use Sanitizer,facemask,glove(glove order book 1 and a half years).Please read below then invest big.Prefer rm 15k per person or more. <br/> <br/>Posted by Michael Kwok &#62; Jun 23, 2020 8:05 PM | Report Abuse X  <br/> <br/>On July 19 I call buy big rm 15k per person at 65 cents.More sectors open up to over 90 over percent.Sanitizer alcohol base is a must even after RMCO as one of the new normal.  <br/>Michael Kwok  <br/>2128 posts\\t <br/>Posted by Michael Kwok &#62; Jun 19, 2020 12:53 PM | Report Abuse X  <br/> <br/>No need slowly.Go and buy rm 15k each investor.Follow me.Im also writer(Predict upward)of AT,Anzo,MQ Tech,Vortex (on average 2-2.5 cents before)</span> </div> <div class=\"comcontent2\"> <span class=\"comdt\">23/06/2020 8:26 PM</span> </div> </div>   <div class=\"comtb\" id=\"c6312853\">  <div class=\"comicon\"><a href=\"/servlets/cube/deepvalueinvestor.jsp\" target=\"_blank\"><img src=\\'//cdn1.i3investor.com/cm/img/person_thumb.png\\' width=\\'24\\' height=\\'24\\' /></a></div> <div class=\"comcontent\"> <a href=\"/servlets/cube/deepvalueinvestor.jsp\" target=\"_blank\"><span class=\"comuid\">DeepValueInvestor</span></a> <span class=\\'autolink\\' id=\"comcontent6312853\">https://www.marketwatch.com/story/bank-stocks-may-rally-powerfully-once-investors-realize-their-concerns-are-overblown-2020-06-24 <br/>https://www.abc.net.au/news/2020-06-26/wall-street-dow-jones-bank-stocks-rise-gfc-restrictions-ease/12394968 <br/> <br/>Lai, time to fly, banks&#39; QR2 reports will not be as bad as priced in expectations.</span> </div> <div class=\"comcontent2\"> <span class=\"comdt\">26/06/2020 11:46 AM</span> </div> </div>   <div class=\"comtb\" id=\"c6318502\">  <div class=\"comicon\"><a href=\"/servlets/cube/aiyo_apa_susah.jsp\" target=\"_blank\"><img src=\\'https://klse.i3investor.com/files/profile/img/aiyo_apa_susah_3_thumb.png\\' width=\\'24\\' height=\\'24\\' /></a></div> <div class=\"comcontent\"> <a href=\"/servlets/cube/aiyo_apa_susah.jsp\" target=\"_blank\"><span class=\"comuid\">Nobita ( I\\'ll be back)</span></a> <span class=\\'autolink\\' id=\"comcontent6318502\">Aiseh, banks escape Windfall Tax from Nobita. No worry, after I&#39;m back, I&#39;ll look for other windfall tax.</span> </div> <div class=\"comcontent2\"> <span class=\"comdt\">27/06/2020 10:18 PM</span> </div> </div>   <div class=\"comtb\" id=\"c6318516\">  <div class=\"comicon\"><a href=\"/servlets/cube/aiyo_apa_susah.jsp\" target=\"_blank\"><img src=\\'https://klse.i3investor.com/files/profile/img/aiyo_apa_susah_3_thumb.png\\' width=\\'24\\' height=\\'24\\' /></a></div> <div class=\"comcontent\"> <a href=\"/servlets/cube/aiyo_apa_susah.jsp\" target=\"_blank\"><span class=\"comuid\">Nobita ( I\\'ll be back)</span></a> <span class=\\'autolink\\' id=\"comcontent6318516\">Malaysia mudah lupa, Malaysia memang suka-suka kasi windfall tax <br/> <br/>https://www.nst.com.my/business/2019/03/470867/finance-minister-hints-... <br/> <br/>politik bergolak lagi, ambui....if Tun M menang, Nobita coming back, suka-suka windfall tax coming back oh, kekekekeke</span> </div> <div class=\"comcontent2\"> <span class=\"comdt\">27/06/2020 10:25 PM</span> </div> </div>   <div class=\"comtb\" id=\"c6319585\">  <div class=\"comicon\"><a href=\"/servlets/cube/waikee1.jsp\" target=\"_blank\"><img src=\\'//cdn1.i3investor.com/cm/img/person_thumb.png\\' width=\\'24\\' height=\\'24\\' /></a></div> <div class=\"comcontent\"> <a href=\"/servlets/cube/waikee1.jsp\" target=\"_blank\"><span class=\"comuid\">waikee</span></a> <span class=\\'autolink\\' id=\"comcontent6319585\">credit card default increasing...</span> </div> <div class=\"comcontent2\"> <span class=\"comdt\">28/06/2020 6:30 PM</span> </div> </div>   <div class=\"comtb\" id=\"c6368833\">  <div class=\"comicon\"><a href=\"/servlets/cube/redeagle.jsp\" target=\"_blank\"><img src=\\'//cdn1.i3investor.com/cm/img/person_thumb.png\\' width=\\'24\\' height=\\'24\\' /></a></div> <div class=\"comcontent\"> <a href=\"/servlets/cube/redeagle.jsp\" target=\"_blank\"><span class=\"comuid\">RedEagle</span></a> <span class=\\'autolink\\' id=\"comcontent6368833\">Q2 result true colour for Banking sector <br/>~NPL <br/>~Modification Loss <br/>~Others Income <br/>~Expected Credit Loss <br/>~Lower Disbursement <br/>~Cashflow</span> </div> <div class=\"comcontent2\"> <span class=\"comdt\">08/07/2020 9:56 PM</span> </div> </div>   <div class=\"comtb\" id=\"c6398916\">  <div class=\"comicon\"><a href=\"/servlets/cube/jack888.jsp\" target=\"_blank\"><img src=\\'//cdn1.i3investor.com/cm/img/person_thumb.png\\' width=\\'24\\' height=\\'24\\' /></a></div> <div class=\"comcontent\"> <a href=\"/servlets/cube/jack888.jsp\" target=\"_blank\"><span class=\"comuid\">Jack888</span></a> <span class=\\'autolink\\' id=\"comcontent6398916\">Come back liow !</span> </div> <div class=\"comcontent2\"> <span class=\"comdt\">15/07/2020 11:49 AM</span> </div> </div>   <div class=\"comtb\" id=\"c6411234\">  <div class=\"comicon\"><a href=\"/servlets/cube/pinnaclegrade.jsp\" target=\"_blank\"><img src=\\'https://klse.i3investor.com/files/profile/img/pinnaclegrade_7_thumb.png\\' width=\\'24\\' height=\\'24\\' /></a></div> <div class=\"comcontent\"> <a href=\"/servlets/cube/pinnaclegrade.jsp\" target=\"_blank\"><span class=\"comuid\">pinnaclegrade</span></a> <span class=\\'autolink\\' id=\"comcontent6411234\">HLB&#39;s net profit seem to be higher than Public Bank..  <br/>despite Public Bank leading in gross revenue</span> </div> <div class=\"comcontent2\"> <span class=\"comdt\">16/07/2020 11:50 PM</span> </div> </div>   <div class=\"comtb\" id=\"c6416558\">  <div class=\"comicon\"><a href=\"/servlets/cube/cakapsohaithings.jsp\" target=\"_blank\"><img src=\\'//cdn1.i3investor.com/cm/img/person_thumb.png\\' width=\\'24\\' height=\\'24\\' /></a></div> <div class=\"comcontent\"> <a href=\"/servlets/cube/cakapsohaithings.jsp\" target=\"_blank\"><span class=\"comuid\">CakapSohaiThings</span></a> <span class=\\'autolink\\' id=\"comcontent6416558\">Collect now when it is still cheap and thank me later. <br/> <br/>Also, please express gratitude to all the traders out there for all the trading volume and the trading revenue for the IBs. Q2 YoY profit might reduce, but will be significantly better than expectations due to the massive boost in trading revenue in the market rally.</span> </div> <div class=\"comcontent2\"> <span class=\"comdt\">17/07/2020 5:22 PM</span> </div> </div>   <div class=\"comtb\" id=\"c6416561\">  <div class=\"comicon\"><a href=\"/servlets/cube/cakapsohaithings.jsp\" target=\"_blank\"><img src=\\'//cdn1.i3investor.com/cm/img/person_thumb.png\\' width=\\'24\\' height=\\'24\\' /></a></div> <div class=\"comcontent\"> <a href=\"/servlets/cube/cakapsohaithings.jsp\" target=\"_blank\"><span class=\"comuid\">CakapSohaiThings</span></a> <span class=\\'autolink\\' id=\"comcontent6416561\">When the big players are done consolidating, get ready to fly! <br/> <br/>https://www.forbes.com/sites/sergeiklebnikov/2020/07/16/what-recession... <br/> <br/>https://www.wsj.com/articles/trading-powers-morgan-stanley-to-45-profi....</span> </div> <div class=\"comcontent2\"> <span class=\"comdt\">17/07/2020 5:23 PM</span> </div> </div>   <div class=\"comtb\" id=\"c6483601\">  <div class=\"comicon\"><a href=\"/servlets/cube/masterus.jsp\" target=\"_blank\"><img src=\\'//cdn1.i3investor.com/cm/img/person_thumb.png\\' width=\\'24\\' height=\\'24\\' /></a></div> <div class=\"comcontent\"> <a href=\"/servlets/cube/masterus.jsp\" target=\"_blank\"><span class=\"comuid\">masterus</span></a> <span class=\\'autolink\\' id=\"comcontent6483601\">U.S. dollar is on edge of losing its position of world&#39;s reserve currency as inflation concern in the U.S. is growing. /Reuters</span> </div> <div class=\"comcontent2\"> <span class=\"comdt\">30/07/2020 12:16 PM</span> </div> </div>   <div class=\"comtb\" id=\"c6495581\">  <div class=\"comicon\"><a href=\"/servlets/cube/619963960.jsp\" target=\"_blank\"><img src=\\'//cdn1.i3investor.com/cm/img/person_thumb.png\\' width=\\'24\\' height=\\'24\\' /></a></div> <div class=\"comcontent\"> <a href=\"/servlets/cube/619963960.jsp\" target=\"_blank\"><span class=\"comuid\">mf</span></a> <span class=\\'autolink\\' id=\"comcontent6495581\">Globally, as of 2:19pm CEST, 2 August 2020, there have been 17,660,523 confirmed cases of COVID-19, including 680,894 deaths, reported to WHO.</span> </div> <div class=\"comcontent2\"> <span class=\"comdt\">03/08/2020 2:18 PM</span> </div> </div>   <div class=\"comtb\" id=\"c6498268\">  <div class=\"comicon\"><a href=\"/servlets/cube/eatcoconutcanwin.jsp\" target=\"_blank\"><img src=\\'https://klse.i3investor.com/files/profile/img/EatCoconutCanWin_2_thumb.png\\' width=\\'24\\' height=\\'24\\' /></a></div> <div class=\"comcontent\"> <a href=\"/servlets/cube/eatcoconutcanwin.jsp\" target=\"_blank\"><span class=\"comuid\">EatCoconutCanWin</span></a> <span class=\\'autolink\\' id=\"comcontent6498268\">sell ...yeah</span> </div> <div class=\"comcontent2\"> <span class=\"comdt\">03/08/2020 5:56 PM</span> </div> </div>   <div class=\"comtb\" id=\"c6498530\">  <div class=\"comicon\"><a href=\"/servlets/cube/limkokthye.jsp\" target=\"_blank\"><img src=\\'//cdn1.i3investor.com/cm/img/person_thumb.png\\' width=\\'24\\' height=\\'24\\' /></a></div> <div class=\"comcontent\"> <a href=\"/servlets/cube/limkokthye.jsp\" target=\"_blank\"><span class=\"comuid\">limkokthye</span></a> <span class=\\'autolink\\' id=\"comcontent6498530\">wait for 9.00</span> </div> <div class=\"comcontent2\"> <span class=\"comdt\">03/08/2020 7:04 PM</span> </div> </div>   <div class=\"comtb\" id=\"c6554491\">  <div class=\"comicon\"><a href=\"/servlets/cube/jeffreyteck.jsp\" target=\"_blank\"><img src=\\'//cdn1.i3investor.com/cm/img/person_thumb.png\\' width=\\'24\\' height=\\'24\\' /></a></div> <div class=\"comcontent\"> <a href=\"/servlets/cube/jeffreyteck.jsp\" target=\"_blank\"><span class=\"comuid\">Jeffreyteck</span></a> <span class=\\'autolink\\' id=\"comcontent6554491\">One of the worst trading platform providers. That shows how good is the authority and operators. System down again and again.</span> </div> <div class=\"comcontent2\"> <span class=\"comdt\">11/08/2020 9:19 AM</span> </div> </div>   <div class=\"comtb\" id=\"c6563694\">  <div class=\"comicon\"><a href=\"/servlets/cube/jeffreyteck.jsp\" target=\"_blank\"><img src=\\'//cdn1.i3investor.com/cm/img/person_thumb.png\\' width=\\'24\\' height=\\'24\\' /></a></div> <div class=\"comcontent\"> <a href=\"/servlets/cube/jeffreyteck.jsp\" target=\"_blank\"><span class=\"comuid\">Jeffreyteck</span></a> <span class=\\'autolink\\' id=\"comcontent6563694\">11 Aug. System down again.</span> </div> <div class=\"comcontent2\"> <span class=\"comdt\">12/08/2020 9:01 AM</span> </div> </div>   <div class=\"comtb\" id=\"c6610360\">  <div class=\"comicon\"><a href=\"/servlets/cube/redeagle.jsp\" target=\"_blank\"><img src=\\'//cdn1.i3investor.com/cm/img/person_thumb.png\\' width=\\'24\\' height=\\'24\\' /></a></div> <div class=\"comcontent\"> <a href=\"/servlets/cube/redeagle.jsp\" target=\"_blank\"><span class=\"comuid\">RedEagle</span></a> <span class=\\'autolink\\' id=\"comcontent6610360\">QR announcement why so late? Lower profit due to Modification Loss?</span> </div> <div class=\"comcontent2\"> <span class=\"comdt\">18/08/2020 8:43 PM</span> </div> </div>  </div> <div class=\"comtb\" id=\"comentry800001097\"> <div class=\"comicon\">  <img class=\"sp talk\" src=\"//cdn1.i3investor.com/cm/icon/trans16.gif\" alt=\"\"/>  </div> <br/> <textarea name=\"comment800001097\" id=\"comment800001097\" class=\"tainactv animate\" rows=\"1\" cols=\"68\" onfocus=\"comactive(800001097)\" onblur=\"cominactive(800001097)\" style=\"width:88%;line-height:16px;\"> </textarea> <img id=\"comspin800001097\" class=\"hide\" src=\"//cdn1.i3investor.com/cm/icon/wait16soc.gif\" alt=\"\"/> <div id=\"combutdiv800001097\" class=\"combutton\"> <button class=\"ui-btn ui-corner-all ui-btn-inline ui-mini btn-orig\" name=\"combut\" id=\"combut800001097\" onclick=\"saveComment(800000000,1097)\">Comment</button> </div> </div> </div>        <script type=\"text/javascript\">  var likesvrt_url = \"/likeservlet.jsp\"; var like_ind = \"l\"; var unlike_ind = \"u\"; var likep_ind = \"p\"; var comsvrt_url = \"/comservlet.jsp\"; var comadd_ind = \"a\"; var comrem_ind = \"r\"; var comshowall_ind = \"sa\";  var ajax_ok = \"a1\"; var ajax_warn = \"a3\"; var resp_separator = \"*\"; var has_session = false; var user_name = \"\"; var comdefault = \"Write a comment..\"; var wait_icon = \"//cdn1.i3investor.com/cm/icon/wait16soc.gif\"; var socpagelist = new Array();  </script>  <script type=\"text/javascript\"> function setComment800001097(){ $(\"#commentstr800001097\").html(\"Showing 50 of 423 comments. <a href=\\'#\\' onclick=\\'showAllComment(800001097,423);return false;\\'>Show more comments</a> <img id=\\'showallspin800001097\\' src=\\'//cdn1.i3investor.com/cm/icon/wait16soc.gif\\' class=\\'hide\\'/>\");  $(\"#comment800001097\").autosize({append: \"\\\\n\"}); $(\"#comment800001097\").val(comdefault); $(\"#comment800001097\").limit(5000); }  $(document).ready(function(){ setComment800001097(); });   socpagelist[\"p800001097\"] = new SocPage(800001097,2,423,50,\\'\\',800000000,1097); </script>  \\n <br class=\"clear\"/> </td> <td nowrap=\"nowrap\" valign=\"top\">      <div id=\"sidebar240\"> <div class=\"adsside\"> <table border=\"0\" width=\"100%\"> <tr><td>    <div class=\"search rounded10\"> <form action=\"//klse.i3investor.com/jsp/search/gcs.jsp\" id=\"cse-search-box\" style=\"margin-bottom:0;\"> <input type=\"hidden\" name=\"cx\" value=\"partner-pub-9756443410775969:7362459747\" /> <input type=\"hidden\" name=\"cof\" value=\"FORID:10\" /> <input type=\"hidden\" name=\"ie\" value=\"UTF-8\" /> <table style=\"width:100%\"> <tr> <td style=\"text-align:left\"><input type=\"text\" name=\"q\" size=\"28\"/></td> <td style=\"text-align:left;width:50%;padding-bottom:10px\"> <img class=\"sp view\" src=\"//cdn1.i3investor.com/cm/icon/trans16.gif\" alt=\"\" onclick=\"document.forms[\\'cse-search-box\\'].submit()\"/> </td> </tr> </table> </form> <script type=\"text/javascript\" src=\"//www.google.com/coop/cse/brand?form=cse-search-box&amp;lang=en\"></script>\\n </div></td></tr>  <tr><td align=\"center\">      <div class=\"bold size16 left\" style=\"border-bottom:5px #78909c solid; padding:10px 3px 5px 3px; margin:10px 6px\">APPS</div>  <style> div.partnerapp { margin:10px; border:1px solid #cacaca; padding:10px; box-shadow:3px 6px 5px #aaaaaa; background-color:#fff;cursor:pointer; } div.partnerapp:hover { background-color: #fff8e1; } .svgi3m {fill: #ef6e30} .svgmqtr {fill: #93310d} .svgapms {fill: #673ab7} </style> <div id=\"chevronsvgdiv\" style=\"display:none\"> <svg width=\"32px\" height=\"32px\" xmlns=\"http://www.w3.org/2000/svg\" viewBox=\"0 0 512 512\">\\n <path class=\"svgcls\" d=\"M256 8c137 0 248 111 248 248S393 504 256 504 8 393 8 256 119 8 256 8zm113.9 231L234.4 103.5c-9.4-9.4-24.6-9.4-33.9 0l-17 17c-9.4 9.4-9.4 24.6 0 33.9L285.1 256 183.5 357.6c-9.4 9.4-9.4 24.6 0 33.9l17 17c9.4 9.4 24.6 9.4 33.9 0L369.9 273c9.4-9.4 9.4-24.6 0-34z\"/> </svg> </div> <div class=\"partnerapp\" onclick=\"goMph()\"> <div style=\"padding:3px;display:table\"> <div style=\"display:table-row\"> <div style=\"display:table-cell;min-width:36px;vertical-align:middle;\"> <img src=\"//cdn1.i3investor.com/cm/icon/i3m_icon32.png\" style=\"width:32px;height:32px\"/> </div> <div style=\"display:table-cell;width:95%;vertical-align:middle;\"> <span style=\"color:#000000;font-size:24px;font-weight:500;padding-left:8px;vertical-align:middle;font-family:sans-serif;text-decoration:none !important\"> I3 Messenger </span> </div> <div id=\"papp_i3m_chevron\" style=\"display:table-cell;min-width:39px;padding-right:8px;vertical-align:middle;\"> </div> </div> </div> <div style=\"padding:1px 3px\"> <span style=\"color:#000000;font-family:sans-serif;text-decoration:none !important\"> Individual or Group chat with anyone on I3investor </span> </div> </div>  <div class=\"partnerapp\" onclick=\"goMqTrader()\"> <div style=\"padding:3px;display:table\"> <div style=\"display:table-row\"> <div style=\"display:table-cell;min-width:36px;vertical-align:middle;\"> <img src=\"//cdn1.i3investor.com/cm/img/mqtrader/mqicon30.png\" style=\"width:30px;height:30px\"/> </div> <div style=\"display:table-cell;width:95%;vertical-align:middle;\"> <span style=\"color:#000000;font-size:24px;font-weight:500;padding-left:8px;vertical-align:middle;font-family:sans-serif;text-decoration:none !important\"> MQ Trader </span> </div> <div id=\"papp_mqtr_chevron\" style=\"display:table-cell;min-width:39px;padding-right:8px;vertical-align:middle;\"> </div> </div> </div> <div style=\"padding:1px 3px\"> <span style=\"color:#000000;font-family:sans-serif;text-decoration:none !important\"> View Trading Signals and run Live Backtest </span> </div> </div> <div class=\"partnerapp\" style=\"\" onclick=\"goApms()\"> <div style=\"padding:3px;display:table\"> <div style=\"display:table-row\"> <div style=\"display:table-cell;min-width:36px;vertical-align:middle;\"> <img src=\"//cdn1.i3investor.com/cm/img/mqtrader/apms30.svg\" style=\"width:30px;height:30px\"/> </div> <div style=\"display:table-cell;width:95%;vertical-align:middle;\"> <span style=\"color:#000000;font-size:24px;font-weight:500;padding-left:8px;vertical-align:middle;font-family:sans-serif;text-decoration:none !important\"> MQ Affiliate </span> </div> <div id=\"papp_apms_chevron\" style=\"display:table-cell;min-width:39px;padding-right:8px;vertical-align:middle;\"> </div> </div> </div> <div style=\"padding:1px 3px\"> <span style=\"color:#000000;font-family:sans-serif;text-decoration:none !important\"> Earn rewards with MQ Affiliate Program </span> </div> </div>  <div>&nbsp; </div> <script> $(document).ready(function() { var chevron_right = $(\"#chevronsvgdiv\").html(); var cr_i3m = chevron_right.replace(\"svgcls\", \"svgi3m\"); var cr_mqtr = chevron_right.replace(\"svgcls\", \"svgmqtr\"); var cr_apms = chevron_right.replace(\"svgcls\", \"svgapms\"); $(\"#papp_i3m_chevron\").html(cr_i3m); $(\"#papp_mqtr_chevron\").html(cr_mqtr); $(\"#papp_apms_chevron\").html(cr_apms); }); function goMqTrader() { window.open(\"https://klse.i3investor.com/mqtrader/sf/index\", \"_blank\");\\n } function goApms() { var apmswin = window.open(\"https://apms.mqtrader.com\", \"apmswin\");\\n apmswin.focus(); } function goMph() { var mphwin = window.open(\"https://messenger.i3investor.com/m\", \"mphwin\");\\n mphwin.focus(); } </script>  </td></tr> <tr><td align=\"center\">      <!-- i3_sidebox_200x200 --> <div id=\\'div-gpt-ad-1414145945578-7\\' style=\\'width:200px; height:200px;\\'> <script type=\\'text/javascript\\'> googletag.cmd.push(function() { googletag.display(\\'div-gpt-ad-1414145945578-7\\'); }); </script> </div>    </td></tr> <tr><td>&nbsp;</td></tr> <tr><td align=\"center\">    <div id=\"sidechart\"> <img src=\\'//charts.i3investor.com/my/idx/fbmklci.png\\' width=\\'220\\'/><br/> <div style=\"font-size:11px; padding-top:2px; text-align:center;\"> <img class=\"sp stup\" src=\"//cdn1.i3investor.com/cm/icon/trans16.gif\"/> 579&nbsp; <img class=\"sp stdown\" src=\"//cdn1.i3investor.com/cm/icon/trans16.gif\"/> 300&nbsp; <img class=\"sp stunchg\" src=\"//cdn1.i3investor.com/cm/icon/trans16.gif\"/> 518&nbsp; <img class=\"sp stnotrd\" src=\"//cdn1.i3investor.com/cm/icon/trans16.gif\"/> 899&nbsp; </div> <br/> <div id=\"sidecharttab\"><span id=\"sp1\" onmouseover=\"sel(1)\">Active</span><span id=\"sp2\" onmouseover=\"sel(2)\">Gainers</span><span id=\"sp3\" onmouseover=\"sel(3)\">Losers</span></div> <table cellspacing=\"0\" cellpadding=\"0\" border=\"0\" id=\"topactive\"> <tr align=\"center\" class=\"charttitle\"><td colspan=\"3\">Top 10 Active Counters</td></tr> <tr class=\"charttitle\"> <td width=\"115\" align=\"left\">&nbsp;Name</td><td align=\"right\" width=\"50\">Last</td><td align=\"right\" width=\"60\">Change&nbsp;</td> </tr>  <tr bgcolor=\"#ffffff\"><td align=\"left\">&nbsp;<a href=\"/servlets/stk/0165.jsp\" target=\"_blank\">XOX</a></td> <td align=\"right\">0.205</td><td align=\"right\" class=\"up\">+0.01&nbsp;</td></tr>  <tr bgcolor=\"#c4dcea\"><td align=\"left\">&nbsp;<a href=\"/servlets/stk/0152.jsp\" target=\"_blank\">DGB</a></td> <td align=\"right\">0.055</td><td align=\"right\" class=\"up\">0.00&nbsp;</td></tr>  <tr bgcolor=\"#ffffff\"><td align=\"left\">&nbsp;<a href=\"/servlets/stk/0072.jsp\" target=\"_blank\">AT</a></td> <td align=\"right\">0.10</td><td align=\"right\" class=\"up\">+0.01&nbsp;</td></tr>  <tr bgcolor=\"#c4dcea\"><td align=\"left\">&nbsp;<a href=\"/servlets/stk/2739.jsp\" target=\"_blank\">HUAAN</a></td> <td align=\"right\">0.125</td><td align=\"right\" class=\"up\">+0.015&nbsp;</td></tr>  <tr bgcolor=\"#ffffff\"><td align=\"left\">&nbsp;<a href=\"/servlets/stk/0093.jsp\" target=\"_blank\">SOLUTN</a></td> <td align=\"right\">0.48</td><td align=\"right\" class=\"up\">+0.19&nbsp;</td></tr>  <tr bgcolor=\"#c4dcea\"><td align=\"left\">&nbsp;<a href=\"/servlets/stk/0209.jsp\" target=\"_blank\">ISTONE</a></td> <td align=\"right\">0.25</td><td align=\"right\" class=\"up\">+0.02&nbsp;</td></tr>  <tr bgcolor=\"#ffffff\"><td align=\"left\">&nbsp;<a href=\"/servlets/stk/0150.jsp\" target=\"_blank\">FINTEC</a></td> <td align=\"right\">0.135</td><td align=\"right\" class=\"up\">+0.005&nbsp;</td></tr>  <tr bgcolor=\"#c4dcea\"><td align=\"left\">&nbsp;<a href=\"/servlets/stk/0050.jsp\" target=\"_blank\">SYSTECH</a></td> <td align=\"right\">0.275</td><td align=\"right\" class=\"up\">+0.05&nbsp;</td></tr>  <tr bgcolor=\"#ffffff\"><td align=\"left\">&nbsp;<a href=\"/servlets/stk/0018.jsp\" target=\"_blank\">LAMBO</a></td> <td align=\"right\">0.055</td><td align=\"right\" class=\"up\">+0.01&nbsp;</td></tr>  <tr bgcolor=\"#c4dcea\"><td align=\"left\">&nbsp;<a href=\"/servlets/stk/5218.jsp\" target=\"_blank\">SAPNRG</a></td> <td align=\"right\">0.125</td><td align=\"right\" class=\"up\">0.00&nbsp;</td></tr>  </table> <table cellspacing=\"0\" cellpadding=\"0\" border=\"0\" id=\"topgainer\" style=\"display:none;\"> <tr align=\"center\" class=\"charttitle\"><td colspan=\"3\">Top 10 Gainers</td></tr> <tr class=\"charttitle\"> <td width=\"115\" align=\"left\">&nbsp;Name</td><td align=\"right\" width=\"50\">Last</td><td align=\"right\" width=\"60\">Change&nbsp;</td> </tr>  <tr bgcolor=\"#ffffff\"><td align=\"left\">&nbsp;<a href=\"/servlets/stk/3026.jsp\" target=\"_blank\">DLADY</a></td> <td align=\"right\">39.10</td><td align=\"right\" class=\"up\">+1.10&nbsp;</td></tr>  <tr bgcolor=\"#b8f9cd\"><td align=\"left\">&nbsp;<a href=\"/servlets/stk/0400gb.jsp\" target=\"_blank\">DIN045801028</a></td> <td align=\"right\">107.50</td><td align=\"right\" class=\"up\">+1.00&nbsp;</td></tr>  <tr bgcolor=\"#ffffff\"><td align=\"left\">&nbsp;<a href=\"/servlets/stk/7113.jsp\" target=\"_blank\">TOPGLOV</a></td> <td align=\"right\">27.96</td><td align=\"right\" class=\"up\">+0.82&nbsp;</td></tr>  <tr bgcolor=\"#b8f9cd\"><td align=\"left\">&nbsp;<a href=\"/servlets/stk/6033.jsp\" target=\"_blank\">PETGAS</a></td> <td align=\"right\">17.00</td><td align=\"right\" class=\"up\">+0.62&nbsp;</td></tr>  <tr bgcolor=\"#ffffff\"><td align=\"left\">&nbsp;<a href=\"/servlets/stk/7106.jsp\" target=\"_blank\">SUPERMX</a></td> <td align=\"right\">21.56</td><td align=\"right\" class=\"up\">+0.62&nbsp;</td></tr>  <tr bgcolor=\"#b8f9cd\"><td align=\"left\">&nbsp;<a href=\"/servlets/stk/710678.jsp\" target=\"_blank\">SUPERMX-C78</a></td> <td align=\"right\">9.85</td><td align=\"right\" class=\"up\">+0.53&nbsp;</td></tr>  <tr bgcolor=\"#ffffff\"><td align=\"left\">&nbsp;<a href=\"/servlets/stk/5292.jsp\" target=\"_blank\">UWC</a></td> <td align=\"right\">5.57</td><td align=\"right\" class=\"up\">+0.49&nbsp;</td></tr>  <tr bgcolor=\"#b8f9cd\"><td align=\"left\">&nbsp;<a href=\"/servlets/stk/1899.jsp\" target=\"_blank\">BKAWAN</a></td> <td align=\"right\">15.24</td><td align=\"right\" class=\"up\">+0.46&nbsp;</td></tr>  <tr bgcolor=\"#ffffff\"><td align=\"left\">&nbsp;<a href=\"/servlets/stk/3867.jsp\" target=\"_blank\">MPI</a></td> <td align=\"right\">15.04</td><td align=\"right\" class=\"up\">+0.34&nbsp;</td></tr>  <tr bgcolor=\"#b8f9cd\"><td align=\"left\">&nbsp;<a href=\"/servlets/stk/7034.jsp\" target=\"_blank\">TGUAN</a></td> <td align=\"right\">5.45</td><td align=\"right\" class=\"up\">+0.30&nbsp;</td></tr>  </table> <table cellspacing=\"0\" cellpadding=\"0\" border=\"0\" id=\"toploser\" style=\"display:none;\"> <tr align=\"center\" class=\"charttitle\"><td colspan=\"3\">Top 10 Losers</td></tr> <tr class=\"charttitle\"> <td width=\"115\" align=\"left\">&nbsp;Name</td><td align=\"right\" width=\"50\">Last</td><td align=\"right\" width=\"60\">Change&nbsp;</td> </tr>  <tr bgcolor=\"#ffffff\"><td align=\"left\">&nbsp;<a href=\"/servlets/stk/7153.jsp\" target=\"_blank\">KOSSAN</a></td> <td align=\"right\">15.94</td><td align=\"right\" class=\"down\">-0.32&nbsp;</td></tr>  <tr bgcolor=\"#ffbec8\"><td align=\"left\">&nbsp;<a href=\"/servlets/stk/9822.jsp\" target=\"_blank\">SAM</a></td> <td align=\"right\">6.91</td><td align=\"right\" class=\"down\">-0.18&nbsp;</td></tr>  <tr bgcolor=\"#ffffff\"><td align=\"left\">&nbsp;<a href=\"/servlets/stk/3182.jsp\" target=\"_blank\">GENTING</a></td> <td align=\"right\">3.63</td><td align=\"right\" class=\"down\">-0.17&nbsp;</td></tr>  <tr bgcolor=\"#ffbec8\"><td align=\"left\">&nbsp;<a href=\"/servlets/stk/1295.jsp\" target=\"_blank\">PBBANK</a></td> <td align=\"right\">17.32</td><td align=\"right\" class=\"down\">-0.16&nbsp;</td></tr>  <tr bgcolor=\"#ffffff\"><td align=\"left\">&nbsp;<a href=\"/servlets/stk/5139.jsp\" target=\"_blank\">AEONCR</a></td> <td align=\"right\">9.02</td><td align=\"right\" class=\"down\">-0.12&nbsp;</td></tr>  <tr bgcolor=\"#ffbec8\"><td align=\"left\">&nbsp;<a href=\"/servlets/stk/06519x.jsp\" target=\"_blank\">HSI-C9X</a></td> <td align=\"right\">0.975</td><td align=\"right\" class=\"down\">-0.105&nbsp;</td></tr>  <tr bgcolor=\"#ffffff\"><td align=\"left\">&nbsp;<a href=\"/servlets/stk/4162.jsp\" target=\"_blank\">BAT</a></td> <td align=\"right\">10.32</td><td align=\"right\" class=\"down\">-0.10&nbsp;</td></tr>  <tr bgcolor=\"#ffbec8\"><td align=\"left\">&nbsp;<a href=\"/servlets/stk/4707.jsp\" target=\"_blank\">NESTLE</a></td> <td align=\"right\">139.70</td><td align=\"right\" class=\"down\">-0.10&nbsp;</td></tr>  <tr bgcolor=\"#ffffff\"><td align=\"left\">&nbsp;<a href=\"/servlets/stk/5183.jsp\" target=\"_blank\">PCHEM</a></td> <td align=\"right\">6.10</td><td align=\"right\" class=\"down\">-0.10&nbsp;</td></tr>  <tr bgcolor=\"#ffbec8\"><td align=\"left\">&nbsp;<a href=\"/servlets/stk/7227.jsp\" target=\"_blank\">UMSNGB</a></td> <td align=\"right\">0.665</td><td align=\"right\" class=\"down\">-0.10&nbsp;</td></tr>  </table> </div> <script type=\"text/javascript\"> var prev_i = 1; var spelem1 = document.getElementById(\"sp1\"); spelem1.className = \"selected\"; function sel(i) { if (i != prev_i) { var spelem1 = document.getElementById(\"sp1\"); var spelem2 = document.getElementById(\"sp2\"); var spelem3 = document.getElementById(\"sp3\"); var topa = document.getElementById(\"topactive\"); var topg = document.getElementById(\"topgainer\"); var topl = document.getElementById(\"toploser\"); topg.style.display = \"none\"; topl.style.display = \"none\"; topa.style.display = \"none\"; spelem1.className = \"unselected\"; spelem2.className = \"unselected\"; spelem3.className = \"unselected\"; if (i==1) { topa.style.display = \"inline\"; spelem1.className = \"selected\"; } else if (i==2) { topg.style.display = \"inline\"; spelem2.className = \"selected\"; } else { topl.style.display = \"inline\"; spelem3.className = \"selected\"; } prev_i = i; } } </script>  </td></tr> <tr><td align=\"center\">    <style type=\"text/css\"> table.toparttab td { white-space: pre-wrap; white-space: -moz-pre-wrap; white-space: -pre-wrap; white-space: -o-pre-wrap; word-wrap: break-word; font-size:14px; padding:5px; } </style>  <div style=\"margin:12px 8px 25px 8px\"> <p class=\"bold size16 left\" style=\"border-bottom:3px #14406d solid; padding-bottom:2px; margin-bottom:3px\">FEATURED POSTS</p> <table class=\"toparttab\">  <tr> <td style=\"width:10px;\" valign=\"top\">1.</td> <td><a href=\"/blogs/MQAnnouncement/2020-02-13-story-h1483793325-MQ_Trader_Introduction_to_MQ_Trader_Affiliate_Program.jsp\" class=\"bold\">MQ Trader - Introduction to MQ Trader Affiliate Program</a> <span class=\"gray9\">MQ Trader Announcement!</span></td> </tr>  <tr> <td style=\"width:10px;\" valign=\"top\">2.</td> <td><a href=\"/blogs/MQAffiliate/2020-02-14-story-h1483820227-MQ_Affiliate_A_smarter_way_to_earn_more_rewards.jsp\" class=\"bold\">MQ Affiliate – A smarter way to earn more rewards</a> <span class=\"gray9\">MQ Trader Affiliate Program</span></td> </tr>  <tr> <td style=\"width:10px;\" valign=\"top\">3.</td> <td><a href=\"/blogs/MQAffiliate/2020-02-18-story-h1483853986-MQ_Affiliate_How_to_become_an_effective_affiliate.jsp\" class=\"bold\">MQ Affiliate – How to become an effective affiliate</a> <span class=\"gray9\">MQ Trader Affiliate Program</span></td> </tr>  <tr> <td style=\"width:10px;\" valign=\"top\">4.</td> <td><a href=\"/blogs/MQAffiliate/2020-03-02-story-h1484683209-MQ_Affiliate_Upgrading_to_Affiliate_Partner.jsp\" class=\"bold\">MQ Affiliate – Upgrading to Affiliate Partner</a> <span class=\"gray9\">MQ Trader Affiliate Program</span></td> </tr>  </table> </div>  <div style=\"margin:12px 8px\"> <p class=\"bold size16 left\" style=\"border-bottom:3px #14406d solid; padding-bottom:2px; margin-bottom:3px\">TOP ARTICLES</p> <table class=\"toparttab\">  <tr> <td style=\"width:10px;\" valign=\"top\">1.</td> <td><a href=\"/blogs/Bursa_Master/2020-08-20-story-h1512425481-AN_UNPOLISHED_GEM_WITH_POTENTIAL_FUTURE_GROWTH_PROSPECTS.jsp\" class=\"bold\" style=\"display: inline-block;word-wrap: break-word; width: 310px;\">AN UNPOLISHED GEM WITH POTENTIAL FUTURE GROWTH PROSPECTS</a> <span class=\"gray9\">Bursa Master</span></td> </tr>  <tr> <td style=\"width:10px;\" valign=\"top\">2.</td> <td><a href=\"/blogs/koonyewyinblog/2020-08-20-story-h1512449292-Top_Glove_4th_Q_profit_target_price_Koon_Yew_Yin.jsp\" class=\"bold\" style=\"display: inline-block;word-wrap: break-word; width: 310px;\">Top Glove : 4th Q profit & target price - Koon Yew Yin</a> <span class=\"gray9\">Koon Yew Yin\\'s Blog</span></td> </tr>  <tr> <td style=\"width:10px;\" valign=\"top\">3.</td> <td><a href=\"/blogs/Bursa_Master/2020-08-19-story-h1512422561-WILL_HISTORY_REPEAT_ITSELF_IN_THIS_TECH_STOCK.jsp\" class=\"bold\" style=\"display: inline-block;word-wrap: break-word; width: 310px;\">WILL HISTORY REPEAT ITSELF IN THIS TECH STOCK ??!</a> <span class=\"gray9\">Bursa Master</span></td> </tr>  <tr> <td style=\"width:10px;\" valign=\"top\">4.</td> <td><a href=\"/blogs/gloveharicut/2020-08-19-story-h1512423529-CIMB_More_some_than_fire_in_the_GLOVE.jsp\" class=\"bold\" style=\"display: inline-block;word-wrap: break-word; width: 310px;\">CIMB: More smoke than fire in GLOVE</a> <span class=\"gray9\">gloveharicut</span></td> </tr>  <tr> <td style=\"width:10px;\" valign=\"top\">5.</td> <td><a href=\"/blogs/koonyewyinblog/2020-08-19-story-h1512418688-Reminiscent_of_my_Supermax_investment_during_the_2009_swine_flu_pandemi.jsp\" class=\"bold\" style=\"display: inline-block;word-wrap: break-word; width: 310px;\">Reminiscent of my Supermax investment during the 2009 swine flu pandemic - Koon Yew Yin</a> <span class=\"gray9\">Koon Yew Yin\\'s Blog</span></td> </tr>  <tr> <td style=\"width:10px;\" valign=\"top\">6.</td> <td><a href=\"/blogs/feliciawong/2020-08-20-story-h1512448386-SUPERMAX_SUPERMX_How_To_Play_The_Bonus_Issue.jsp\" class=\"bold\" style=\"display: inline-block;word-wrap: break-word; width: 310px;\">SUPERMAX (SUPERMX): How To Play The Bonus Issue?</a> <span class=\"gray9\">Felicia Sharing</span></td> </tr>  <tr> <td style=\"width:10px;\" valign=\"top\">7.</td> <td><a href=\"/blogs/gambler/2020-08-19-story-h1512418784-Is_FINTEC_PA_a_fat_frog_dancing_in_the_street.jsp\" class=\"bold\" style=\"display: inline-block;word-wrap: break-word; width: 310px;\">Is FINTEC-PA a fat frog dancing in the street?</a> <span class=\"gray9\">i3gambler</span></td> </tr>  <tr> <td style=\"width:10px;\" valign=\"top\">8.</td> <td><a href=\"/blogs/kltrader/2020-08-19-story-h1512420608-Malaysia_Rubber_Gloves_ndash_Shortages_Continue_to_Support_Earnings.jsp\" class=\"bold\" style=\"display: inline-block;word-wrap: break-word; width: 310px;\">Malaysia Rubber Gloves &ndash; Shortages Continue to Support Earnings</a> <span class=\"gray9\">KL Trader Investment Research Articles</span></td> </tr>  </table> </div>  </td></tr> <tr><td align=\"center\">     <table class=\"fullwidth mtop10 mbot10\"> <tr><td align=\"center\">  <table style=\"padding:8px;border:6px solid #dbdbdb;min-width:228px\"> <tr><td class=\"bold size14 padbot10\">Partners &amp; Brokers</td></tr>  <tr><td> <a href=\"/jsp/partner/my/mplus.jsp\" title=\"Brokerage as low as 0.05%\"><img src=\"//cdn1.i3investor.com/my/img/partner/mplusonline150w.png\" /></a> <a href=\"/jsp/partner/my/mplus.jsp\" ><img src=\"//cdn1.i3investor.com/cm/img/go.png\"/></a> </td></tr> <tr><td> <a href=\"/jsp/partner/my/hlebroking.jsp\" title=\"Brokerage as low as 0.10%\"><img src=\"//cdn1.i3investor.com/my/img/partner/hlebroking.png\" /></a> <a href=\"/jsp/partner/my/hlebroking.jsp\" ><img src=\"//cdn1.i3investor.com/cm/img/go.png\"/></a> </td></tr>  <tr><td> <a href=\"http://www.dpbolvw.net/click-5664728-10944943\" target=\"_blank\" title=\"Open a Trading Account with E*TRADE Securities\"><img src=\"//cdn1.i3investor.com/cm/img/partner/etrade.png\" /></a>\\n <a href=\"http://www.dpbolvw.net/click-5664728-10944943\" target=\"_blank\" title=\"Trade FREE for 60 Days\"><img src=\"//cdn1.i3investor.com/cm/img/go.png\"/></a>\\n </td></tr> <tr><td> <a href=\"http://www.kqzyfj.com/click-5664728-10923463\" target=\"_blank\" title=\"Join TD Ameritrade today! #1 for Long-term Investing\"><img src=\"//cdn1.i3investor.com/cm/img/partner/tdameritrade.png\" /></a>\\n <a href=\"http://www.kqzyfj.com/click-5664728-10923463\" target=\"_blank\" title=\"Trade FREE for 60 Days\"><img src=\"//cdn1.i3investor.com/cm/img/go.png\"/></a>\\n </td></tr> </table>  </td></tr> </table>  </td></tr> <tr><td align=\"center\">       <!-- i3_side_skyscraper_160x600 --> <div id=\\'div-gpt-ad-1414145945578-6\\' style=\\'width:160px; height:600px;\\'> <script type=\\'text/javascript\\'> googletag.cmd.push(function() { googletag.display(\\'div-gpt-ad-1414145945578-6\\'); }); </script> </div>    </td></tr> </table> </div> </div>   <br class=\"clear\"/> </td> </tr> </table>  </div> </div>         <div id=\"pagefooter\"> <table class=\"footer\" cellpadding=\"0\" cellspacing=\"0\" border=\"0\" align=\"center\"> <tr> <th class=\"ftitle\">&nbsp;<img class=\"sp i3icon32\" style=\"float:left\" src=\"//cdn1.i3investor.com/cm/icon/trans16.gif\"/><span style=\"float:left;padding-top:10px;\">&nbsp;investor</span></th> <th>HOME</th> <th>  MARKET BUZZ  </th> <th>STOCK QUOTE</th> <th>PRICE TARGET</th> <th>HOW TO INVEST</th> <th>OTHER SITES</th> </tr> <tr> <td>&nbsp;</td> <td valign=\"top\"> <a href=\"/index.jsp\">Market Summary</a><br/> <a href=\"/jsp/scl/community.jsp\">Community</a><br/> <a href=\"/jsp/scl/forum.jsp\">Forum</a><br/> <a href=\"/jsp/mobile/mobileapp.jsp\">Mobile App</a><br/>  <a href=\"/jsp/eventcal.jsp\">Events</a><br/>  <a href=\"/jsp/module/scmodule.jsp\">Stock Chart Plugin</a><br/> <a href=\"/jsp/incl/addsite.jsp\">Share a Site</a><br/> <a href=\"/jsp/general/partner.jsp\">Partner &amp; Ads</a> </td> <td valign=\"top\">  <a href=\"/jsp/newshl.jsp\">News Headlines</a><br/>  <a href=\"/jsp/blog/bloghl.jsp\">Blog Headlines</a><br/>   <a href=\"/financial/quarter/latest.jsp\">Financial Results</a><br/>  <a href=\"/entitlement/dividend/latest.jsp\">Dividends</a><br/> <a href=\"/entitlement/dividend/latestEx.jsp\">Bonus, Split &amp; Consolidation</a>  <br/> <a href=\"/insider/director/latest.jsp\">Insider</a><br/> <a href=\"/companyInfo/boardroom/latest.jsp\">Company Info</a><br/> <a href=\"/meeting/notice/calendar.jsp\">Meeting Calendar</a><br/> <a href=\"/additionalListing/latest.jsp\">Additional Listing</a><br/>  </td> <td valign=\"top\"> <a href=\"/jsp/quote.jsp\">Stock Quote</a><br/> <a href=\"/jsp/quotetrend.jsp\">Trending Now</a><br/>  <a href=\"/jsp/market_filter.jsp\">Market Filter</a><br/>  <a href=\"/jsp/qrecent.jsp\">Recent Quote</a><br/> <a href=\"/jsp/qactive.jsp\">Active Stocks</a><br/> <a href=\"/jsp/quotetopg.jsp\">Top Gainers</a><br/> <a href=\"/jsp/quotetopl.jsp\">Top Losers</a><br/> <a href=\"/jsp/stocks.jsp\">Stocks Listing</a> </td> <td valign=\"top\"> <a href=\"/jsp/pt.jsp\">Latest Price Target</a><br/> <a href=\"/jsp/ptrec.jsp\">Recent Search</a><br/> <a href=\"/jsp/pttop.jsp\">Top Price Target</a><br/><br/> <span class=\"foottitle\">PORTFOLIO</span><br/> <a href=\"/jsp/pf.jsp\">My Portfolio</a><br/> <a href=\"/jsp/pfpub.jsp\">Public Portfolio</a> </td> <td valign=\"top\"> <a href=\"/jsp/hti/basics.jsp\">Investing Basics</a><br/> <a href=\"/jsp/hti/brokers.jsp\">Brokers Comparison</a><br/> <a href=\"/jsp/hti/terms.jsp\">Investing Terms</a><br/> <a href=\"/jsp/hti/advice.jsp\">Investment Advice</a><br/> <a href=\"https://www.i3investor.com/jsp/hti/usmarket.jsp\">Invest in US</a><br/>\\n <a href=\"/jsp/hti/forexintro.jsp\">Forex Trading</a><br/> <a href=\"/jsp/hti/books.jsp\">Books Review</a> </td> <td valign=\"top\"> <img class=\"sp flagau\" src=\"//cdn1.i3investor.com/cm/icon/trans16.gif\" />&nbsp;&nbsp;<a target=\"_blank\" href=\"https://au.i3investor.com/index.jsp\">Australia</a><br/>\\n <img class=\"sp flagca\" src=\"//cdn1.i3investor.com/cm/icon/trans16.gif\" />&nbsp;&nbsp;<a target=\"_blank\" href=\"https://ca.i3investor.com/index.jsp\">Canada</a><br/>\\n <img class=\"sp flagmy\" src=\"//cdn1.i3investor.com/cm/icon/trans16.gif\" />&nbsp;&nbsp;<a target=\"_blank\" href=\"https://klse.i3investor.com/index.jsp\">Malaysia</a><br/>\\n <img class=\"sp flagsg\" src=\"//cdn1.i3investor.com/cm/icon/trans16.gif\" />&nbsp;&nbsp;<a target=\"_blank\" href=\"https://sgx.i3investor.com/index.jsp\">Singapore</a><br/>\\n <img class=\"sp flaguk\" src=\"//cdn1.i3investor.com/cm/icon/trans16.gif\" />&nbsp;&nbsp;<a target=\"_blank\" href=\"https://www.i3investor.co.uk/index.jsp\">United Kingdom</a><br/>\\n <img class=\"sp flagus\" src=\"//cdn1.i3investor.com/cm/icon/trans16.gif\" />&nbsp;&nbsp;<a target=\"_blank\" href=\"https://www.i3investor.com/index.jsp\">United States</a>\\n </td> </tr> </table> <br/> <table class=\"footer2\" cellpadding=\"0\" cellspacing=\"0\" width=\"1000\" border=\"0\" align=\"center\"> <tr><td align=\"left\" style=\"color:#fff\">&nbsp;&copy; I3 LLC 2010-2020</td></tr> <tr><td nowrap=\"nowrap\" align=\"left\"> <a href=\"/index.jsp\">Home</a> . <a href=\"/jsp/general/sitemap.jsp\">Site Map</a> . <a href=\"/jsp/general/disclaimer.jsp\">Disclaimer</a> . <a href=\"/jsp/general/tac.jsp\">Terms &amp; Conditions</a> . <a href=\"/jsp/general/privacy.jsp\">Privacy Policy</a> . <a href=\"/jsp/general/standard.jsp\">Community Standards</a> . <a href=\"/jsp/general/contact.jsp\">Contact Us</a> . <a href=\"/jsp/general/about.jsp\">About I3investor</a> </td> </tr> </table> </div> <div id=\"fboxalertdiv\"><div id=\"fboxalertmsg\"></div></div> <script type=\"text/javascript\"> var body_loaded = false; var doc_ready = false; $(document).ready(function() { if (!body_loaded) { body_loaded = true; doc_ready = true; h_init(); ahref2https(); } }); function h_init() { if (doc_ready || !body_loaded) { body_loaded = true; doc_ready = false;  if (top != self){ $(\\'body\\').html(\\'<br><br><br><h1 style=\"text-align:center\"><a target=\"_top\" href=\"\\' + self.location.href + \\'\"> \\' + self.location.href + \\'</a></h1>\\'); } $(\"#sitemenu\").msDropDown(); $(\"#sitesel\").hide(); $(\"#sitemenu\").show(); $(\\'#sitemenu_child a\\').hover( function(){ $(this).css(\\'text-decoration\\', \\'none\\').css(\\'color\\', \\'#ff0\\');}, function(){$(this).css(\\'color\\', \\'#fff\\');}); jQuery.ajaxSettings.traditional = true; if (typeof pageinit === \\'function\\') pageinit(); if (typeof subPageinit === \\'function\\') subPageinit(); if (typeof marqueinit === \\'function\\') marqueinit(); if ($(\"#addthis_toolbox1298\") != null && $(\"#addthis_toolbox1298\").length > 0 && typeof addthis !== \\'undefined\\' ) addthis.init(); $(\\'.autolink\\').each(function(index) { var match = $(this).html().match(/((https?\\\\:\\\\/\\\\/)|(www\\\\.))(\\\\S+)(\\\\w{2,4})(:[0-9]+)?(\\\\/|\\\\/([\\\\w#!:.?+=&%@!\\\\-\\\\/]))?/gi); if (match) $(this).html(linkify($(this).html())); }); } createCookie(\"ww\",$(window).width()); createCookie(\"hh\",$(window).height()); $(window).resize(function() { createCookie(\"ww\",$(window).width()); createCookie(\"hh\",$(window).height()); }); } function ahref2https() { $(\\'a.httpslink\\').each(function(key, val) { var newhref = $(val).prop(\\'href\\').replace(\"http://\", \"https://\");\\n $(val).attr(\\'href\\', newhref); }); } function selsite(site) { if (site != \"klse\") { if (site == \"us\") location.href = \"https://www.i3investor.com/index.jsp\";\\n else if (site == \"uk\") location.href = \"https://www.i3investor.co.uk/index.jsp\";\\n else location.href = \"https://\" + site + \".i3investor.com/index.jsp\";\\n } } </script> \\n    <script> (function(i,s,o,g,r,a,m){i[\\'GoogleAnalyticsObject\\']=r;i[r]=i[r]||function(){ (i[r].q=i[r].q||[]).push(arguments)},i[r].l=1*new Date();a=s.createElement(o), m=s.getElementsByTagName(o)[0];a.async=1;a.src=g;m.parentNode.insertBefore(a,m) })(window,document,\\'script\\',\\'//www.google-analytics.com/analytics.js\\',\\'ga\\');\\n ga(\\'create\\', \\'UA-15537057-1\\', \\'i3investor.com\\'); ga(\\'send\\', \\'pageview\\'); </script>         <div id=\\'div-gpt-ad-1498803871235-0\\'> <script> googletag.cmd.push(function() { googletag.display(\\'div-gpt-ad-1498803871235-0\\'); }); </script> </div>      <!-- /8799320/i3_1x1_desktop_inpage --> <div id=\\'div-gpt-ad-1553785373366-0\\' style=\\'height:1px; width:1px;\\'> <script> googletag.cmd.push(function() { googletag.display(\\'div-gpt-ad-1553785373366-0\\'); }); </script> </div>        </body> </html>'"
      ]
     },
     "execution_count": 91,
     "metadata": {},
     "output_type": "execute_result"
    }
   ],
   "source": [
    "response.text"
   ]
  },
  {
   "cell_type": "code",
   "execution_count": null,
   "metadata": {},
   "outputs": [],
   "source": []
  },
  {
   "cell_type": "code",
   "execution_count": 20,
   "metadata": {},
   "outputs": [
    {
     "data": {
      "text/html": [
       "<div>\n",
       "<style scoped>\n",
       "    .dataframe tbody tr th:only-of-type {\n",
       "        vertical-align: middle;\n",
       "    }\n",
       "\n",
       "    .dataframe tbody tr th {\n",
       "        vertical-align: top;\n",
       "    }\n",
       "\n",
       "    .dataframe thead th {\n",
       "        text-align: right;\n",
       "    }\n",
       "</style>\n",
       "<table border=\"1\" class=\"dataframe\">\n",
       "  <thead>\n",
       "    <tr style=\"text-align: right;\">\n",
       "      <th></th>\n",
       "      <th>0</th>\n",
       "      <th>1</th>\n",
       "    </tr>\n",
       "  </thead>\n",
       "  <tbody>\n",
       "    <tr>\n",
       "      <th>0</th>\n",
       "      <td>Revenue | NP to SH</td>\n",
       "      <td>9,313,000 | 1,519,000</td>\n",
       "    </tr>\n",
       "    <tr>\n",
       "      <th>1</th>\n",
       "      <td>RPS | P/RPS</td>\n",
       "      <td>119.05 Cent | 4.20</td>\n",
       "    </tr>\n",
       "    <tr>\n",
       "      <th>2</th>\n",
       "      <td>EPS | P/E | EY</td>\n",
       "      <td>19.42 Cent | 25.75 | 3.88%</td>\n",
       "    </tr>\n",
       "    <tr>\n",
       "      <th>3</th>\n",
       "      <td>DPS | DY | Payout %</td>\n",
       "      <td>19.99 Cent | 4.00% | 102.97%</td>\n",
       "    </tr>\n",
       "    <tr>\n",
       "      <th>4</th>\n",
       "      <td>NAPS | P/NAPS</td>\n",
       "      <td>0.90 | 5.56</td>\n",
       "    </tr>\n",
       "    <tr>\n",
       "      <th>5</th>\n",
       "      <td>YoY</td>\n",
       "      <td>-14.66%</td>\n",
       "    </tr>\n",
       "    <tr>\n",
       "      <th>6</th>\n",
       "      <td>NP Margin | ROE</td>\n",
       "      <td>16.31% | 21.58%</td>\n",
       "    </tr>\n",
       "    <tr>\n",
       "      <th>7</th>\n",
       "      <td>F.Y. | Ann. Date</td>\n",
       "      <td>31-Dec-2019 | 20-Feb-2020</td>\n",
       "    </tr>\n",
       "  </tbody>\n",
       "</table>\n",
       "</div>"
      ],
      "text/plain": [
       "                     0                             1\n",
       "0   Revenue | NP to SH         9,313,000 | 1,519,000\n",
       "1          RPS | P/RPS            119.05 Cent | 4.20\n",
       "2       EPS | P/E | EY    19.42 Cent | 25.75 | 3.88%\n",
       "3  DPS | DY | Payout %  19.99 Cent | 4.00% | 102.97%\n",
       "4        NAPS | P/NAPS                   0.90 | 5.56\n",
       "5                  YoY                       -14.66%\n",
       "6      NP Margin | ROE               16.31% | 21.58%\n",
       "7     F.Y. | Ann. Date     31-Dec-2019 | 20-Feb-2020"
      ]
     },
     "execution_count": 20,
     "metadata": {},
     "output_type": "execute_result"
    }
   ],
   "source": [
    "pd.read_html(html)[10]"
   ]
  },
  {
   "cell_type": "code",
   "execution_count": 18,
   "metadata": {
    "scrolled": true
   },
   "outputs": [
    {
     "data": {
      "text/html": [
       "<div>\n",
       "<style scoped>\n",
       "    .dataframe tbody tr th:only-of-type {\n",
       "        vertical-align: middle;\n",
       "    }\n",
       "\n",
       "    .dataframe tbody tr th {\n",
       "        vertical-align: top;\n",
       "    }\n",
       "\n",
       "    .dataframe thead th {\n",
       "        text-align: right;\n",
       "    }\n",
       "</style>\n",
       "<table border=\"1\" class=\"dataframe\">\n",
       "  <thead>\n",
       "    <tr style=\"text-align: right;\">\n",
       "      <th></th>\n",
       "      <th>Unnamed: 0</th>\n",
       "      <th>Last 5 Financial Years</th>\n",
       "      <th>Last 5 Financial Years.1</th>\n",
       "      <th>Last 10 Financial Years</th>\n",
       "      <th>Last 10 Financial Years.1</th>\n",
       "    </tr>\n",
       "  </thead>\n",
       "  <tbody>\n",
       "    <tr>\n",
       "      <th>0</th>\n",
       "      <td>Available Years</td>\n",
       "      <td>5 Years</td>\n",
       "      <td>5 Years</td>\n",
       "      <td>10 Years</td>\n",
       "      <td>10 Years</td>\n",
       "    </tr>\n",
       "    <tr>\n",
       "      <th>2</th>\n",
       "      <td>Continuous Years Of Revenue Growth</td>\n",
       "      <td>5 / 5</td>\n",
       "      <td>100.00%</td>\n",
       "      <td>5 / 10</td>\n",
       "      <td>50.00%</td>\n",
       "    </tr>\n",
       "    <tr>\n",
       "      <th>4</th>\n",
       "      <td>Total Positive Profit Years</td>\n",
       "      <td>5 / 5</td>\n",
       "      <td>100.00%</td>\n",
       "      <td>10 / 10</td>\n",
       "      <td>100.00%</td>\n",
       "    </tr>\n",
       "    <tr>\n",
       "      <th>5</th>\n",
       "      <td>Continuous Years Of Positive Profit</td>\n",
       "      <td>5 / 5</td>\n",
       "      <td>100.00%</td>\n",
       "      <td>10 / 10</td>\n",
       "      <td>100.00%</td>\n",
       "    </tr>\n",
       "    <tr>\n",
       "      <th>6</th>\n",
       "      <td>Continuous Years Of Profit Growth</td>\n",
       "      <td>0 / 5</td>\n",
       "      <td>0.00%</td>\n",
       "      <td>0 / 10</td>\n",
       "      <td>0.00%</td>\n",
       "    </tr>\n",
       "    <tr>\n",
       "      <th>7</th>\n",
       "      <td>Continuous Years Of Adjusted EPS Growth</td>\n",
       "      <td>0 / 5</td>\n",
       "      <td>0.00%</td>\n",
       "      <td>0 / 10</td>\n",
       "      <td>0.00%</td>\n",
       "    </tr>\n",
       "    <tr>\n",
       "      <th>9</th>\n",
       "      <td>Total Dividend Years</td>\n",
       "      <td>5 / 5</td>\n",
       "      <td>100.00%</td>\n",
       "      <td>10 / 10</td>\n",
       "      <td>100.00%</td>\n",
       "    </tr>\n",
       "    <tr>\n",
       "      <th>10</th>\n",
       "      <td>Continuous Years Of Dividend</td>\n",
       "      <td>5 / 5</td>\n",
       "      <td>100.00%</td>\n",
       "      <td>10 / 10</td>\n",
       "      <td>100.00%</td>\n",
       "    </tr>\n",
       "    <tr>\n",
       "      <th>11</th>\n",
       "      <td>Continuous Years Of Dividend Growth</td>\n",
       "      <td>4 / 5</td>\n",
       "      <td>80.00%</td>\n",
       "      <td>4 / 10</td>\n",
       "      <td>40.00%</td>\n",
       "    </tr>\n",
       "    <tr>\n",
       "      <th>12</th>\n",
       "      <td>Continuous Years Of Adjusted Dps Growth</td>\n",
       "      <td>4 / 5</td>\n",
       "      <td>80.00%</td>\n",
       "      <td>4 / 10</td>\n",
       "      <td>40.00%</td>\n",
       "    </tr>\n",
       "    <tr>\n",
       "      <th>14</th>\n",
       "      <td>Average ROE</td>\n",
       "      <td>32.35%</td>\n",
       "      <td>32.35%</td>\n",
       "      <td>31.14%</td>\n",
       "      <td>31.14%</td>\n",
       "    </tr>\n",
       "    <tr>\n",
       "      <th>15</th>\n",
       "      <td>Average Net Profit Margin</td>\n",
       "      <td>20.91%</td>\n",
       "      <td>20.91%</td>\n",
       "      <td>22.00%</td>\n",
       "      <td>22.00%</td>\n",
       "    </tr>\n",
       "  </tbody>\n",
       "</table>\n",
       "</div>"
      ],
      "text/plain": [
       "                                 Unnamed: 0 Last 5 Financial Years  \\\n",
       "0                           Available Years                5 Years   \n",
       "2        Continuous Years Of Revenue Growth                  5 / 5   \n",
       "4               Total Positive Profit Years                  5 / 5   \n",
       "5       Continuous Years Of Positive Profit                  5 / 5   \n",
       "6         Continuous Years Of Profit Growth                  0 / 5   \n",
       "7   Continuous Years Of Adjusted EPS Growth                  0 / 5   \n",
       "9                      Total Dividend Years                  5 / 5   \n",
       "10             Continuous Years Of Dividend                  5 / 5   \n",
       "11      Continuous Years Of Dividend Growth                  4 / 5   \n",
       "12  Continuous Years Of Adjusted Dps Growth                  4 / 5   \n",
       "14                              Average ROE                 32.35%   \n",
       "15                Average Net Profit Margin                 20.91%   \n",
       "\n",
       "   Last 5 Financial Years.1 Last 10 Financial Years Last 10 Financial Years.1  \n",
       "0                   5 Years                10 Years                  10 Years  \n",
       "2                   100.00%                  5 / 10                    50.00%  \n",
       "4                   100.00%                 10 / 10                   100.00%  \n",
       "5                   100.00%                 10 / 10                   100.00%  \n",
       "6                     0.00%                  0 / 10                     0.00%  \n",
       "7                     0.00%                  0 / 10                     0.00%  \n",
       "9                   100.00%                 10 / 10                   100.00%  \n",
       "10                  100.00%                 10 / 10                   100.00%  \n",
       "11                   80.00%                  4 / 10                    40.00%  \n",
       "12                   80.00%                  4 / 10                    40.00%  \n",
       "14                   32.35%                  31.14%                    31.14%  \n",
       "15                   20.91%                  22.00%                    22.00%  "
      ]
     },
     "execution_count": 18,
     "metadata": {},
     "output_type": "execute_result"
    }
   ],
   "source": [
    "pd.read_html(html)[14].dropna()"
   ]
  },
  {
   "cell_type": "code",
   "execution_count": 26,
   "metadata": {},
   "outputs": [],
   "source": [
    "isummary = pd.read_html(html)[10]"
   ]
  },
  {
   "cell_type": "code",
   "execution_count": 31,
   "metadata": {},
   "outputs": [],
   "source": [
    "df = pd.read_html(html)[14].dropna()"
   ]
  },
  {
   "cell_type": "code",
   "execution_count": 56,
   "metadata": {},
   "outputs": [
    {
     "data": {
      "text/plain": [
       "0"
      ]
     },
     "execution_count": 56,
     "metadata": {},
     "output_type": "execute_result"
    }
   ],
   "source": [
    "# i3investor table\n",
    "isummary_column = 9\n",
    "worksheet.set_column(isummary_column, isummary_column+1, 20)  # Width of column B set to 30.\n",
    "\n",
    "worksheet.write_column(1, isummary_column, isummary[0])\n",
    "worksheet.write_column(1, isummary_column+1, isummary[1], colored_format)"
   ]
  },
  {
   "cell_type": "code",
   "execution_count": 57,
   "metadata": {},
   "outputs": [],
   "source": [
    "start_column = 0\n",
    "for i in df.columns:\n",
    "    worksheet.write_column(23, start_column, df[i])\n",
    "    start_column += 1"
   ]
  },
  {
   "cell_type": "code",
   "execution_count": 58,
   "metadata": {},
   "outputs": [],
   "source": [
    "workbook.close()\n"
   ]
  },
  {
   "cell_type": "code",
   "execution_count": null,
   "metadata": {},
   "outputs": [],
   "source": []
  },
  {
   "cell_type": "code",
   "execution_count": 6,
   "metadata": {},
   "outputs": [
    {
     "data": {
      "text/plain": [
       "7070.0"
      ]
     },
     "execution_count": 6,
     "metadata": {},
     "output_type": "execute_result"
    }
   ],
   "source": [
    "total_assets = search(\"Total Assets\", maxis.balance_sheet)\n",
    "total_liabilities = search(\"Total Liabilities\", maxis.balance_sheet)\n",
    "current_shares_outstanding = search(\"Total Common Shares Outstanding\", maxis.balance_sheet)\n",
    "total_equity = search(\"Total Equity\", maxis.balance_sheet)\n",
    "\n",
    "net_assets = total_assets - total_liabilities\n",
    "net_assets"
   ]
  },
  {
   "cell_type": "code",
   "execution_count": 8,
   "metadata": {},
   "outputs": [
    {
     "data": {
      "text/plain": [
       "0.9"
      ]
     },
     "execution_count": 8,
     "metadata": {},
     "output_type": "execute_result"
    }
   ],
   "source": [
    "net_asset_value = net_assets / current_shares_outstanding\n",
    "net_asset_value = round(net_asset_value, 2)\n",
    "net_asset_value"
   ]
  },
  {
   "cell_type": "code",
   "execution_count": null,
   "metadata": {},
   "outputs": [],
   "source": [
    "# Overview\n",
    "Last Price\n",
    "52 wk Range\n",
    "EPS\n",
    "Volume\n",
    "Market Cap\n",
    "Dividend (Yield)\n",
    "P/E Ratio\n",
    "Next Earnings Date"
   ]
  },
  {
   "cell_type": "code",
   "execution_count": null,
   "metadata": {},
   "outputs": [],
   "source": [
    "EPS ()\n",
    "(Earnings/Latest No. Of Shares)\n",
    "NAV ()\n",
    "(Shareholders' Equity/Latest No. Of Shares)\n",
    " How to Calculate Shareholders' Equity. Shareholders' equity may be calculated by subtracting its total liabilities from its total assets—both of which are itemized on a company's balance sheet. Total assets can be categorized as either current or non-current assets.\n",
    "Price Earnings Ratio (PER)\n",
    "(Price/EPS)\n",
    "Net Earnings Margin\n",
    "(Net Earnings/Revenue)\n",
    "Revenue Growth\n",
    "((Current Year Revenue - Last Year Revenue) / Last Year Revenue)\n",
    "Net Earnings Growth\n",
    "((Current Year Earnings - Last Year Earnings) / Last Year Earnings)\n",
    "Return On Asset (ROA)\n",
    "(Net Earnings/Total Assets)\n",
    "Return On Equity (ROE)\n",
    "(Net Earnings/Equity)\n",
    "Current Ratio\n",
    "(Current Assets/Current Liabilities)"
   ]
  },
  {
   "cell_type": "code",
   "execution_count": null,
   "metadata": {},
   "outputs": [],
   "source": [
    "\t \t \n",
    "P/E Ratio TTM\t29.27\t22.17\n",
    "Price to Sales TTM\t4.42\t3.74\n",
    "Price to Cash Flow MRQ\t93.21\t101.87\n",
    "Price to Free Cash Flow TTM\t78.68\t134.26\n",
    "Price to Book MRQ\t5.86\t18.44\n",
    "Price to Tangible Book MRQ"
   ]
  },
  {
   "cell_type": "code",
   "execution_count": null,
   "metadata": {},
   "outputs": [],
   "source": [
    "PE\n",
    "price to book\n",
    "dividend\n",
    "price cash\n",
    "price sales"
   ]
  },
  {
   "cell_type": "code",
   "execution_count": 4,
   "metadata": {},
   "outputs": [
    {
     "data": {
      "text/plain": [
       "0.19"
      ]
     },
     "execution_count": 4,
     "metadata": {},
     "output_type": "execute_result"
    }
   ],
   "source": [
    "search(\"Basic EPS ANN\", maxis.ratios)"
   ]
  },
  {
   "cell_type": "code",
   "execution_count": null,
   "metadata": {},
   "outputs": [],
   "source": [
    "    \"EPS\": search(\"Basic EPS ANN\", maxis.ratio),\n",
    "    \"EPS(MRQ) vs Qtr. 1 Yr. Ago MRQ\": search(\"EPS(MRQ) vs Qtr. 1 Yr. Ago MRQ\", maxis.ratio),\n",
    "    \"EPS(TTM) vs TTM 1 Yr. Ago TTM\": search(\"EPS(TTM) vs TTM 1 Yr. Ago TTM\", maxis.ratio),\n",
    "    \"5 Year EPS Growth 5YA\": search(\"5 Year EPS Growth 5YA\", maxis.ratio),\n",
    "        \n",
    "    \"Return on Equity TTM\": search(\"Return on Equity TTM\", maxis.ratio),\n",
    "    \"Return on Equity 5YA\": search(\"Return on Equity 5YA\", maxis.ratio),\n",
    "        \n",
    "    \"Price to Earnings Ratio\": search(\"P/E Ratio TTM\", maxis.ratio),\n",
    "        \n",
    "    \"Dividend per Share\": search(\"Dividend Yield ANN\", maxis.ratio),\n",
    "    \"Dividend Yield 5 Year Avg. 5YA\": search(\"Dividend Yield 5 Year Avg. 5YA\", maxis.ratio),\n",
    "    \"Dividend Growth Rate ANN\": search(\"Dividend Growth Rate ANN\", maxis.ratio),\n",
    "        \n",
    "    \"Net Asset per Share\": net_asset_value,"
   ]
  },
  {
   "cell_type": "code",
   "execution_count": null,
   "metadata": {},
   "outputs": [],
   "source": [
    "table4 = {\n",
    "    \"\": search(\"\", maxis.ratio),\n",
    "    \"Price to Book\": search(\"Price to Book MRQ\", maxis.ratio),\n",
    "    \"\": search(\"\", maxis.ratio),\n",
    "    \"\": search(\"\", maxis.ratio),\n",
    "    \"\": search(\"\", maxis.ratio),\n",
    "    \"\": search(\"\", maxis.ratio),\n",
    "    \"\": search(\"\", maxis.ratio),\n",
    "    \n",
    "    \"LT Debt to Equity\": search(\"LT Debt to Equity\", maxis.ratio),\n",
    "}"
   ]
  },
  {
   "cell_type": "code",
   "execution_count": null,
   "metadata": {},
   "outputs": [],
   "source": [
    "# Required data, table 1\n",
    "worksheet.write_column('A1', table4.keys())\n",
    "worksheet.write_column('B1', table4.values(), colored_format)\n",
    "\n",
    "# rewrite in percentage\n",
    "worksheet.write('B5', maxis.growth_rate()[0], percentage_format)\n",
    "worksheet.write('B7', maxis.discount_rate()[0], percentage_format)"
   ]
  },
  {
   "cell_type": "code",
   "execution_count": null,
   "metadata": {},
   "outputs": [],
   "source": []
  },
  {
   "cell_type": "code",
   "execution_count": null,
   "metadata": {},
   "outputs": [],
   "source": []
  },
  {
   "cell_type": "markdown",
   "metadata": {},
   "source": [
    "## Analyse stock"
   ]
  },
  {
   "cell_type": "code",
   "execution_count": 55,
   "metadata": {},
   "outputs": [],
   "source": [
    "excel_name = maxis.stock_cd + \".xlsx\"\n",
    "sheet_name = \"Sheet1\"\n",
    "\n",
    "# writer = pd.ExcelWriter(excel_name, engine='xlsxwriter') writer.save()\n",
    "workbook = xlsxwriter.Workbook(excel_name)\n",
    "worksheet = workbook.add_worksheet(sheet_name)\n",
    "\n",
    "worksheet.set_column('A:A', 20)\n",
    "worksheet.set_column('A:I', 10)\n",
    "\n",
    "currency_format = workbook.add_format({'num_format': '$#,##0.00'})\n",
    "percentage_format = workbook.add_format({\n",
    "    'num_format': '0.0%',\n",
    "    'bg_color': '#dae8ec',\n",
    "    'border': 1})\n",
    "\n",
    "colored_format = workbook.add_format({\n",
    "    'num_format': '$#,##0.00',\n",
    "    'bg_color': '#dae8ec',\n",
    "    'border': 1\n",
    "})"
   ]
  },
  {
   "cell_type": "code",
   "execution_count": 142,
   "metadata": {},
   "outputs": [
    {
     "name": "stderr",
     "output_type": "stream",
     "text": [
      "/home/xunwei/anaconda3/envs/stock/lib/python3.8/site-packages/urllib3/connectionpool.py:997: InsecureRequestWarning: Unverified HTTPS request is being made. Adding certificate verification is strongly advised. See: https://urllib3.readthedocs.io/en/latest/advanced-usage.html#ssl-warnings\n",
      "  warnings.warn(\n"
     ]
    },
    {
     "data": {
      "text/plain": [
       "0"
      ]
     },
     "execution_count": 142,
     "metadata": {},
     "output_type": "execute_result"
    }
   ],
   "source": [
    "# Stock \n",
    "table1 = {\n",
    "    \"Name of Stock\": maxis.stock_cd.replace(\"-\", \" \").title(),\n",
    "    \"Operating Cash Flow\": search(\"Cash From Operating Activities\", maxis.cash_flow()),\n",
    "    \"Total Debt\": search(\"Total Long Term Debt\", maxis.balance_sheet()),\n",
    "    \"Cash & Equivalent\": search(\"Cash & Equivalent\", maxis.balance_sheet()),\n",
    "    \"Growth Rate\": 0,\n",
    "    \"No. of Shares Outstanding\": search(\"Shares Outstanding\", maxis.overview())/1000000,\n",
    "    \"Discount Rate\": 0\n",
    "}"
   ]
  },
  {
   "cell_type": "code",
   "execution_count": 265,
   "metadata": {},
   "outputs": [
    {
     "name": "stderr",
     "output_type": "stream",
     "text": [
      "/home/xunwei/anaconda3/envs/stock/lib/python3.8/site-packages/urllib3/connectionpool.py:997: InsecureRequestWarning: Unverified HTTPS request is being made. Adding certificate verification is strongly advised. See: https://urllib3.readthedocs.io/en/latest/advanced-usage.html#ssl-warnings\n",
      "  warnings.warn(\n"
     ]
    },
    {
     "data": {
      "text/plain": [
       "0"
      ]
     },
     "execution_count": 265,
     "metadata": {},
     "output_type": "execute_result"
    }
   ],
   "source": [
    "# Required data, table 1\n",
    "worksheet.write_column('A1', table1.keys())\n",
    "worksheet.write_column('B1', table1.values(), colored_format)\n",
    "\n",
    "# rewrite in percentage\n",
    "worksheet.write('B5', maxis.growth_rate()[0], percentage_format)\n",
    "worksheet.write('B7', maxis.discount_rate()[0], percentage_format)"
   ]
  },
  {
   "cell_type": "code",
   "execution_count": 246,
   "metadata": {},
   "outputs": [],
   "source": [
    "# Ten-year cash flow calculations, bottom table\n",
    "start_row = 11\n",
    "\n",
    "# headers\n",
    "worksheet.write_column(start_row, 0, [\"Year\", \"Cash Flow\", \"Discount Rate\", \"Discounted Value\"])\n",
    "worksheet.write_row(start_row, 1, list(range(now.year, now.year + 10, 1)))\n",
    "\n",
    "# calculations\n",
    "cash_flow = [\"=B2*(1+B5)\"]\n",
    "cash_flow.extend([\"=\" + chr(ord('B') + i) + str(start_row+2) + \"*(1+$B$5)\" for i in range(10)])\n",
    "# +1, +2\n",
    "cf_row = start_row + 1\n",
    "for i in range(10):\n",
    "    worksheet.write_formula(cf_row, i+1, cash_flow[i], currency_format)\n",
    "    \n",
    "# +2, +3\n",
    "dr_row = start_row + 2\n",
    "discount_rate = [\"=1/(1 + $B$7)^\" + str(i) for i in range(1, 11)]\n",
    "for i in range(10):\n",
    "    worksheet.write_formula(dr_row, i+1, discount_rate[i])\n",
    "\n",
    "# +3, +4\n",
    "dv_row = start_row + 3\n",
    "discounted_value = [\"=PRODUCT(\"+chr(ord('B')+i)+str(cf_row+1)+\":\"+chr(ord('B')+i)+str(dr_row+1)+\")\" for i in range(10)]\n",
    "for i in range(10):\n",
    "    worksheet.write_formula(dv_row, i+1, discounted_value[i], currency_format)"
   ]
  },
  {
   "cell_type": "code",
   "execution_count": 247,
   "metadata": {},
   "outputs": [
    {
     "data": {
      "text/plain": [
       "0"
      ]
     },
     "execution_count": 247,
     "metadata": {},
     "output_type": "execute_result"
    }
   ],
   "source": [
    "# Intrinsic values, table 2\n",
    "worksheet.write_column('D2', [\"PV of 10 yr Cash Flows\", \"Intrinsic Value per Share\", \n",
    "                              \"- Debt per Share\", \"+ Cash per share\", \"net Cash per Share\"])\n",
    "worksheet.write_column('E2', [f\"=SUM(B{dv_row+1}:K{dv_row+1})\", \"=E2/B6\", \"=B3/B6\", \"=B4/B6\", \"=E3-E4+E5\"], colored_format)"
   ]
  },
  {
   "cell_type": "code",
   "execution_count": 248,
   "metadata": {},
   "outputs": [
    {
     "data": {
      "text/plain": [
       "0"
      ]
     },
     "execution_count": 248,
     "metadata": {},
     "output_type": "execute_result"
    }
   ],
   "source": [
    "# Stock overview, table 3\n",
    "df = maxis.overview().reset_index(drop=True)\n",
    "index = [0, 5, 6, 7, 8, 9, 11, 15]\n",
    "worksheet.write_column('G2', df.iloc[index, 0])\n",
    "worksheet.write_column('H2', df.iloc[index, 1])"
   ]
  },
  {
   "cell_type": "code",
   "execution_count": 249,
   "metadata": {},
   "outputs": [
    {
     "name": "stderr",
     "output_type": "stream",
     "text": [
      "/home/xunwei/anaconda3/envs/stock/lib/python3.8/site-packages/urllib3/connectionpool.py:997: InsecureRequestWarning: Unverified HTTPS request is being made. Adding certificate verification is strongly advised. See: https://urllib3.readthedocs.io/en/latest/advanced-usage.html#ssl-warnings\n",
      "  warnings.warn(\n"
     ]
    },
    {
     "data": {
      "text/plain": [
       "0"
      ]
     },
     "execution_count": 249,
     "metadata": {},
     "output_type": "execute_result"
    }
   ],
   "source": [
    "# report\n",
    "worksheet.write_column('A18', [maxis.growth_rate()[1], maxis.beta()[1]])"
   ]
  },
  {
   "cell_type": "code",
   "execution_count": 42,
   "metadata": {},
   "outputs": [],
   "source": [
    "workbook.close()\n",
    "# Shift + Ctrl + F9"
   ]
  },
  {
   "cell_type": "code",
   "execution_count": null,
   "metadata": {},
   "outputs": [],
   "source": []
  },
  {
   "cell_type": "markdown",
   "metadata": {},
   "source": [
    "## Rename excel"
   ]
  },
  {
   "cell_type": "code",
   "execution_count": 280,
   "metadata": {},
   "outputs": [],
   "source": [
    "import os\n",
    "import numpy as np"
   ]
  },
  {
   "cell_type": "code",
   "execution_count": 273,
   "metadata": {},
   "outputs": [],
   "source": [
    "operating_cf = search(\"Cash From Operating Activities\", maxis.cash_flow())\n",
    "shares_outstanding = search(\"Shares Outstanding\", maxis.overview())/1000000"
   ]
  },
  {
   "cell_type": "code",
   "execution_count": 278,
   "metadata": {},
   "outputs": [],
   "source": [
    "last_price = search(\"Last Price\", maxis.overview())"
   ]
  },
  {
   "cell_type": "code",
   "execution_count": 267,
   "metadata": {},
   "outputs": [],
   "source": [
    "cash_flow = []\n",
    "for i in range(1, 11):\n",
    "    operating_cf = operating_cf * (1 + maxis.growth_rate)\n",
    "    cash_flow.append(operating_cf)"
   ]
  },
  {
   "cell_type": "code",
   "execution_count": 282,
   "metadata": {},
   "outputs": [
    {
     "data": {
      "text/plain": [
       "'\\n#            rate            values      \\na =  np.npv(maxis.discount_rate, cash_flow) \\nprint(\"Net Present Value(npv) : \", a) \\n\\n(values / (1+rate)**np.arange(0, len(values))).sum(axis=0)\\n'"
      ]
     },
     "execution_count": 282,
     "metadata": {},
     "output_type": "execute_result"
    }
   ],
   "source": [
    "values = cash_flow\n",
    "rate = maxis.discount_rate\n",
    "\n",
    "npv = (values / (1+rate)**np.arange(1, len(values)+1)).sum(axis=0) / shares_outstanding\n",
    "\n",
    "'''\n",
    "#            rate            values      \n",
    "a =  np.npv(maxis.discount_rate, cash_flow) \n",
    "print(\"Net Present Value(npv) : \", a) \n",
    "\n",
    "(values / (1+rate)**np.arange(0, len(values))).sum(axis=0)\n",
    "'''"
   ]
  },
  {
   "cell_type": "code",
   "execution_count": 289,
   "metadata": {},
   "outputs": [],
   "source": [
    "os.rename(excel_name, maxis.stock_cd + \"-\" + str(round(npv, 2)) + \"-\" + str(last_price) + \".xlsx\") "
   ]
  },
  {
   "cell_type": "code",
   "execution_count": null,
   "metadata": {},
   "outputs": [],
   "source": []
  },
  {
   "cell_type": "code",
   "execution_count": 290,
   "metadata": {},
   "outputs": [
    {
     "name": "stdout",
     "output_type": "stream",
     "text": [
      "[NbConvertApp] Converting notebook Scrape_from_investing.ipynb to script\n",
      "[NbConvertApp] Writing 11719 bytes to Scrape_from_investing.py\n"
     ]
    }
   ],
   "source": [
    "!jupyter nbconvert --to script Scrape_from_investing.ipynb"
   ]
  },
  {
   "cell_type": "code",
   "execution_count": null,
   "metadata": {},
   "outputs": [],
   "source": []
  },
  {
   "cell_type": "code",
   "execution_count": null,
   "metadata": {},
   "outputs": [],
   "source": []
  }
 ],
 "metadata": {
  "kernelspec": {
   "display_name": "Python 3",
   "language": "python",
   "name": "python3"
  },
  "language_info": {
   "codemirror_mode": {
    "name": "ipython",
    "version": 3
   },
   "file_extension": ".py",
   "mimetype": "text/x-python",
   "name": "python",
   "nbconvert_exporter": "python",
   "pygments_lexer": "ipython3",
   "version": "3.8.0"
  }
 },
 "nbformat": 4,
 "nbformat_minor": 2
}
