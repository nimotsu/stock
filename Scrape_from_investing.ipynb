{
 "cells": [
  {
   "cell_type": "code",
   "execution_count": 1,
   "metadata": {},
   "outputs": [],
   "source": [
    "# from urllib.request import Request, urlopen\n",
    "import requests\n",
    "import pandas as pd\n",
    "import re\n",
    "from bs4 import BeautifulSoup\n",
    "import xlsxwriter\n",
    "import datetime\n",
    "now = datetime.datetime.now()"
   ]
  },
  {
   "cell_type": "code",
   "execution_count": 263,
   "metadata": {},
   "outputs": [
    {
     "data": {
      "text/plain": [
       "'\\n10% for public companies\\n15% for private companies that are scaling predictably (say above $10m in ARR, and growing greater than 40% year on year)\\n20% for private companies that have not yet reached scale and predictable growth\\n'"
      ]
     },
     "execution_count": 263,
     "metadata": {},
     "output_type": "execute_result"
    }
   ],
   "source": [
    "def url2html(url, headers=None, params=None, data=None):\n",
    "    headers={'User-Agent': 'Mozilla/5.0'}\n",
    "    try:\n",
    "        req = requests.get(url, headers=headers, params=params, data=data)\n",
    "    except:\n",
    "        req = requests.get(url, headers=headers, params=params, data=data, verify=False)\n",
    "    html = req.text\n",
    "    return html\n",
    "    \n",
    "def search(term: str, df, index = 1):\n",
    "    return float(df[df[0].str.contains('(?i)' + term)][index].values[0].replace(\",\", \"\"))\n",
    "\n",
    "\n",
    "\n",
    "class Webpage:\n",
    "    def __init__(self, html):\n",
    "        self.html = html\n",
    "        self.soup = BeautifulSoup(self.html, 'html.parser')\n",
    "        try:\n",
    "            self.tables = pd.read_html(self.html)\n",
    "        except:\n",
    "            self.tables = None\n",
    "    \n",
    "    @classmethod\n",
    "    def from_url(cls, url, headers=None, params=None, data=None):\n",
    "        \"\"\"constructor with url\"\"\"\n",
    "\n",
    "        html = url2html(url, headers)\n",
    "        return cls(html)\n",
    "    \n",
    "    def get_span(self, tag: str, class_name: list):\n",
    "        \"\"\"return df from columns not in <table>\"\"\"\n",
    "        \n",
    "        def get_tag(tag, class_name):\n",
    "            tags = self.soup.find_all(tag, {'class': class_name})\n",
    "            text = [i.get_text() for i in tags if i.get_text() != '']\n",
    "            return text\n",
    "        \n",
    "        attrib = get_tag(tag, class_name[0])\n",
    "        data = get_tag(tag, class_name[1])\n",
    "\n",
    "        ls = list(zip(attrib, data))\n",
    "        df = pd.DataFrame(ls)\n",
    "        return df\n",
    "        \n",
    "        \n",
    "class Stock:\n",
    "    def __init__(self, stock_cd):\n",
    "        self.stock_cd = stock_cd\n",
    "        self.overviewp = Webpage.from_url(f\"https://www.investing.com/equities/{stock_cd}\")\n",
    "        self.stock_id = self.get_id()\n",
    "        self.ratiosp = Webpage.from_url(f\"https://www.investing.com/equities/{stock_cd}-ratios\")\n",
    "        self.cash_flowp = Webpage.from_url(f\"https://www.investing.com/instruments/Financials/changereporttypeajax?action=change_report_type&pair_ID={self.stock_id}&report_type=CAS&period_type=Annual\")\n",
    "        self.balance_sheetp = Webpage.from_url(f\"https://www.investing.com/instruments/Financials/changereporttypeajax?action=change_report_type&pair_ID={self.stock_id}&report_type=BAL&period_type=Annual\")\n",
    "        # self.income_statementp = Webpage.from_url(f\"https://www.investing.com/equities/{stock_cd}-income-statement\")\n",
    "        # self.earningsp = Webpage.from_url(f\"https://www.investing.com/equities/{stock_cd}-earnings\")\n",
    "        # self.financialp = Webpage.from_url(f\"https://www.investing.com/equities/{stock_cd}-financial-summary\")\n",
    "    \n",
    "    def growth_rate(self):\n",
    "        stock_cd = self.stock_cd.replace(\"-\", \" \")\n",
    "        params = (\n",
    "            ('x-algolia-agent', 'Algolia for JavaScript (4.2.0); Browser (lite)'),\n",
    "            ('x-algolia-api-key', 'be7c37718f927d0137a88a11b69ae419'),\n",
    "            ('x-algolia-application-id', '17IQHZWXZW'),\n",
    "        )\n",
    "        data = f'{{\"query\":\"{stock_cd} klse\",\"highlightPostTag\":\" \",\"highlightPreTag\":\" \",\"restrictHighlightAndSnippetArrays\":true}}'\n",
    "        try:\n",
    "            response = requests.post('https://17iqhzwxzw-dsn.algolia.net/1/indexes/companies/query', params=params, data=data)\n",
    "            stock_url = response.json()['hits'][0]['url']\n",
    "            url = \"https://simplywall.st\" + stock_url\n",
    "        except:\n",
    "            return None\n",
    "        \n",
    "        html = url2html(url)\n",
    "        soup = BeautifulSoup(html, 'html.parser')\n",
    "        growth = soup.find('p', {'data-cy-id': 'key-metric-value-forecasted-annual-earnings-growth'}).get_text().replace('%', '')\n",
    "        self.growth_rate = float(growth)/100\n",
    "        return self.growth_rate, url\n",
    "    \n",
    "    def beta(self):\n",
    "        url = f\"https://www.infrontanalytics.com/fe-EN/33123FM/{self.stock_cd}-/Beta\"\n",
    "        html = url2html(url)\n",
    "        m = re.search(r\"shows a Beta of ([+-]?\\d+\\.\\d+).\", \"shows a Beta of 1.56.\")\n",
    "        beta = m.groups()[0]\n",
    "        return float(beta), url\n",
    "    \n",
    "    def discount_rate(self):\n",
    "        beta, url = self.beta()\n",
    "                \n",
    "        dr = {0.8: 5, 1: 6, 1.1: 6.8, 1.2: 7, 1.3: 7.9, 1.4: 8, 1.5: 8.9}\n",
    "        for key in dr:\n",
    "            if beta < key:\n",
    "                discount_rate = dr[key]\n",
    "            else:\n",
    "                discount_rate = 9\n",
    "        self.discount_rate = discount_rate/100\n",
    "        return self.discount_rate, url\n",
    "        \n",
    "    def get_id(self):\n",
    "        m = re.search('data-pair-id=\"(\\d+)\"', self.overviewp.html)\n",
    "        stock_id = m.groups()[0]\n",
    "        return stock_id\n",
    "    \n",
    "    def overview(self):\n",
    "        soup = self.overviewp.soup\n",
    "        last_price = soup.find('span', {'id':'last_last'}).get_text()\n",
    "        ls = ['Last Price', last_price]\n",
    "        df = pd.DataFrame([ls])\n",
    "        \n",
    "        overview = self.overviewp.get_span('span', ['float_lang_base_1', 'float_lang_base_2'])\n",
    "        return pd.concat([df, overview])\n",
    "    \n",
    "    def ratios(self):\n",
    "        tables = self.ratiosp.tables\n",
    "        numbers = range(1, 9)\n",
    "        ratios = pd.concat(tables[i] for i in numbers)\n",
    "        return ratios\n",
    "    \n",
    "    def cash_flow(self):\n",
    "        df = self.cash_flowp.tables[0]\n",
    "        cash_flow = df[~df[1].str.contains(\"a|e|i|o|u\")]\n",
    "        return cash_flow\n",
    "    \n",
    "    def balance_sheet(self):\n",
    "        df = self.balance_sheetp.tables[0]\n",
    "        balance_sheet = df[~df[1].str.contains(\"a|e|i|o|u\")]\n",
    "        return balance_sheet\n",
    "    \n",
    "    def earnings(self):\n",
    "        s = requests.Session()\n",
    "        url = f\"https://www.investing.com/equities/{self.stock_cd}-earnings\"\n",
    "        headers={ \"User-Agent\": \"Mozilla/5.0\"}\n",
    "        r = s.get(url, headers={ \"User-Agent\": \"Mozilla/5.0\"})\n",
    "        \n",
    "        # get more history - to work on\n",
    "        '''\n",
    "        more_history = \"https://www.investing.com/equities/morehistory\"\n",
    "        headers = {\n",
    "            'User-Agent': 'Mozilla/5.0',\n",
    "            'X-Requested-With': 'XMLHttpRequest',\n",
    "            'Referer': url,\n",
    "        }\n",
    "        data = {\"pairID\" : \"41688\", \"last_timestamp\": \"2019-0-02\"}\n",
    "        r = s.post(more_history, headers=headers, cookies=r.cookies, data=data)\n",
    "        r.json()['historyRows']\n",
    "        '''\n",
    "        return r.text\n",
    "    \n",
    "    def financial_summary(self):\n",
    "        def get_summary(html):\n",
    "            webpage = Webpage(html)\n",
    "            soup = webpage.soup\n",
    "\n",
    "            title = soup.find('h3').text\n",
    "            df = webpage.get_span('span', ['float_lang_base_1', 'float_lang_base_2'])\n",
    "            table = pd.read_html(str(soup))[0]\n",
    "            return [title, table, df] # pd.concat([table, df], axis=0, ignore_index=True)\n",
    "        \n",
    "        financial_summary = f\"https://www.investing.com/instruments/Financials/changesummaryreporttypeajax?action=change_report_type&pid={stock_id}&financial_id={stock_id}&ratios_id={stock_id}&period_type=\"\n",
    "        annual = financial_summary + \"Annual\"\n",
    "        # interim = financial_summary + \"Interim\"\n",
    "        \n",
    "        df = pd.DataFrame()\n",
    "        soup = Webpage.from_url(annual).soup\n",
    "        sections = soup.find_all('div', \"companySummaryIncomeStatement\")\n",
    "        result = []\n",
    "        for i in sections:\n",
    "            result.append(get_summary(str(i)))\n",
    "        return result\n",
    "            \n",
    "        \n",
    "        \n",
    "'''\n",
    "10% for public companies\n",
    "15% for private companies that are scaling predictably (say above $10m in ARR, and growing greater than 40% year on year)\n",
    "20% for private companies that have not yet reached scale and predictable growth\n",
    "'''"
   ]
  },
  {
   "cell_type": "code",
   "execution_count": 292,
   "metadata": {},
   "outputs": [
    {
     "name": "stdout",
     "output_type": "stream",
     "text": [
      "err\n"
     ]
    }
   ],
   "source": [
    "try:\n",
    "    maxis = Stock(\"mais-bhd\")\n",
    "except:\n",
    "    print('err')"
   ]
  },
  {
   "cell_type": "code",
   "execution_count": 47,
   "metadata": {},
   "outputs": [
    {
     "name": "stderr",
     "output_type": "stream",
     "text": [
      "/home/xunwei/anaconda3/envs/stock/lib/python3.8/site-packages/urllib3/connectionpool.py:997: InsecureRequestWarning: Unverified HTTPS request is being made. Adding certificate verification is strongly advised. See: https://urllib3.readthedocs.io/en/latest/advanced-usage.html#ssl-warnings\n",
      "  warnings.warn(\n"
     ]
    }
   ],
   "source": [
    "url = \"https://www.infrontanalytics.com/fe-EN/30045FM/Public-Bank-Bhd-/Beta\"\n",
    "html = url2html(url)\n",
    "soup = BeautifulSoup(html)"
   ]
  },
  {
   "cell_type": "code",
   "execution_count": null,
   "metadata": {},
   "outputs": [],
   "source": []
  },
  {
   "cell_type": "code",
   "execution_count": null,
   "metadata": {},
   "outputs": [],
   "source": []
  },
  {
   "cell_type": "code",
   "execution_count": null,
   "metadata": {},
   "outputs": [],
   "source": []
  },
  {
   "cell_type": "code",
   "execution_count": null,
   "metadata": {},
   "outputs": [],
   "source": []
  },
  {
   "cell_type": "code",
   "execution_count": null,
   "metadata": {},
   "outputs": [],
   "source": []
  },
  {
   "cell_type": "code",
   "execution_count": 244,
   "metadata": {},
   "outputs": [],
   "source": [
    "excel_name = maxis.stock_cd + \".xlsx\"\n",
    "sheet_name = \"Sheet1\"\n",
    "\n",
    "# writer = pd.ExcelWriter(excel_name, engine='xlsxwriter') writer.save()\n",
    "workbook = xlsxwriter.Workbook(excel_name)\n",
    "worksheet = workbook.add_worksheet(sheet_name)\n",
    "\n",
    "worksheet.set_column('A:K', 10)\n",
    "\n",
    "currency_format = workbook.add_format({'num_format': '$#,##0.00'})\n",
    "percentage_format = workbook.add_format({\n",
    "    'num_format': '0.0%',\n",
    "    'bg_color': '#dae8ec',\n",
    "    'border': 1})\n",
    "\n",
    "colored_format = workbook.add_format({\n",
    "    'num_format': '$#,##0.00',\n",
    "    'bg_color': '#dae8ec',\n",
    "    'border': 1\n",
    "})"
   ]
  },
  {
   "cell_type": "code",
   "execution_count": 142,
   "metadata": {},
   "outputs": [
    {
     "name": "stderr",
     "output_type": "stream",
     "text": [
      "/home/xunwei/anaconda3/envs/stock/lib/python3.8/site-packages/urllib3/connectionpool.py:997: InsecureRequestWarning: Unverified HTTPS request is being made. Adding certificate verification is strongly advised. See: https://urllib3.readthedocs.io/en/latest/advanced-usage.html#ssl-warnings\n",
      "  warnings.warn(\n"
     ]
    },
    {
     "data": {
      "text/plain": [
       "0"
      ]
     },
     "execution_count": 142,
     "metadata": {},
     "output_type": "execute_result"
    }
   ],
   "source": [
    "# Stock \n",
    "table1 = {\n",
    "    \"Name of Stock\": maxis.stock_cd.replace(\"-\", \" \").title(),\n",
    "    \"Operating Cash Flow\": search(\"Cash From Operating Activities\", maxis.cash_flow()),\n",
    "    \"Total Debt\": search(\"Total Long Term Debt\", maxis.balance_sheet()),\n",
    "    \"Cash & Equivalent\": search(\"Cash & Equivalent\", maxis.balance_sheet()),\n",
    "    \"Growth Rate\": 0,\n",
    "    \"No. of Shares Outstanding\": search(\"Shares Outstanding\", maxis.overview())/1000000,\n",
    "    \"Discount Rate\": 0\n",
    "}"
   ]
  },
  {
   "cell_type": "code",
   "execution_count": 265,
   "metadata": {},
   "outputs": [
    {
     "name": "stderr",
     "output_type": "stream",
     "text": [
      "/home/xunwei/anaconda3/envs/stock/lib/python3.8/site-packages/urllib3/connectionpool.py:997: InsecureRequestWarning: Unverified HTTPS request is being made. Adding certificate verification is strongly advised. See: https://urllib3.readthedocs.io/en/latest/advanced-usage.html#ssl-warnings\n",
      "  warnings.warn(\n"
     ]
    },
    {
     "data": {
      "text/plain": [
       "0"
      ]
     },
     "execution_count": 265,
     "metadata": {},
     "output_type": "execute_result"
    }
   ],
   "source": [
    "# Required data, table 1\n",
    "worksheet.write_column('A1', table1.keys())\n",
    "worksheet.write_column('B1', table1.values(), colored_format)\n",
    "\n",
    "# rewrite in percentage\n",
    "worksheet.write('B5', maxis.growth_rate()[0], percentage_format)\n",
    "worksheet.write('B7', maxis.discount_rate()[0], percentage_format)"
   ]
  },
  {
   "cell_type": "code",
   "execution_count": 246,
   "metadata": {},
   "outputs": [],
   "source": [
    "# Ten-year cash flow calculations, bottom table\n",
    "start_row = 11\n",
    "\n",
    "# headers\n",
    "worksheet.write_column(start_row, 0, [\"Year\", \"Cash Flow\", \"Discount Rate\", \"Discounted Value\"])\n",
    "worksheet.write_row(start_row, 1, list(range(now.year, now.year + 10, 1)))\n",
    "\n",
    "# calculations\n",
    "cash_flow = [\"=B2*(1+B5)\"]\n",
    "cash_flow.extend([\"=\" + chr(ord('B') + i) + str(start_row+2) + \"*(1+$B$5)\" for i in range(10)])\n",
    "# +1, +2\n",
    "cf_row = start_row + 1\n",
    "for i in range(10):\n",
    "    worksheet.write_formula(cf_row, i+1, cash_flow[i], currency_format)\n",
    "    \n",
    "# +2, +3\n",
    "dr_row = start_row + 2\n",
    "discount_rate = [\"=1/(1 + $B$7)^\" + str(i) for i in range(1, 11)]\n",
    "for i in range(10):\n",
    "    worksheet.write_formula(dr_row, i+1, discount_rate[i])\n",
    "\n",
    "# +3, +4\n",
    "dv_row = start_row + 3\n",
    "discounted_value = [\"=PRODUCT(\"+chr(ord('B')+i)+str(cf_row+1)+\":\"+chr(ord('B')+i)+str(dr_row+1)+\")\" for i in range(10)]\n",
    "for i in range(10):\n",
    "    worksheet.write_formula(dv_row, i+1, discounted_value[i], currency_format)"
   ]
  },
  {
   "cell_type": "code",
   "execution_count": 247,
   "metadata": {},
   "outputs": [
    {
     "data": {
      "text/plain": [
       "0"
      ]
     },
     "execution_count": 247,
     "metadata": {},
     "output_type": "execute_result"
    }
   ],
   "source": [
    "# Intrinsic values, table 2\n",
    "worksheet.write_column('D2', [\"PV of 10 yr Cash Flows\", \"Intrinsic Value per Share\", \n",
    "                              \"- Debt per Share\", \"+ Cash per share\", \"net Cash per Share\"])\n",
    "worksheet.write_column('E2', [f\"=SUM(B{dv_row+1}:K{dv_row+1})\", \"=E2/B6\", \"=B3/B6\", \"=B4/B6\", \"=E3-E4+E5\"], colored_format)"
   ]
  },
  {
   "cell_type": "code",
   "execution_count": 248,
   "metadata": {},
   "outputs": [
    {
     "data": {
      "text/plain": [
       "0"
      ]
     },
     "execution_count": 248,
     "metadata": {},
     "output_type": "execute_result"
    }
   ],
   "source": [
    "# Stock overview, table 3\n",
    "df = maxis.overview().reset_index(drop=True)\n",
    "index = [0, 5, 6, 7, 8, 9, 11, 15]\n",
    "worksheet.write_column('G2', df.iloc[index, 0])\n",
    "worksheet.write_column('H2', df.iloc[index, 1])"
   ]
  },
  {
   "cell_type": "code",
   "execution_count": 249,
   "metadata": {},
   "outputs": [
    {
     "name": "stderr",
     "output_type": "stream",
     "text": [
      "/home/xunwei/anaconda3/envs/stock/lib/python3.8/site-packages/urllib3/connectionpool.py:997: InsecureRequestWarning: Unverified HTTPS request is being made. Adding certificate verification is strongly advised. See: https://urllib3.readthedocs.io/en/latest/advanced-usage.html#ssl-warnings\n",
      "  warnings.warn(\n"
     ]
    },
    {
     "data": {
      "text/plain": [
       "0"
      ]
     },
     "execution_count": 249,
     "metadata": {},
     "output_type": "execute_result"
    }
   ],
   "source": [
    "# report\n",
    "worksheet.write_column('A18', [maxis.growth_rate()[1], maxis.beta()[1]])"
   ]
  },
  {
   "cell_type": "code",
   "execution_count": 250,
   "metadata": {},
   "outputs": [],
   "source": [
    "workbook.close()\n",
    "# Shift + Ctrl + F9"
   ]
  },
  {
   "cell_type": "code",
   "execution_count": null,
   "metadata": {},
   "outputs": [],
   "source": []
  },
  {
   "cell_type": "markdown",
   "metadata": {},
   "source": [
    "## Rename excel"
   ]
  },
  {
   "cell_type": "code",
   "execution_count": 280,
   "metadata": {},
   "outputs": [],
   "source": [
    "import os\n",
    "import numpy as np"
   ]
  },
  {
   "cell_type": "code",
   "execution_count": 273,
   "metadata": {},
   "outputs": [],
   "source": [
    "operating_cf = search(\"Cash From Operating Activities\", maxis.cash_flow())\n",
    "shares_outstanding = search(\"Shares Outstanding\", maxis.overview())/1000000"
   ]
  },
  {
   "cell_type": "code",
   "execution_count": 278,
   "metadata": {},
   "outputs": [],
   "source": [
    "last_price = search(\"Last Price\", maxis.overview())"
   ]
  },
  {
   "cell_type": "code",
   "execution_count": 267,
   "metadata": {},
   "outputs": [],
   "source": [
    "cash_flow = []\n",
    "for i in range(1, 11):\n",
    "    operating_cf = operating_cf * (1 + maxis.growth_rate)\n",
    "    cash_flow.append(operating_cf)"
   ]
  },
  {
   "cell_type": "code",
   "execution_count": 282,
   "metadata": {},
   "outputs": [
    {
     "data": {
      "text/plain": [
       "'\\n#            rate            values      \\na =  np.npv(maxis.discount_rate, cash_flow) \\nprint(\"Net Present Value(npv) : \", a) \\n\\n(values / (1+rate)**np.arange(0, len(values))).sum(axis=0)\\n'"
      ]
     },
     "execution_count": 282,
     "metadata": {},
     "output_type": "execute_result"
    }
   ],
   "source": [
    "values = cash_flow\n",
    "rate = maxis.discount_rate\n",
    "\n",
    "npv = (values / (1+rate)**np.arange(1, len(values)+1)).sum(axis=0) / shares_outstanding\n",
    "\n",
    "'''\n",
    "#            rate            values      \n",
    "a =  np.npv(maxis.discount_rate, cash_flow) \n",
    "print(\"Net Present Value(npv) : \", a) \n",
    "\n",
    "(values / (1+rate)**np.arange(0, len(values))).sum(axis=0)\n",
    "'''"
   ]
  },
  {
   "cell_type": "code",
   "execution_count": 289,
   "metadata": {},
   "outputs": [],
   "source": [
    "os.rename(excel_name, maxis.stock_cd + \"-\" + str(round(npv, 2)) + \"-\" + str(last_price) + \".xlsx\") "
   ]
  },
  {
   "cell_type": "code",
   "execution_count": null,
   "metadata": {},
   "outputs": [],
   "source": []
  },
  {
   "cell_type": "code",
   "execution_count": 290,
   "metadata": {},
   "outputs": [
    {
     "name": "stdout",
     "output_type": "stream",
     "text": [
      "[NbConvertApp] Converting notebook Scrape_from_investing.ipynb to script\n",
      "[NbConvertApp] Writing 11719 bytes to Scrape_from_investing.py\n"
     ]
    }
   ],
   "source": [
    "!jupyter nbconvert --to script Scrape_from_investing.ipynb"
   ]
  },
  {
   "cell_type": "code",
   "execution_count": null,
   "metadata": {},
   "outputs": [],
   "source": []
  },
  {
   "cell_type": "code",
   "execution_count": null,
   "metadata": {},
   "outputs": [],
   "source": []
  }
 ],
 "metadata": {
  "kernelspec": {
   "display_name": "Python 3",
   "language": "python",
   "name": "python3"
  },
  "language_info": {
   "codemirror_mode": {
    "name": "ipython",
    "version": 3
   },
   "file_extension": ".py",
   "mimetype": "text/x-python",
   "name": "python",
   "nbconvert_exporter": "python",
   "pygments_lexer": "ipython3",
   "version": "3.8.0"
  }
 },
 "nbformat": 4,
 "nbformat_minor": 2
}
